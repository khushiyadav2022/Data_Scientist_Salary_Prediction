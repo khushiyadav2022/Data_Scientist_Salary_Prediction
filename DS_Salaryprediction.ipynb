{
  "nbformat": 4,
  "nbformat_minor": 0,
  "metadata": {
    "colab": {
      "provenance": []
    },
    "kernelspec": {
      "name": "python3",
      "display_name": "Python 3"
    },
    "language_info": {
      "name": "python"
    }
  },
  "cells": [
    {
      "cell_type": "markdown",
      "source": [
        "#Get dataset"
      ],
      "metadata": {
        "id": "O3er_QB2F0x-"
      }
    },
    {
      "cell_type": "code",
      "source": [
        "# import requried libraries\n",
        "import pandas as pd\n",
        "import numpy as np\n",
        "import matplotlib.pyplot as plt\n",
        "import seaborn as sns"
      ],
      "metadata": {
        "id": "688qqDH2L44D"
      },
      "execution_count": null,
      "outputs": []
    },
    {
      "cell_type": "code",
      "execution_count": null,
      "metadata": {
        "colab": {
          "base_uri": "https://localhost:8080/",
          "height": 250
        },
        "id": "mFHpKfmsAFg1",
        "outputId": "7782bb1c-aaf5-4b32-9dad-713447e6c24f"
      },
      "outputs": [
        {
          "output_type": "execute_result",
          "data": {
            "text/plain": [
              "   Unnamed: 0  work_year experience_level employment_type  \\\n",
              "0           0       2020               MI              FT   \n",
              "1           1       2020               SE              FT   \n",
              "2           2       2020               SE              FT   \n",
              "3           3       2020               MI              FT   \n",
              "4           4       2020               SE              FT   \n",
              "\n",
              "                    job_title  salary salary_currency  salary_in_usd  \\\n",
              "0              Data Scientist   70000             EUR          79833   \n",
              "1  Machine Learning Scientist  260000             USD         260000   \n",
              "2           Big Data Engineer   85000             GBP         109024   \n",
              "3        Product Data Analyst   20000             USD          20000   \n",
              "4   Machine Learning Engineer  150000             USD         150000   \n",
              "\n",
              "  employee_residence  remote_ratio company_location company_size  \n",
              "0                 DE             0               DE            L  \n",
              "1                 JP             0               JP            S  \n",
              "2                 GB            50               GB            M  \n",
              "3                 HN             0               HN            S  \n",
              "4                 US            50               US            L  "
            ],
            "text/html": [
              "\n",
              "  <div id=\"df-c88fc6d7-796d-4e94-9030-90b1e0ace7c3\">\n",
              "    <div class=\"colab-df-container\">\n",
              "      <div>\n",
              "<style scoped>\n",
              "    .dataframe tbody tr th:only-of-type {\n",
              "        vertical-align: middle;\n",
              "    }\n",
              "\n",
              "    .dataframe tbody tr th {\n",
              "        vertical-align: top;\n",
              "    }\n",
              "\n",
              "    .dataframe thead th {\n",
              "        text-align: right;\n",
              "    }\n",
              "</style>\n",
              "<table border=\"1\" class=\"dataframe\">\n",
              "  <thead>\n",
              "    <tr style=\"text-align: right;\">\n",
              "      <th></th>\n",
              "      <th>Unnamed: 0</th>\n",
              "      <th>work_year</th>\n",
              "      <th>experience_level</th>\n",
              "      <th>employment_type</th>\n",
              "      <th>job_title</th>\n",
              "      <th>salary</th>\n",
              "      <th>salary_currency</th>\n",
              "      <th>salary_in_usd</th>\n",
              "      <th>employee_residence</th>\n",
              "      <th>remote_ratio</th>\n",
              "      <th>company_location</th>\n",
              "      <th>company_size</th>\n",
              "    </tr>\n",
              "  </thead>\n",
              "  <tbody>\n",
              "    <tr>\n",
              "      <th>0</th>\n",
              "      <td>0</td>\n",
              "      <td>2020</td>\n",
              "      <td>MI</td>\n",
              "      <td>FT</td>\n",
              "      <td>Data Scientist</td>\n",
              "      <td>70000</td>\n",
              "      <td>EUR</td>\n",
              "      <td>79833</td>\n",
              "      <td>DE</td>\n",
              "      <td>0</td>\n",
              "      <td>DE</td>\n",
              "      <td>L</td>\n",
              "    </tr>\n",
              "    <tr>\n",
              "      <th>1</th>\n",
              "      <td>1</td>\n",
              "      <td>2020</td>\n",
              "      <td>SE</td>\n",
              "      <td>FT</td>\n",
              "      <td>Machine Learning Scientist</td>\n",
              "      <td>260000</td>\n",
              "      <td>USD</td>\n",
              "      <td>260000</td>\n",
              "      <td>JP</td>\n",
              "      <td>0</td>\n",
              "      <td>JP</td>\n",
              "      <td>S</td>\n",
              "    </tr>\n",
              "    <tr>\n",
              "      <th>2</th>\n",
              "      <td>2</td>\n",
              "      <td>2020</td>\n",
              "      <td>SE</td>\n",
              "      <td>FT</td>\n",
              "      <td>Big Data Engineer</td>\n",
              "      <td>85000</td>\n",
              "      <td>GBP</td>\n",
              "      <td>109024</td>\n",
              "      <td>GB</td>\n",
              "      <td>50</td>\n",
              "      <td>GB</td>\n",
              "      <td>M</td>\n",
              "    </tr>\n",
              "    <tr>\n",
              "      <th>3</th>\n",
              "      <td>3</td>\n",
              "      <td>2020</td>\n",
              "      <td>MI</td>\n",
              "      <td>FT</td>\n",
              "      <td>Product Data Analyst</td>\n",
              "      <td>20000</td>\n",
              "      <td>USD</td>\n",
              "      <td>20000</td>\n",
              "      <td>HN</td>\n",
              "      <td>0</td>\n",
              "      <td>HN</td>\n",
              "      <td>S</td>\n",
              "    </tr>\n",
              "    <tr>\n",
              "      <th>4</th>\n",
              "      <td>4</td>\n",
              "      <td>2020</td>\n",
              "      <td>SE</td>\n",
              "      <td>FT</td>\n",
              "      <td>Machine Learning Engineer</td>\n",
              "      <td>150000</td>\n",
              "      <td>USD</td>\n",
              "      <td>150000</td>\n",
              "      <td>US</td>\n",
              "      <td>50</td>\n",
              "      <td>US</td>\n",
              "      <td>L</td>\n",
              "    </tr>\n",
              "  </tbody>\n",
              "</table>\n",
              "</div>\n",
              "      <button class=\"colab-df-convert\" onclick=\"convertToInteractive('df-c88fc6d7-796d-4e94-9030-90b1e0ace7c3')\"\n",
              "              title=\"Convert this dataframe to an interactive table.\"\n",
              "              style=\"display:none;\">\n",
              "        \n",
              "  <svg xmlns=\"http://www.w3.org/2000/svg\" height=\"24px\"viewBox=\"0 0 24 24\"\n",
              "       width=\"24px\">\n",
              "    <path d=\"M0 0h24v24H0V0z\" fill=\"none\"/>\n",
              "    <path d=\"M18.56 5.44l.94 2.06.94-2.06 2.06-.94-2.06-.94-.94-2.06-.94 2.06-2.06.94zm-11 1L8.5 8.5l.94-2.06 2.06-.94-2.06-.94L8.5 2.5l-.94 2.06-2.06.94zm10 10l.94 2.06.94-2.06 2.06-.94-2.06-.94-.94-2.06-.94 2.06-2.06.94z\"/><path d=\"M17.41 7.96l-1.37-1.37c-.4-.4-.92-.59-1.43-.59-.52 0-1.04.2-1.43.59L10.3 9.45l-7.72 7.72c-.78.78-.78 2.05 0 2.83L4 21.41c.39.39.9.59 1.41.59.51 0 1.02-.2 1.41-.59l7.78-7.78 2.81-2.81c.8-.78.8-2.07 0-2.86zM5.41 20L4 18.59l7.72-7.72 1.47 1.35L5.41 20z\"/>\n",
              "  </svg>\n",
              "      </button>\n",
              "      \n",
              "  <style>\n",
              "    .colab-df-container {\n",
              "      display:flex;\n",
              "      flex-wrap:wrap;\n",
              "      gap: 12px;\n",
              "    }\n",
              "\n",
              "    .colab-df-convert {\n",
              "      background-color: #E8F0FE;\n",
              "      border: none;\n",
              "      border-radius: 50%;\n",
              "      cursor: pointer;\n",
              "      display: none;\n",
              "      fill: #1967D2;\n",
              "      height: 32px;\n",
              "      padding: 0 0 0 0;\n",
              "      width: 32px;\n",
              "    }\n",
              "\n",
              "    .colab-df-convert:hover {\n",
              "      background-color: #E2EBFA;\n",
              "      box-shadow: 0px 1px 2px rgba(60, 64, 67, 0.3), 0px 1px 3px 1px rgba(60, 64, 67, 0.15);\n",
              "      fill: #174EA6;\n",
              "    }\n",
              "\n",
              "    [theme=dark] .colab-df-convert {\n",
              "      background-color: #3B4455;\n",
              "      fill: #D2E3FC;\n",
              "    }\n",
              "\n",
              "    [theme=dark] .colab-df-convert:hover {\n",
              "      background-color: #434B5C;\n",
              "      box-shadow: 0px 1px 3px 1px rgba(0, 0, 0, 0.15);\n",
              "      filter: drop-shadow(0px 1px 2px rgba(0, 0, 0, 0.3));\n",
              "      fill: #FFFFFF;\n",
              "    }\n",
              "  </style>\n",
              "\n",
              "      <script>\n",
              "        const buttonEl =\n",
              "          document.querySelector('#df-c88fc6d7-796d-4e94-9030-90b1e0ace7c3 button.colab-df-convert');\n",
              "        buttonEl.style.display =\n",
              "          google.colab.kernel.accessAllowed ? 'block' : 'none';\n",
              "\n",
              "        async function convertToInteractive(key) {\n",
              "          const element = document.querySelector('#df-c88fc6d7-796d-4e94-9030-90b1e0ace7c3');\n",
              "          const dataTable =\n",
              "            await google.colab.kernel.invokeFunction('convertToInteractive',\n",
              "                                                     [key], {});\n",
              "          if (!dataTable) return;\n",
              "\n",
              "          const docLinkHtml = 'Like what you see? Visit the ' +\n",
              "            '<a target=\"_blank\" href=https://colab.research.google.com/notebooks/data_table.ipynb>data table notebook</a>'\n",
              "            + ' to learn more about interactive tables.';\n",
              "          element.innerHTML = '';\n",
              "          dataTable['output_type'] = 'display_data';\n",
              "          await google.colab.output.renderOutput(dataTable, element);\n",
              "          const docLink = document.createElement('div');\n",
              "          docLink.innerHTML = docLinkHtml;\n",
              "          element.appendChild(docLink);\n",
              "        }\n",
              "      </script>\n",
              "    </div>\n",
              "  </div>\n",
              "  "
            ]
          },
          "metadata": {},
          "execution_count": 503
        }
      ],
      "source": [
        "# df=pd.read_csv(\"\")\n",
        "df=pd.read_csv(\"ds_salaries.csv\")\n",
        "df.head()"
      ]
    },
    {
      "cell_type": "markdown",
      "source": [
        "## Data Preprocessing"
      ],
      "metadata": {
        "id": "fnelUKd_K-R1"
      }
    },
    {
      "cell_type": "code",
      "source": [
        "df.info()"
      ],
      "metadata": {
        "colab": {
          "base_uri": "https://localhost:8080/"
        },
        "id": "q49jRZCtBkuI",
        "outputId": "f3a2ba43-48ae-4883-ae40-0938fe803ae9"
      },
      "execution_count": null,
      "outputs": [
        {
          "output_type": "stream",
          "name": "stdout",
          "text": [
            "<class 'pandas.core.frame.DataFrame'>\n",
            "RangeIndex: 607 entries, 0 to 606\n",
            "Data columns (total 12 columns):\n",
            " #   Column              Non-Null Count  Dtype \n",
            "---  ------              --------------  ----- \n",
            " 0   Unnamed: 0          607 non-null    int64 \n",
            " 1   work_year           607 non-null    int64 \n",
            " 2   experience_level    607 non-null    object\n",
            " 3   employment_type     607 non-null    object\n",
            " 4   job_title           607 non-null    object\n",
            " 5   salary              607 non-null    int64 \n",
            " 6   salary_currency     607 non-null    object\n",
            " 7   salary_in_usd       607 non-null    int64 \n",
            " 8   employee_residence  607 non-null    object\n",
            " 9   remote_ratio        607 non-null    int64 \n",
            " 10  company_location    607 non-null    object\n",
            " 11  company_size        607 non-null    object\n",
            "dtypes: int64(5), object(7)\n",
            "memory usage: 57.0+ KB\n"
          ]
        }
      ]
    },
    {
      "cell_type": "markdown",
      "source": [
        "No null value here so we are going further."
      ],
      "metadata": {
        "id": "umkFXteEMgLB"
      }
    },
    {
      "cell_type": "code",
      "source": [
        "df.drop('Unnamed: 0',axis=1,inplace=True)       #remove unanmed: 0  bcoz  of no use\n",
        "df.head()"
      ],
      "metadata": {
        "colab": {
          "base_uri": "https://localhost:8080/",
          "height": 206
        },
        "id": "_Rt-0-60Jtpw",
        "outputId": "336445ad-658b-42f5-ed99-e92164c8cae4"
      },
      "execution_count": null,
      "outputs": [
        {
          "output_type": "execute_result",
          "data": {
            "text/plain": [
              "   work_year experience_level employment_type                   job_title  \\\n",
              "0       2020               MI              FT              Data Scientist   \n",
              "1       2020               SE              FT  Machine Learning Scientist   \n",
              "2       2020               SE              FT           Big Data Engineer   \n",
              "3       2020               MI              FT        Product Data Analyst   \n",
              "4       2020               SE              FT   Machine Learning Engineer   \n",
              "\n",
              "   salary salary_currency  salary_in_usd employee_residence  remote_ratio  \\\n",
              "0   70000             EUR          79833                 DE             0   \n",
              "1  260000             USD         260000                 JP             0   \n",
              "2   85000             GBP         109024                 GB            50   \n",
              "3   20000             USD          20000                 HN             0   \n",
              "4  150000             USD         150000                 US            50   \n",
              "\n",
              "  company_location company_size  \n",
              "0               DE            L  \n",
              "1               JP            S  \n",
              "2               GB            M  \n",
              "3               HN            S  \n",
              "4               US            L  "
            ],
            "text/html": [
              "\n",
              "  <div id=\"df-035f689f-dcc4-481b-a3e8-672f08a3e431\">\n",
              "    <div class=\"colab-df-container\">\n",
              "      <div>\n",
              "<style scoped>\n",
              "    .dataframe tbody tr th:only-of-type {\n",
              "        vertical-align: middle;\n",
              "    }\n",
              "\n",
              "    .dataframe tbody tr th {\n",
              "        vertical-align: top;\n",
              "    }\n",
              "\n",
              "    .dataframe thead th {\n",
              "        text-align: right;\n",
              "    }\n",
              "</style>\n",
              "<table border=\"1\" class=\"dataframe\">\n",
              "  <thead>\n",
              "    <tr style=\"text-align: right;\">\n",
              "      <th></th>\n",
              "      <th>work_year</th>\n",
              "      <th>experience_level</th>\n",
              "      <th>employment_type</th>\n",
              "      <th>job_title</th>\n",
              "      <th>salary</th>\n",
              "      <th>salary_currency</th>\n",
              "      <th>salary_in_usd</th>\n",
              "      <th>employee_residence</th>\n",
              "      <th>remote_ratio</th>\n",
              "      <th>company_location</th>\n",
              "      <th>company_size</th>\n",
              "    </tr>\n",
              "  </thead>\n",
              "  <tbody>\n",
              "    <tr>\n",
              "      <th>0</th>\n",
              "      <td>2020</td>\n",
              "      <td>MI</td>\n",
              "      <td>FT</td>\n",
              "      <td>Data Scientist</td>\n",
              "      <td>70000</td>\n",
              "      <td>EUR</td>\n",
              "      <td>79833</td>\n",
              "      <td>DE</td>\n",
              "      <td>0</td>\n",
              "      <td>DE</td>\n",
              "      <td>L</td>\n",
              "    </tr>\n",
              "    <tr>\n",
              "      <th>1</th>\n",
              "      <td>2020</td>\n",
              "      <td>SE</td>\n",
              "      <td>FT</td>\n",
              "      <td>Machine Learning Scientist</td>\n",
              "      <td>260000</td>\n",
              "      <td>USD</td>\n",
              "      <td>260000</td>\n",
              "      <td>JP</td>\n",
              "      <td>0</td>\n",
              "      <td>JP</td>\n",
              "      <td>S</td>\n",
              "    </tr>\n",
              "    <tr>\n",
              "      <th>2</th>\n",
              "      <td>2020</td>\n",
              "      <td>SE</td>\n",
              "      <td>FT</td>\n",
              "      <td>Big Data Engineer</td>\n",
              "      <td>85000</td>\n",
              "      <td>GBP</td>\n",
              "      <td>109024</td>\n",
              "      <td>GB</td>\n",
              "      <td>50</td>\n",
              "      <td>GB</td>\n",
              "      <td>M</td>\n",
              "    </tr>\n",
              "    <tr>\n",
              "      <th>3</th>\n",
              "      <td>2020</td>\n",
              "      <td>MI</td>\n",
              "      <td>FT</td>\n",
              "      <td>Product Data Analyst</td>\n",
              "      <td>20000</td>\n",
              "      <td>USD</td>\n",
              "      <td>20000</td>\n",
              "      <td>HN</td>\n",
              "      <td>0</td>\n",
              "      <td>HN</td>\n",
              "      <td>S</td>\n",
              "    </tr>\n",
              "    <tr>\n",
              "      <th>4</th>\n",
              "      <td>2020</td>\n",
              "      <td>SE</td>\n",
              "      <td>FT</td>\n",
              "      <td>Machine Learning Engineer</td>\n",
              "      <td>150000</td>\n",
              "      <td>USD</td>\n",
              "      <td>150000</td>\n",
              "      <td>US</td>\n",
              "      <td>50</td>\n",
              "      <td>US</td>\n",
              "      <td>L</td>\n",
              "    </tr>\n",
              "  </tbody>\n",
              "</table>\n",
              "</div>\n",
              "      <button class=\"colab-df-convert\" onclick=\"convertToInteractive('df-035f689f-dcc4-481b-a3e8-672f08a3e431')\"\n",
              "              title=\"Convert this dataframe to an interactive table.\"\n",
              "              style=\"display:none;\">\n",
              "        \n",
              "  <svg xmlns=\"http://www.w3.org/2000/svg\" height=\"24px\"viewBox=\"0 0 24 24\"\n",
              "       width=\"24px\">\n",
              "    <path d=\"M0 0h24v24H0V0z\" fill=\"none\"/>\n",
              "    <path d=\"M18.56 5.44l.94 2.06.94-2.06 2.06-.94-2.06-.94-.94-2.06-.94 2.06-2.06.94zm-11 1L8.5 8.5l.94-2.06 2.06-.94-2.06-.94L8.5 2.5l-.94 2.06-2.06.94zm10 10l.94 2.06.94-2.06 2.06-.94-2.06-.94-.94-2.06-.94 2.06-2.06.94z\"/><path d=\"M17.41 7.96l-1.37-1.37c-.4-.4-.92-.59-1.43-.59-.52 0-1.04.2-1.43.59L10.3 9.45l-7.72 7.72c-.78.78-.78 2.05 0 2.83L4 21.41c.39.39.9.59 1.41.59.51 0 1.02-.2 1.41-.59l7.78-7.78 2.81-2.81c.8-.78.8-2.07 0-2.86zM5.41 20L4 18.59l7.72-7.72 1.47 1.35L5.41 20z\"/>\n",
              "  </svg>\n",
              "      </button>\n",
              "      \n",
              "  <style>\n",
              "    .colab-df-container {\n",
              "      display:flex;\n",
              "      flex-wrap:wrap;\n",
              "      gap: 12px;\n",
              "    }\n",
              "\n",
              "    .colab-df-convert {\n",
              "      background-color: #E8F0FE;\n",
              "      border: none;\n",
              "      border-radius: 50%;\n",
              "      cursor: pointer;\n",
              "      display: none;\n",
              "      fill: #1967D2;\n",
              "      height: 32px;\n",
              "      padding: 0 0 0 0;\n",
              "      width: 32px;\n",
              "    }\n",
              "\n",
              "    .colab-df-convert:hover {\n",
              "      background-color: #E2EBFA;\n",
              "      box-shadow: 0px 1px 2px rgba(60, 64, 67, 0.3), 0px 1px 3px 1px rgba(60, 64, 67, 0.15);\n",
              "      fill: #174EA6;\n",
              "    }\n",
              "\n",
              "    [theme=dark] .colab-df-convert {\n",
              "      background-color: #3B4455;\n",
              "      fill: #D2E3FC;\n",
              "    }\n",
              "\n",
              "    [theme=dark] .colab-df-convert:hover {\n",
              "      background-color: #434B5C;\n",
              "      box-shadow: 0px 1px 3px 1px rgba(0, 0, 0, 0.15);\n",
              "      filter: drop-shadow(0px 1px 2px rgba(0, 0, 0, 0.3));\n",
              "      fill: #FFFFFF;\n",
              "    }\n",
              "  </style>\n",
              "\n",
              "      <script>\n",
              "        const buttonEl =\n",
              "          document.querySelector('#df-035f689f-dcc4-481b-a3e8-672f08a3e431 button.colab-df-convert');\n",
              "        buttonEl.style.display =\n",
              "          google.colab.kernel.accessAllowed ? 'block' : 'none';\n",
              "\n",
              "        async function convertToInteractive(key) {\n",
              "          const element = document.querySelector('#df-035f689f-dcc4-481b-a3e8-672f08a3e431');\n",
              "          const dataTable =\n",
              "            await google.colab.kernel.invokeFunction('convertToInteractive',\n",
              "                                                     [key], {});\n",
              "          if (!dataTable) return;\n",
              "\n",
              "          const docLinkHtml = 'Like what you see? Visit the ' +\n",
              "            '<a target=\"_blank\" href=https://colab.research.google.com/notebooks/data_table.ipynb>data table notebook</a>'\n",
              "            + ' to learn more about interactive tables.';\n",
              "          element.innerHTML = '';\n",
              "          dataTable['output_type'] = 'display_data';\n",
              "          await google.colab.output.renderOutput(dataTable, element);\n",
              "          const docLink = document.createElement('div');\n",
              "          docLink.innerHTML = docLinkHtml;\n",
              "          element.appendChild(docLink);\n",
              "        }\n",
              "      </script>\n",
              "    </div>\n",
              "  </div>\n",
              "  "
            ]
          },
          "metadata": {},
          "execution_count": 505
        }
      ]
    },
    {
      "cell_type": "code",
      "source": [
        "df.shape"
      ],
      "metadata": {
        "colab": {
          "base_uri": "https://localhost:8080/"
        },
        "id": "_tM9IIyfLs7f",
        "outputId": "d8bd5deb-50f8-4672-d575-0581ce6427ad"
      },
      "execution_count": null,
      "outputs": [
        {
          "output_type": "execute_result",
          "data": {
            "text/plain": [
              "(607, 11)"
            ]
          },
          "metadata": {},
          "execution_count": 506
        }
      ]
    },
    {
      "cell_type": "code",
      "source": [
        "#Experience level-effect a lot on job salary so analysis it more \n",
        "df['experience_level'].unique()"
      ],
      "metadata": {
        "colab": {
          "base_uri": "https://localhost:8080/"
        },
        "id": "3bDMe2RNHF6K",
        "outputId": "f52e7dd6-040a-4e0b-bcca-c880153d216e"
      },
      "execution_count": null,
      "outputs": [
        {
          "output_type": "execute_result",
          "data": {
            "text/plain": [
              "array(['MI', 'SE', 'EN', 'EX'], dtype=object)"
            ]
          },
          "metadata": {},
          "execution_count": 507
        }
      ]
    },
    {
      "cell_type": "code",
      "source": [
        "df['experience_level'].value_counts()"
      ],
      "metadata": {
        "colab": {
          "base_uri": "https://localhost:8080/"
        },
        "id": "ZKgAf1d7NAY_",
        "outputId": "369bae93-8aa9-42aa-9920-6e078382bb61"
      },
      "execution_count": null,
      "outputs": [
        {
          "output_type": "execute_result",
          "data": {
            "text/plain": [
              "SE    280\n",
              "MI    213\n",
              "EN     88\n",
              "EX     26\n",
              "Name: experience_level, dtype: int64"
            ]
          },
          "metadata": {},
          "execution_count": 508
        }
      ]
    },
    {
      "cell_type": "code",
      "source": [
        "#replacing abbrevations\n",
        "df['experience_level'] = df['experience_level'].map({\n",
        "    'SE': 'Senior',\n",
        "    'MI': 'Mid',\n",
        "    'EN': 'Entry',\n",
        "    'EX': 'Executive'\n",
        "})\n"
      ],
      "metadata": {
        "id": "1ZHu4GW2NqPY"
      },
      "execution_count": null,
      "outputs": []
    },
    {
      "cell_type": "code",
      "source": [
        "#replacing abbrevations\n",
        "df['experience_level'].unique()"
      ],
      "metadata": {
        "colab": {
          "base_uri": "https://localhost:8080/"
        },
        "id": "6CrrLwzuOF02",
        "outputId": "c469facc-0c7d-46c6-8402-cb51ba7c2260"
      },
      "execution_count": null,
      "outputs": [
        {
          "output_type": "execute_result",
          "data": {
            "text/plain": [
              "array(['Mid', 'Senior', 'Entry', 'Executive'], dtype=object)"
            ]
          },
          "metadata": {},
          "execution_count": 510
        }
      ]
    },
    {
      "cell_type": "code",
      "source": [
        "# employment type\n",
        "df['employment_type'].value_counts()"
      ],
      "metadata": {
        "colab": {
          "base_uri": "https://localhost:8080/"
        },
        "id": "a6g6CmMxOT5P",
        "outputId": "3f7f325f-9583-46ef-dc5b-57087570bd4d"
      },
      "execution_count": null,
      "outputs": [
        {
          "output_type": "execute_result",
          "data": {
            "text/plain": [
              "FT    588\n",
              "PT     10\n",
              "CT      5\n",
              "FL      4\n",
              "Name: employment_type, dtype: int64"
            ]
          },
          "metadata": {},
          "execution_count": 511
        }
      ]
    },
    {
      "cell_type": "code",
      "source": [
        "#replacing abbrevations\n",
        "df['employment_type'] = df['employment_type'].map({\n",
        "    'FT': 'Full-time',\n",
        "    'PT': 'Part-time',\n",
        "    'CT': 'Contract',\n",
        "    'FL': 'Freelance'\n",
        "})"
      ],
      "metadata": {
        "id": "-rxLayhkOWvg"
      },
      "execution_count": null,
      "outputs": []
    },
    {
      "cell_type": "code",
      "source": [
        "df['job_title'].unique()"
      ],
      "metadata": {
        "colab": {
          "base_uri": "https://localhost:8080/"
        },
        "id": "--tdW-MSId_B",
        "outputId": "6391e0ab-9cca-4eb5-af0d-b9e557cabf6b"
      },
      "execution_count": null,
      "outputs": [
        {
          "output_type": "execute_result",
          "data": {
            "text/plain": [
              "array(['Data Scientist', 'Machine Learning Scientist',\n",
              "       'Big Data Engineer', 'Product Data Analyst',\n",
              "       'Machine Learning Engineer', 'Data Analyst', 'Lead Data Scientist',\n",
              "       'Business Data Analyst', 'Lead Data Engineer', 'Lead Data Analyst',\n",
              "       'Data Engineer', 'Data Science Consultant', 'BI Data Analyst',\n",
              "       'Director of Data Science', 'Research Scientist',\n",
              "       'Machine Learning Manager', 'Data Engineering Manager',\n",
              "       'Machine Learning Infrastructure Engineer', 'ML Engineer',\n",
              "       'AI Scientist', 'Computer Vision Engineer',\n",
              "       'Principal Data Scientist', 'Data Science Manager', 'Head of Data',\n",
              "       '3D Computer Vision Researcher', 'Data Analytics Engineer',\n",
              "       'Applied Data Scientist', 'Marketing Data Analyst',\n",
              "       'Cloud Data Engineer', 'Financial Data Analyst',\n",
              "       'Computer Vision Software Engineer',\n",
              "       'Director of Data Engineering', 'Data Science Engineer',\n",
              "       'Principal Data Engineer', 'Machine Learning Developer',\n",
              "       'Applied Machine Learning Scientist', 'Data Analytics Manager',\n",
              "       'Head of Data Science', 'Data Specialist', 'Data Architect',\n",
              "       'Finance Data Analyst', 'Principal Data Analyst',\n",
              "       'Big Data Architect', 'Staff Data Scientist', 'Analytics Engineer',\n",
              "       'ETL Developer', 'Head of Machine Learning', 'NLP Engineer',\n",
              "       'Lead Machine Learning Engineer', 'Data Analytics Lead'],\n",
              "      dtype=object)"
            ]
          },
          "metadata": {},
          "execution_count": 513
        }
      ]
    },
    {
      "cell_type": "code",
      "source": [
        "# company size\n",
        "df['company_size'].value_counts()"
      ],
      "metadata": {
        "colab": {
          "base_uri": "https://localhost:8080/"
        },
        "id": "_eTRg_n8JAL_",
        "outputId": "42f5f37c-ee50-417a-9d9d-351cf4d691b4"
      },
      "execution_count": null,
      "outputs": [
        {
          "output_type": "execute_result",
          "data": {
            "text/plain": [
              "M    326\n",
              "L    198\n",
              "S     83\n",
              "Name: company_size, dtype: int64"
            ]
          },
          "metadata": {},
          "execution_count": 514
        }
      ]
    },
    {
      "cell_type": "code",
      "source": [
        "#replacing abbrevations\n",
        "df['company_size'] = df['company_size'].map({\n",
        "    'S': 'Small',\n",
        "    'M': 'Medium',\n",
        "    'L': 'Large'\n",
        "})"
      ],
      "metadata": {
        "id": "sANl1Wa_MUr0"
      },
      "execution_count": null,
      "outputs": []
    },
    {
      "cell_type": "code",
      "source": [
        "# drop salary and salary_currency features (salary_in_usd is enough to keep on)\n",
        "df.drop(['salary', 'salary_currency'], axis=1, inplace=True)\n",
        "\n",
        "# rename salary_in_usd to salary\n",
        "df.rename(columns={'salary_in_usd': 'salary'}, inplace=True)"
      ],
      "metadata": {
        "id": "7rMDT4-CO2eV"
      },
      "execution_count": null,
      "outputs": []
    },
    {
      "cell_type": "code",
      "source": [
        "#work year\n",
        "df['work_year'].value_counts()"
      ],
      "metadata": {
        "colab": {
          "base_uri": "https://localhost:8080/"
        },
        "id": "MaFHuuprPSGF",
        "outputId": "61747399-c3b9-44d0-be17-be6040b0a81b"
      },
      "execution_count": null,
      "outputs": [
        {
          "output_type": "execute_result",
          "data": {
            "text/plain": [
              "2022    318\n",
              "2021    217\n",
              "2020     72\n",
              "Name: work_year, dtype: int64"
            ]
          },
          "metadata": {},
          "execution_count": 517
        }
      ]
    },
    {
      "cell_type": "code",
      "source": [
        "#remote ratio\n",
        "df['remote_ratio'].value_counts()"
      ],
      "metadata": {
        "colab": {
          "base_uri": "https://localhost:8080/"
        },
        "id": "zv-5UzTLPY59",
        "outputId": "186bf4bc-ec79-40f3-d5c6-e663cddfad2c"
      },
      "execution_count": null,
      "outputs": [
        {
          "output_type": "execute_result",
          "data": {
            "text/plain": [
              "100    381\n",
              "0      127\n",
              "50      99\n",
              "Name: remote_ratio, dtype: int64"
            ]
          },
          "metadata": {},
          "execution_count": 518
        }
      ]
    },
    {
      "cell_type": "code",
      "source": [
        "# renmame remote_ratio to job_type\n",
        "df.rename(columns={'remote_ratio': 'job_type'}, inplace=True)\n",
        "\n",
        "# change 100 to remote, 0 to onsite, 50 to hybrid\n",
        "df['job_type'] = df['job_type'].map({\n",
        "    100: 'remote',\n",
        "    0: 'onsite',\n",
        "    50: 'hybrid',\n",
        "})"
      ],
      "metadata": {
        "id": "p8_qE58sPn9M"
      },
      "execution_count": null,
      "outputs": []
    },
    {
      "cell_type": "code",
      "source": [
        "df['job_type'].value_counts()"
      ],
      "metadata": {
        "colab": {
          "base_uri": "https://localhost:8080/"
        },
        "id": "O2-mlF1hQBD_",
        "outputId": "2bdb0e13-ea82-4493-be37-4658b1c23f23"
      },
      "execution_count": null,
      "outputs": [
        {
          "output_type": "execute_result",
          "data": {
            "text/plain": [
              "remote    381\n",
              "onsite    127\n",
              "hybrid     99\n",
              "Name: job_type, dtype: int64"
            ]
          },
          "metadata": {},
          "execution_count": 520
        }
      ]
    },
    {
      "cell_type": "code",
      "source": [
        "df.columns"
      ],
      "metadata": {
        "colab": {
          "base_uri": "https://localhost:8080/"
        },
        "id": "SFmxrRw0QEt7",
        "outputId": "c20028a4-ab7b-4377-b333-358596fce964"
      },
      "execution_count": null,
      "outputs": [
        {
          "output_type": "execute_result",
          "data": {
            "text/plain": [
              "Index(['work_year', 'experience_level', 'employment_type', 'job_title',\n",
              "       'salary', 'employee_residence', 'job_type', 'company_location',\n",
              "       'company_size'],\n",
              "      dtype='object')"
            ]
          },
          "metadata": {},
          "execution_count": 521
        }
      ]
    },
    {
      "cell_type": "code",
      "source": [
        "df.head()"
      ],
      "metadata": {
        "colab": {
          "base_uri": "https://localhost:8080/",
          "height": 206
        },
        "id": "JJoy0uuKQWuA",
        "outputId": "a66a9359-9fc9-4cc2-85d3-189f70c2d8aa"
      },
      "execution_count": null,
      "outputs": [
        {
          "output_type": "execute_result",
          "data": {
            "text/plain": [
              "   work_year experience_level employment_type                   job_title  \\\n",
              "0       2020              Mid       Full-time              Data Scientist   \n",
              "1       2020           Senior       Full-time  Machine Learning Scientist   \n",
              "2       2020           Senior       Full-time           Big Data Engineer   \n",
              "3       2020              Mid       Full-time        Product Data Analyst   \n",
              "4       2020           Senior       Full-time   Machine Learning Engineer   \n",
              "\n",
              "   salary employee_residence job_type company_location company_size  \n",
              "0   79833                 DE   onsite               DE        Large  \n",
              "1  260000                 JP   onsite               JP        Small  \n",
              "2  109024                 GB   hybrid               GB       Medium  \n",
              "3   20000                 HN   onsite               HN        Small  \n",
              "4  150000                 US   hybrid               US        Large  "
            ],
            "text/html": [
              "\n",
              "  <div id=\"df-b5435a46-193f-4544-aa7e-cd494b43a32b\">\n",
              "    <div class=\"colab-df-container\">\n",
              "      <div>\n",
              "<style scoped>\n",
              "    .dataframe tbody tr th:only-of-type {\n",
              "        vertical-align: middle;\n",
              "    }\n",
              "\n",
              "    .dataframe tbody tr th {\n",
              "        vertical-align: top;\n",
              "    }\n",
              "\n",
              "    .dataframe thead th {\n",
              "        text-align: right;\n",
              "    }\n",
              "</style>\n",
              "<table border=\"1\" class=\"dataframe\">\n",
              "  <thead>\n",
              "    <tr style=\"text-align: right;\">\n",
              "      <th></th>\n",
              "      <th>work_year</th>\n",
              "      <th>experience_level</th>\n",
              "      <th>employment_type</th>\n",
              "      <th>job_title</th>\n",
              "      <th>salary</th>\n",
              "      <th>employee_residence</th>\n",
              "      <th>job_type</th>\n",
              "      <th>company_location</th>\n",
              "      <th>company_size</th>\n",
              "    </tr>\n",
              "  </thead>\n",
              "  <tbody>\n",
              "    <tr>\n",
              "      <th>0</th>\n",
              "      <td>2020</td>\n",
              "      <td>Mid</td>\n",
              "      <td>Full-time</td>\n",
              "      <td>Data Scientist</td>\n",
              "      <td>79833</td>\n",
              "      <td>DE</td>\n",
              "      <td>onsite</td>\n",
              "      <td>DE</td>\n",
              "      <td>Large</td>\n",
              "    </tr>\n",
              "    <tr>\n",
              "      <th>1</th>\n",
              "      <td>2020</td>\n",
              "      <td>Senior</td>\n",
              "      <td>Full-time</td>\n",
              "      <td>Machine Learning Scientist</td>\n",
              "      <td>260000</td>\n",
              "      <td>JP</td>\n",
              "      <td>onsite</td>\n",
              "      <td>JP</td>\n",
              "      <td>Small</td>\n",
              "    </tr>\n",
              "    <tr>\n",
              "      <th>2</th>\n",
              "      <td>2020</td>\n",
              "      <td>Senior</td>\n",
              "      <td>Full-time</td>\n",
              "      <td>Big Data Engineer</td>\n",
              "      <td>109024</td>\n",
              "      <td>GB</td>\n",
              "      <td>hybrid</td>\n",
              "      <td>GB</td>\n",
              "      <td>Medium</td>\n",
              "    </tr>\n",
              "    <tr>\n",
              "      <th>3</th>\n",
              "      <td>2020</td>\n",
              "      <td>Mid</td>\n",
              "      <td>Full-time</td>\n",
              "      <td>Product Data Analyst</td>\n",
              "      <td>20000</td>\n",
              "      <td>HN</td>\n",
              "      <td>onsite</td>\n",
              "      <td>HN</td>\n",
              "      <td>Small</td>\n",
              "    </tr>\n",
              "    <tr>\n",
              "      <th>4</th>\n",
              "      <td>2020</td>\n",
              "      <td>Senior</td>\n",
              "      <td>Full-time</td>\n",
              "      <td>Machine Learning Engineer</td>\n",
              "      <td>150000</td>\n",
              "      <td>US</td>\n",
              "      <td>hybrid</td>\n",
              "      <td>US</td>\n",
              "      <td>Large</td>\n",
              "    </tr>\n",
              "  </tbody>\n",
              "</table>\n",
              "</div>\n",
              "      <button class=\"colab-df-convert\" onclick=\"convertToInteractive('df-b5435a46-193f-4544-aa7e-cd494b43a32b')\"\n",
              "              title=\"Convert this dataframe to an interactive table.\"\n",
              "              style=\"display:none;\">\n",
              "        \n",
              "  <svg xmlns=\"http://www.w3.org/2000/svg\" height=\"24px\"viewBox=\"0 0 24 24\"\n",
              "       width=\"24px\">\n",
              "    <path d=\"M0 0h24v24H0V0z\" fill=\"none\"/>\n",
              "    <path d=\"M18.56 5.44l.94 2.06.94-2.06 2.06-.94-2.06-.94-.94-2.06-.94 2.06-2.06.94zm-11 1L8.5 8.5l.94-2.06 2.06-.94-2.06-.94L8.5 2.5l-.94 2.06-2.06.94zm10 10l.94 2.06.94-2.06 2.06-.94-2.06-.94-.94-2.06-.94 2.06-2.06.94z\"/><path d=\"M17.41 7.96l-1.37-1.37c-.4-.4-.92-.59-1.43-.59-.52 0-1.04.2-1.43.59L10.3 9.45l-7.72 7.72c-.78.78-.78 2.05 0 2.83L4 21.41c.39.39.9.59 1.41.59.51 0 1.02-.2 1.41-.59l7.78-7.78 2.81-2.81c.8-.78.8-2.07 0-2.86zM5.41 20L4 18.59l7.72-7.72 1.47 1.35L5.41 20z\"/>\n",
              "  </svg>\n",
              "      </button>\n",
              "      \n",
              "  <style>\n",
              "    .colab-df-container {\n",
              "      display:flex;\n",
              "      flex-wrap:wrap;\n",
              "      gap: 12px;\n",
              "    }\n",
              "\n",
              "    .colab-df-convert {\n",
              "      background-color: #E8F0FE;\n",
              "      border: none;\n",
              "      border-radius: 50%;\n",
              "      cursor: pointer;\n",
              "      display: none;\n",
              "      fill: #1967D2;\n",
              "      height: 32px;\n",
              "      padding: 0 0 0 0;\n",
              "      width: 32px;\n",
              "    }\n",
              "\n",
              "    .colab-df-convert:hover {\n",
              "      background-color: #E2EBFA;\n",
              "      box-shadow: 0px 1px 2px rgba(60, 64, 67, 0.3), 0px 1px 3px 1px rgba(60, 64, 67, 0.15);\n",
              "      fill: #174EA6;\n",
              "    }\n",
              "\n",
              "    [theme=dark] .colab-df-convert {\n",
              "      background-color: #3B4455;\n",
              "      fill: #D2E3FC;\n",
              "    }\n",
              "\n",
              "    [theme=dark] .colab-df-convert:hover {\n",
              "      background-color: #434B5C;\n",
              "      box-shadow: 0px 1px 3px 1px rgba(0, 0, 0, 0.15);\n",
              "      filter: drop-shadow(0px 1px 2px rgba(0, 0, 0, 0.3));\n",
              "      fill: #FFFFFF;\n",
              "    }\n",
              "  </style>\n",
              "\n",
              "      <script>\n",
              "        const buttonEl =\n",
              "          document.querySelector('#df-b5435a46-193f-4544-aa7e-cd494b43a32b button.colab-df-convert');\n",
              "        buttonEl.style.display =\n",
              "          google.colab.kernel.accessAllowed ? 'block' : 'none';\n",
              "\n",
              "        async function convertToInteractive(key) {\n",
              "          const element = document.querySelector('#df-b5435a46-193f-4544-aa7e-cd494b43a32b');\n",
              "          const dataTable =\n",
              "            await google.colab.kernel.invokeFunction('convertToInteractive',\n",
              "                                                     [key], {});\n",
              "          if (!dataTable) return;\n",
              "\n",
              "          const docLinkHtml = 'Like what you see? Visit the ' +\n",
              "            '<a target=\"_blank\" href=https://colab.research.google.com/notebooks/data_table.ipynb>data table notebook</a>'\n",
              "            + ' to learn more about interactive tables.';\n",
              "          element.innerHTML = '';\n",
              "          dataTable['output_type'] = 'display_data';\n",
              "          await google.colab.output.renderOutput(dataTable, element);\n",
              "          const docLink = document.createElement('div');\n",
              "          docLink.innerHTML = docLinkHtml;\n",
              "          element.appendChild(docLink);\n",
              "        }\n",
              "      </script>\n",
              "    </div>\n",
              "  </div>\n",
              "  "
            ]
          },
          "metadata": {},
          "execution_count": 522
        }
      ]
    },
    {
      "cell_type": "markdown",
      "source": [
        "Now we get good data-set but we can't understand 'employee_residence' and 'company_location' so we change the short form of country name to full form by ISO Country code"
      ],
      "metadata": {
        "id": "T7xKkh34RJeZ"
      }
    },
    {
      "cell_type": "code",
      "source": [
        "# change country names from ISO2 to original names\n",
        "# There are two features containing country names, \"company_location\" and \"employee_residence\"\n",
        "# country converter-https://vincentarelbundock.github.io/countrycode/\n",
        "!pip install country_converter\n",
        "import country_converter\n",
        "cc = country_converter.CountryConverter()\n",
        "df['company_location'] = cc.convert(df['company_location'], to='name_short')\n",
        "df['employee_residence'] = cc.convert(df['employee_residence'], to='name_short')"
      ],
      "metadata": {
        "colab": {
          "base_uri": "https://localhost:8080/"
        },
        "id": "0MZAhcWXQwme",
        "outputId": "1e26ccfe-3cbc-4d1c-ba40-bd23365f2873"
      },
      "execution_count": null,
      "outputs": [
        {
          "output_type": "stream",
          "name": "stdout",
          "text": [
            "Looking in indexes: https://pypi.org/simple, https://us-python.pkg.dev/colab-wheels/public/simple/\n",
            "Requirement already satisfied: country_converter in /usr/local/lib/python3.7/dist-packages (0.7.7)\n",
            "Requirement already satisfied: pandas>=1.0 in /usr/local/lib/python3.7/dist-packages (from country_converter) (1.3.5)\n",
            "Requirement already satisfied: pytz>=2017.3 in /usr/local/lib/python3.7/dist-packages (from pandas>=1.0->country_converter) (2022.6)\n",
            "Requirement already satisfied: python-dateutil>=2.7.3 in /usr/local/lib/python3.7/dist-packages (from pandas>=1.0->country_converter) (2.8.2)\n",
            "Requirement already satisfied: numpy>=1.17.3 in /usr/local/lib/python3.7/dist-packages (from pandas>=1.0->country_converter) (1.21.6)\n",
            "Requirement already satisfied: six>=1.5 in /usr/local/lib/python3.7/dist-packages (from python-dateutil>=2.7.3->pandas>=1.0->country_converter) (1.15.0)\n"
          ]
        }
      ]
    },
    {
      "cell_type": "code",
      "source": [
        "df.head()"
      ],
      "metadata": {
        "colab": {
          "base_uri": "https://localhost:8080/",
          "height": 206
        },
        "id": "TIOcR33DS-ex",
        "outputId": "9fbde64a-0e0d-47ee-a47c-98d7713294dd"
      },
      "execution_count": null,
      "outputs": [
        {
          "output_type": "execute_result",
          "data": {
            "text/plain": [
              "   work_year experience_level employment_type                   job_title  \\\n",
              "0       2020              Mid       Full-time              Data Scientist   \n",
              "1       2020           Senior       Full-time  Machine Learning Scientist   \n",
              "2       2020           Senior       Full-time           Big Data Engineer   \n",
              "3       2020              Mid       Full-time        Product Data Analyst   \n",
              "4       2020           Senior       Full-time   Machine Learning Engineer   \n",
              "\n",
              "   salary employee_residence job_type company_location company_size  \n",
              "0   79833            Germany   onsite          Germany        Large  \n",
              "1  260000              Japan   onsite            Japan        Small  \n",
              "2  109024     United Kingdom   hybrid   United Kingdom       Medium  \n",
              "3   20000           Honduras   onsite         Honduras        Small  \n",
              "4  150000      United States   hybrid    United States        Large  "
            ],
            "text/html": [
              "\n",
              "  <div id=\"df-81a954ff-0e40-4b5a-949a-383fca6f99c4\">\n",
              "    <div class=\"colab-df-container\">\n",
              "      <div>\n",
              "<style scoped>\n",
              "    .dataframe tbody tr th:only-of-type {\n",
              "        vertical-align: middle;\n",
              "    }\n",
              "\n",
              "    .dataframe tbody tr th {\n",
              "        vertical-align: top;\n",
              "    }\n",
              "\n",
              "    .dataframe thead th {\n",
              "        text-align: right;\n",
              "    }\n",
              "</style>\n",
              "<table border=\"1\" class=\"dataframe\">\n",
              "  <thead>\n",
              "    <tr style=\"text-align: right;\">\n",
              "      <th></th>\n",
              "      <th>work_year</th>\n",
              "      <th>experience_level</th>\n",
              "      <th>employment_type</th>\n",
              "      <th>job_title</th>\n",
              "      <th>salary</th>\n",
              "      <th>employee_residence</th>\n",
              "      <th>job_type</th>\n",
              "      <th>company_location</th>\n",
              "      <th>company_size</th>\n",
              "    </tr>\n",
              "  </thead>\n",
              "  <tbody>\n",
              "    <tr>\n",
              "      <th>0</th>\n",
              "      <td>2020</td>\n",
              "      <td>Mid</td>\n",
              "      <td>Full-time</td>\n",
              "      <td>Data Scientist</td>\n",
              "      <td>79833</td>\n",
              "      <td>Germany</td>\n",
              "      <td>onsite</td>\n",
              "      <td>Germany</td>\n",
              "      <td>Large</td>\n",
              "    </tr>\n",
              "    <tr>\n",
              "      <th>1</th>\n",
              "      <td>2020</td>\n",
              "      <td>Senior</td>\n",
              "      <td>Full-time</td>\n",
              "      <td>Machine Learning Scientist</td>\n",
              "      <td>260000</td>\n",
              "      <td>Japan</td>\n",
              "      <td>onsite</td>\n",
              "      <td>Japan</td>\n",
              "      <td>Small</td>\n",
              "    </tr>\n",
              "    <tr>\n",
              "      <th>2</th>\n",
              "      <td>2020</td>\n",
              "      <td>Senior</td>\n",
              "      <td>Full-time</td>\n",
              "      <td>Big Data Engineer</td>\n",
              "      <td>109024</td>\n",
              "      <td>United Kingdom</td>\n",
              "      <td>hybrid</td>\n",
              "      <td>United Kingdom</td>\n",
              "      <td>Medium</td>\n",
              "    </tr>\n",
              "    <tr>\n",
              "      <th>3</th>\n",
              "      <td>2020</td>\n",
              "      <td>Mid</td>\n",
              "      <td>Full-time</td>\n",
              "      <td>Product Data Analyst</td>\n",
              "      <td>20000</td>\n",
              "      <td>Honduras</td>\n",
              "      <td>onsite</td>\n",
              "      <td>Honduras</td>\n",
              "      <td>Small</td>\n",
              "    </tr>\n",
              "    <tr>\n",
              "      <th>4</th>\n",
              "      <td>2020</td>\n",
              "      <td>Senior</td>\n",
              "      <td>Full-time</td>\n",
              "      <td>Machine Learning Engineer</td>\n",
              "      <td>150000</td>\n",
              "      <td>United States</td>\n",
              "      <td>hybrid</td>\n",
              "      <td>United States</td>\n",
              "      <td>Large</td>\n",
              "    </tr>\n",
              "  </tbody>\n",
              "</table>\n",
              "</div>\n",
              "      <button class=\"colab-df-convert\" onclick=\"convertToInteractive('df-81a954ff-0e40-4b5a-949a-383fca6f99c4')\"\n",
              "              title=\"Convert this dataframe to an interactive table.\"\n",
              "              style=\"display:none;\">\n",
              "        \n",
              "  <svg xmlns=\"http://www.w3.org/2000/svg\" height=\"24px\"viewBox=\"0 0 24 24\"\n",
              "       width=\"24px\">\n",
              "    <path d=\"M0 0h24v24H0V0z\" fill=\"none\"/>\n",
              "    <path d=\"M18.56 5.44l.94 2.06.94-2.06 2.06-.94-2.06-.94-.94-2.06-.94 2.06-2.06.94zm-11 1L8.5 8.5l.94-2.06 2.06-.94-2.06-.94L8.5 2.5l-.94 2.06-2.06.94zm10 10l.94 2.06.94-2.06 2.06-.94-2.06-.94-.94-2.06-.94 2.06-2.06.94z\"/><path d=\"M17.41 7.96l-1.37-1.37c-.4-.4-.92-.59-1.43-.59-.52 0-1.04.2-1.43.59L10.3 9.45l-7.72 7.72c-.78.78-.78 2.05 0 2.83L4 21.41c.39.39.9.59 1.41.59.51 0 1.02-.2 1.41-.59l7.78-7.78 2.81-2.81c.8-.78.8-2.07 0-2.86zM5.41 20L4 18.59l7.72-7.72 1.47 1.35L5.41 20z\"/>\n",
              "  </svg>\n",
              "      </button>\n",
              "      \n",
              "  <style>\n",
              "    .colab-df-container {\n",
              "      display:flex;\n",
              "      flex-wrap:wrap;\n",
              "      gap: 12px;\n",
              "    }\n",
              "\n",
              "    .colab-df-convert {\n",
              "      background-color: #E8F0FE;\n",
              "      border: none;\n",
              "      border-radius: 50%;\n",
              "      cursor: pointer;\n",
              "      display: none;\n",
              "      fill: #1967D2;\n",
              "      height: 32px;\n",
              "      padding: 0 0 0 0;\n",
              "      width: 32px;\n",
              "    }\n",
              "\n",
              "    .colab-df-convert:hover {\n",
              "      background-color: #E2EBFA;\n",
              "      box-shadow: 0px 1px 2px rgba(60, 64, 67, 0.3), 0px 1px 3px 1px rgba(60, 64, 67, 0.15);\n",
              "      fill: #174EA6;\n",
              "    }\n",
              "\n",
              "    [theme=dark] .colab-df-convert {\n",
              "      background-color: #3B4455;\n",
              "      fill: #D2E3FC;\n",
              "    }\n",
              "\n",
              "    [theme=dark] .colab-df-convert:hover {\n",
              "      background-color: #434B5C;\n",
              "      box-shadow: 0px 1px 3px 1px rgba(0, 0, 0, 0.15);\n",
              "      filter: drop-shadow(0px 1px 2px rgba(0, 0, 0, 0.3));\n",
              "      fill: #FFFFFF;\n",
              "    }\n",
              "  </style>\n",
              "\n",
              "      <script>\n",
              "        const buttonEl =\n",
              "          document.querySelector('#df-81a954ff-0e40-4b5a-949a-383fca6f99c4 button.colab-df-convert');\n",
              "        buttonEl.style.display =\n",
              "          google.colab.kernel.accessAllowed ? 'block' : 'none';\n",
              "\n",
              "        async function convertToInteractive(key) {\n",
              "          const element = document.querySelector('#df-81a954ff-0e40-4b5a-949a-383fca6f99c4');\n",
              "          const dataTable =\n",
              "            await google.colab.kernel.invokeFunction('convertToInteractive',\n",
              "                                                     [key], {});\n",
              "          if (!dataTable) return;\n",
              "\n",
              "          const docLinkHtml = 'Like what you see? Visit the ' +\n",
              "            '<a target=\"_blank\" href=https://colab.research.google.com/notebooks/data_table.ipynb>data table notebook</a>'\n",
              "            + ' to learn more about interactive tables.';\n",
              "          element.innerHTML = '';\n",
              "          dataTable['output_type'] = 'display_data';\n",
              "          await google.colab.output.renderOutput(dataTable, element);\n",
              "          const docLink = document.createElement('div');\n",
              "          docLink.innerHTML = docLinkHtml;\n",
              "          element.appendChild(docLink);\n",
              "        }\n",
              "      </script>\n",
              "    </div>\n",
              "  </div>\n",
              "  "
            ]
          },
          "metadata": {},
          "execution_count": 524
        }
      ]
    },
    {
      "cell_type": "markdown",
      "source": [
        "## Extract Data Analysis"
      ],
      "metadata": {
        "id": "3_FxUPopUKWW"
      }
    },
    {
      "cell_type": "code",
      "source": [
        "df.describe()"
      ],
      "metadata": {
        "colab": {
          "base_uri": "https://localhost:8080/",
          "height": 300
        },
        "id": "ROhjcCKmTFHx",
        "outputId": "c06794e2-8185-4a40-f489-e664738dc7f9"
      },
      "execution_count": null,
      "outputs": [
        {
          "output_type": "execute_result",
          "data": {
            "text/plain": [
              "         work_year         salary\n",
              "count   607.000000     607.000000\n",
              "mean   2021.405272  112297.869852\n",
              "std       0.692133   70957.259411\n",
              "min    2020.000000    2859.000000\n",
              "25%    2021.000000   62726.000000\n",
              "50%    2022.000000  101570.000000\n",
              "75%    2022.000000  150000.000000\n",
              "max    2022.000000  600000.000000"
            ],
            "text/html": [
              "\n",
              "  <div id=\"df-ac40b6bc-a67c-4979-835a-44675ee85539\">\n",
              "    <div class=\"colab-df-container\">\n",
              "      <div>\n",
              "<style scoped>\n",
              "    .dataframe tbody tr th:only-of-type {\n",
              "        vertical-align: middle;\n",
              "    }\n",
              "\n",
              "    .dataframe tbody tr th {\n",
              "        vertical-align: top;\n",
              "    }\n",
              "\n",
              "    .dataframe thead th {\n",
              "        text-align: right;\n",
              "    }\n",
              "</style>\n",
              "<table border=\"1\" class=\"dataframe\">\n",
              "  <thead>\n",
              "    <tr style=\"text-align: right;\">\n",
              "      <th></th>\n",
              "      <th>work_year</th>\n",
              "      <th>salary</th>\n",
              "    </tr>\n",
              "  </thead>\n",
              "  <tbody>\n",
              "    <tr>\n",
              "      <th>count</th>\n",
              "      <td>607.000000</td>\n",
              "      <td>607.000000</td>\n",
              "    </tr>\n",
              "    <tr>\n",
              "      <th>mean</th>\n",
              "      <td>2021.405272</td>\n",
              "      <td>112297.869852</td>\n",
              "    </tr>\n",
              "    <tr>\n",
              "      <th>std</th>\n",
              "      <td>0.692133</td>\n",
              "      <td>70957.259411</td>\n",
              "    </tr>\n",
              "    <tr>\n",
              "      <th>min</th>\n",
              "      <td>2020.000000</td>\n",
              "      <td>2859.000000</td>\n",
              "    </tr>\n",
              "    <tr>\n",
              "      <th>25%</th>\n",
              "      <td>2021.000000</td>\n",
              "      <td>62726.000000</td>\n",
              "    </tr>\n",
              "    <tr>\n",
              "      <th>50%</th>\n",
              "      <td>2022.000000</td>\n",
              "      <td>101570.000000</td>\n",
              "    </tr>\n",
              "    <tr>\n",
              "      <th>75%</th>\n",
              "      <td>2022.000000</td>\n",
              "      <td>150000.000000</td>\n",
              "    </tr>\n",
              "    <tr>\n",
              "      <th>max</th>\n",
              "      <td>2022.000000</td>\n",
              "      <td>600000.000000</td>\n",
              "    </tr>\n",
              "  </tbody>\n",
              "</table>\n",
              "</div>\n",
              "      <button class=\"colab-df-convert\" onclick=\"convertToInteractive('df-ac40b6bc-a67c-4979-835a-44675ee85539')\"\n",
              "              title=\"Convert this dataframe to an interactive table.\"\n",
              "              style=\"display:none;\">\n",
              "        \n",
              "  <svg xmlns=\"http://www.w3.org/2000/svg\" height=\"24px\"viewBox=\"0 0 24 24\"\n",
              "       width=\"24px\">\n",
              "    <path d=\"M0 0h24v24H0V0z\" fill=\"none\"/>\n",
              "    <path d=\"M18.56 5.44l.94 2.06.94-2.06 2.06-.94-2.06-.94-.94-2.06-.94 2.06-2.06.94zm-11 1L8.5 8.5l.94-2.06 2.06-.94-2.06-.94L8.5 2.5l-.94 2.06-2.06.94zm10 10l.94 2.06.94-2.06 2.06-.94-2.06-.94-.94-2.06-.94 2.06-2.06.94z\"/><path d=\"M17.41 7.96l-1.37-1.37c-.4-.4-.92-.59-1.43-.59-.52 0-1.04.2-1.43.59L10.3 9.45l-7.72 7.72c-.78.78-.78 2.05 0 2.83L4 21.41c.39.39.9.59 1.41.59.51 0 1.02-.2 1.41-.59l7.78-7.78 2.81-2.81c.8-.78.8-2.07 0-2.86zM5.41 20L4 18.59l7.72-7.72 1.47 1.35L5.41 20z\"/>\n",
              "  </svg>\n",
              "      </button>\n",
              "      \n",
              "  <style>\n",
              "    .colab-df-container {\n",
              "      display:flex;\n",
              "      flex-wrap:wrap;\n",
              "      gap: 12px;\n",
              "    }\n",
              "\n",
              "    .colab-df-convert {\n",
              "      background-color: #E8F0FE;\n",
              "      border: none;\n",
              "      border-radius: 50%;\n",
              "      cursor: pointer;\n",
              "      display: none;\n",
              "      fill: #1967D2;\n",
              "      height: 32px;\n",
              "      padding: 0 0 0 0;\n",
              "      width: 32px;\n",
              "    }\n",
              "\n",
              "    .colab-df-convert:hover {\n",
              "      background-color: #E2EBFA;\n",
              "      box-shadow: 0px 1px 2px rgba(60, 64, 67, 0.3), 0px 1px 3px 1px rgba(60, 64, 67, 0.15);\n",
              "      fill: #174EA6;\n",
              "    }\n",
              "\n",
              "    [theme=dark] .colab-df-convert {\n",
              "      background-color: #3B4455;\n",
              "      fill: #D2E3FC;\n",
              "    }\n",
              "\n",
              "    [theme=dark] .colab-df-convert:hover {\n",
              "      background-color: #434B5C;\n",
              "      box-shadow: 0px 1px 3px 1px rgba(0, 0, 0, 0.15);\n",
              "      filter: drop-shadow(0px 1px 2px rgba(0, 0, 0, 0.3));\n",
              "      fill: #FFFFFF;\n",
              "    }\n",
              "  </style>\n",
              "\n",
              "      <script>\n",
              "        const buttonEl =\n",
              "          document.querySelector('#df-ac40b6bc-a67c-4979-835a-44675ee85539 button.colab-df-convert');\n",
              "        buttonEl.style.display =\n",
              "          google.colab.kernel.accessAllowed ? 'block' : 'none';\n",
              "\n",
              "        async function convertToInteractive(key) {\n",
              "          const element = document.querySelector('#df-ac40b6bc-a67c-4979-835a-44675ee85539');\n",
              "          const dataTable =\n",
              "            await google.colab.kernel.invokeFunction('convertToInteractive',\n",
              "                                                     [key], {});\n",
              "          if (!dataTable) return;\n",
              "\n",
              "          const docLinkHtml = 'Like what you see? Visit the ' +\n",
              "            '<a target=\"_blank\" href=https://colab.research.google.com/notebooks/data_table.ipynb>data table notebook</a>'\n",
              "            + ' to learn more about interactive tables.';\n",
              "          element.innerHTML = '';\n",
              "          dataTable['output_type'] = 'display_data';\n",
              "          await google.colab.output.renderOutput(dataTable, element);\n",
              "          const docLink = document.createElement('div');\n",
              "          docLink.innerHTML = docLinkHtml;\n",
              "          element.appendChild(docLink);\n",
              "        }\n",
              "      </script>\n",
              "    </div>\n",
              "  </div>\n",
              "  "
            ]
          },
          "metadata": {},
          "execution_count": 525
        }
      ]
    },
    {
      "cell_type": "markdown",
      "source": [
        "mean salary is $112297\n",
        "\n",
        "max salary is $600000\n",
        "\n",
        "\n"
      ],
      "metadata": {
        "id": "8r_eYgDiVBFf"
      }
    },
    {
      "cell_type": "code",
      "source": [
        "#now we see graph beetween experince v/s salary\n",
        "exp_salary = df.groupby('experience_level')['salary'].mean().sort_values()\n",
        "exp_salary"
      ],
      "metadata": {
        "colab": {
          "base_uri": "https://localhost:8080/"
        },
        "id": "rQdfpr6NUu56",
        "outputId": "e00359f2-0f99-4f78-f53b-706f8f60a844"
      },
      "execution_count": null,
      "outputs": [
        {
          "output_type": "execute_result",
          "data": {
            "text/plain": [
              "experience_level\n",
              "Entry         61643.318182\n",
              "Mid           87996.056338\n",
              "Senior       138617.292857\n",
              "Executive    199392.038462\n",
              "Name: salary, dtype: float64"
            ]
          },
          "metadata": {},
          "execution_count": 526
        }
      ]
    },
    {
      "cell_type": "code",
      "source": [
        "plt.figure(figsize=(14, 7))\n",
        "sns.set_palette('spring')\n",
        "\n",
        "plt.subplot(1, 2, 1)\n",
        "ax = sns.barplot(x=exp_salary.index, y=exp_salary)\n",
        "ax.set_title('Mean Salary Vs Experience Level', fontdict={'fontsize': 16})\n"
      ],
      "metadata": {
        "colab": {
          "base_uri": "https://localhost:8080/",
          "height": 478
        },
        "id": "3W2jgRqDVzuj",
        "outputId": "325a6699-aa26-4921-c366-a75f93e69b06"
      },
      "execution_count": null,
      "outputs": [
        {
          "output_type": "execute_result",
          "data": {
            "text/plain": [
              "Text(0.5, 1.0, 'Mean Salary Vs Experience Level')"
            ]
          },
          "metadata": {},
          "execution_count": 527
        },
        {
          "output_type": "display_data",
          "data": {
            "text/plain": [
              "<Figure size 1008x504 with 1 Axes>"
            ],
            "image/png": "[encoded data removed]"
          },
          "metadata": {
            "needs_background": "light"
          }
        }
      ]
    },
    {
      "cell_type": "markdown",
      "source": [
        "#                         Salary v/s Employement type\n"
      ],
      "metadata": {
        "id": "tJdcVhCPW3C3"
      }
    },
    {
      "cell_type": "code",
      "source": [
        "salary_emp_type = df.groupby('employment_type')['salary'].mean().sort_values()\n",
        "salary_emp_type"
      ],
      "metadata": {
        "colab": {
          "base_uri": "https://localhost:8080/"
        },
        "id": "EOviRLXYWaLy",
        "outputId": "f19202fe-cbe4-47d3-a001-f8b527aabe9d"
      },
      "execution_count": null,
      "outputs": [
        {
          "output_type": "execute_result",
          "data": {
            "text/plain": [
              "employment_type\n",
              "Part-time     33070.500000\n",
              "Freelance     48000.000000\n",
              "Full-time    113468.073129\n",
              "Contract     184575.000000\n",
              "Name: salary, dtype: float64"
            ]
          },
          "metadata": {},
          "execution_count": 528
        }
      ]
    },
    {
      "cell_type": "markdown",
      "source": [
        "FOUND-contract base salary is highest."
      ],
      "metadata": {
        "id": "1RIAivDHXYIK"
      }
    },
    {
      "cell_type": "code",
      "source": [
        "plt.figure(figsize=(14, 7))\n",
        "sns.set_palette('autumn')\n",
        "\n",
        "plt.subplot(1, 2, 1)\n",
        "ax = sns.barplot(x=salary_emp_type.index, y=salary_emp_type)\n",
        "ax.set_title('Mean Salary Vs Employment Type', fontdict={'fontsize': 16})\n",
        "\n",
        "plt.subplot(1, 2, 2)\n",
        "ax = sns.boxplot(data=df, x='employment_type', y='salary')\n",
        "ax.set_title('Employment Type VS Salary', fontdict={'fontsize': 16})"
      ],
      "metadata": {
        "colab": {
          "base_uri": "https://localhost:8080/",
          "height": 478
        },
        "id": "Q9OikUNRXNXv",
        "outputId": "a248fbfc-5811-4e7b-ca7e-22761a116ddb"
      },
      "execution_count": null,
      "outputs": [
        {
          "output_type": "execute_result",
          "data": {
            "text/plain": [
              "Text(0.5, 1.0, 'Employment Type VS Salary')"
            ]
          },
          "metadata": {},
          "execution_count": 529
        },
        {
          "output_type": "display_data",
          "data": {
            "text/plain": [
              "<Figure size 1008x504 with 2 Axes>"
            ],
            "image/png": "[encoded data removed]"
          },
          "metadata": {
            "needs_background": "light"
          }
        }
      ]
    },
    {
      "cell_type": "markdown",
      "source": [
        "FOUND-contract base salary is highest and part time salary is lowest."
      ],
      "metadata": {
        "id": "ymV-APX1YwWL"
      }
    },
    {
      "cell_type": "markdown",
      "source": [
        "## Salary VS Company Size"
      ],
      "metadata": {
        "id": "5iHwbp58nkxR"
      }
    },
    {
      "cell_type": "code",
      "source": [
        "# mean salary of employees from different company sizes\n",
        "salary_cmp_size = df.groupby('company_size')['salary'].mean().sort_values()\n",
        "salary_cmp_size"
      ],
      "metadata": {
        "id": "sla0vddHXqZy",
        "colab": {
          "base_uri": "https://localhost:8080/"
        },
        "outputId": "4f2a3cf1-7453-4d7e-840e-f0daf31af6d9"
      },
      "execution_count": null,
      "outputs": [
        {
          "output_type": "execute_result",
          "data": {
            "text/plain": [
              "company_size\n",
              "Small      77632.674699\n",
              "Medium    116905.466258\n",
              "Large     119242.994949\n",
              "Name: salary, dtype: float64"
            ]
          },
          "metadata": {},
          "execution_count": 530
        }
      ]
    },
    {
      "cell_type": "code",
      "source": [
        "plt.figure(figsize=(14, 7))\n",
        "sns.set_palette('spring')\n",
        "\n",
        "plt.subplot(1, 2, 1)\n",
        "ax = sns.barplot(x=salary_cmp_size.index, y=salary_cmp_size)\n",
        "ax.set_title('Mean Salary VS Company Size', fontdict={'fontsize': 16})\n",
        "\n",
        "plt.subplot(1, 2, 2)\n",
        "sns.set_palette('Set2')\n",
        "ax = sns.boxenplot(data=df, x='company_size', y='salary')\n",
        "ax.set_title('Company Size VS Salary', fontdict={'fontsize': 16})"
      ],
      "metadata": {
        "id": "kiUmifz1YGeQ",
        "colab": {
          "base_uri": "https://localhost:8080/",
          "height": 478
        },
        "outputId": "c4ab2ca1-cb17-441a-ff24-1e12a2d38edd"
      },
      "execution_count": null,
      "outputs": [
        {
          "output_type": "execute_result",
          "data": {
            "text/plain": [
              "Text(0.5, 1.0, 'Company Size VS Salary')"
            ]
          },
          "metadata": {},
          "execution_count": 531
        },
        {
          "output_type": "display_data",
          "data": {
            "text/plain": [
              "<Figure size 1008x504 with 2 Axes>"
            ],
            "image/png": "[encoded data removed]"
          },
          "metadata": {
            "needs_background": "light"
          }
        }
      ]
    },
    {
      "cell_type": "markdown",
      "source": [
        "Company Size VS Salary:\n",
        "Large companies have highest mean salary and those who work at small ones have the lowest mean salary.\n",
        "\n"
      ],
      "metadata": {
        "id": "_LSTCZ9-oyyA"
      }
    },
    {
      "cell_type": "markdown",
      "source": [
        "## Salary VS Job type (remote, hybrid, onsite)"
      ],
      "metadata": {
        "id": "27OMHqlOo43_"
      }
    },
    {
      "cell_type": "code",
      "source": [
        "# mean salary of employees with different job types\n",
        "salary_jtype = df.groupby('job_type')['salary'].mean().sort_values()\n",
        "salary_jtype"
      ],
      "metadata": {
        "colab": {
          "base_uri": "https://localhost:8080/"
        },
        "id": "TsPdUSJWorCv",
        "outputId": "59dbef6a-ca3d-4f9e-d6a6-e95e6490fadb"
      },
      "execution_count": null,
      "outputs": [
        {
          "output_type": "execute_result",
          "data": {
            "text/plain": [
              "job_type\n",
              "hybrid     80823.030303\n",
              "onsite    106354.622047\n",
              "remote    122457.454068\n",
              "Name: salary, dtype: float64"
            ]
          },
          "metadata": {},
          "execution_count": 532
        }
      ]
    },
    {
      "cell_type": "code",
      "source": [
        "plt.figure(figsize=(14, 7))\n",
        "sns.set_palette('spring')\n",
        "\n",
        "plt.subplot(1, 2, 1)\n",
        "ax = sns.barplot(x=salary_jtype.index, y=salary_jtype)\n",
        "ax.set_title('Mean Salary VS Job Type', fontdict={'fontsize': 16})\n"
      ],
      "metadata": {
        "colab": {
          "base_uri": "https://localhost:8080/",
          "height": 478
        },
        "id": "9eUgrek2pGRz",
        "outputId": "4f48682a-5350-4b49-ca21-f966e0521a1f"
      },
      "execution_count": null,
      "outputs": [
        {
          "output_type": "execute_result",
          "data": {
            "text/plain": [
              "Text(0.5, 1.0, 'Mean Salary VS Job Type')"
            ]
          },
          "metadata": {},
          "execution_count": 533
        },
        {
          "output_type": "display_data",
          "data": {
            "text/plain": [
              "<Figure size 1008x504 with 1 Axes>"
            ],
            "image/png": "[encoded data removed]"
          },
          "metadata": {
            "needs_background": "light"
          }
        }
      ]
    },
    {
      "cell_type": "markdown",
      "source": [
        "Job Type (remote, on-site or hybrid) VS Salary:\n",
        "remotely have a higher mean salary than those who work on-site, and hybrid workers have a lower mean salary."
      ],
      "metadata": {
        "id": "q0sSmp6CpZ-D"
      }
    },
    {
      "cell_type": "code",
      "source": [
        "# job type and company size VS salary\n",
        "plt.figure(figsize=(14, 7))\n",
        "sns.set_palette('Set2')\n",
        "ax = sns.boxenplot(data=df, x='job_type', y='salary', hue='company_size')\n",
        "ax.set_title('Job Type & Company Size VS Salary', fontdict={'fontsize': 16})"
      ],
      "metadata": {
        "colab": {
          "base_uri": "https://localhost:8080/",
          "height": 478
        },
        "id": "fhNcgkP4pJ25",
        "outputId": "9648d43a-c0ba-41d6-b17e-1290dfe93805"
      },
      "execution_count": null,
      "outputs": [
        {
          "output_type": "execute_result",
          "data": {
            "text/plain": [
              "Text(0.5, 1.0, 'Job Type & Company Size VS Salary')"
            ]
          },
          "metadata": {},
          "execution_count": 534
        },
        {
          "output_type": "display_data",
          "data": {
            "text/plain": [
              "<Figure size 1008x504 with 1 Axes>"
            ],
            "image/png": "[encoded data removed]"
          },
          "metadata": {
            "needs_background": "light"
          }
        }
      ]
    },
    {
      "cell_type": "markdown",
      "source": [
        "so, prefer to work remotely at a large company to get higher salary."
      ],
      "metadata": {
        "id": "IBK6jB8UT3fC"
      }
    },
    {
      "cell_type": "markdown",
      "source": [
        "## Job Types and Experience Level distributions (Pie)"
      ],
      "metadata": {
        "id": "NacTN3USpoDL"
      }
    },
    {
      "cell_type": "code",
      "source": [
        "plt.figure(figsize=(12, 5))\n",
        "sns.set_palette('Set2')\n",
        "\n",
        "# job types\n",
        "plt.subplot(1,2,1)\n",
        "ax = df['job_type'].value_counts().plot(kind='pie', autopct='%1.1f%%')\n",
        "ax.set_title('Job Type', fontdict={'fontsize': 16})\n",
        "ax.set_ylabel('')\n",
        "\n",
        "# experience levels\n",
        "plt.subplot(1,2,2)\n",
        "ax = df['experience_level'].value_counts().plot(kind='pie', autopct='%1.1f%%')\n",
        "ax.set_title('Experience Level', fontdict={'fontsize': 16})\n",
        "ax.set_ylabel('')"
      ],
      "metadata": {
        "colab": {
          "base_uri": "https://localhost:8080/",
          "height": 338
        },
        "id": "REB52ErPpfLL",
        "outputId": "35a9a67a-0299-4785-f6b2-8f911701e559"
      },
      "execution_count": null,
      "outputs": [
        {
          "output_type": "execute_result",
          "data": {
            "text/plain": [
              "Text(0, 0.5, '')"
            ]
          },
          "metadata": {},
          "execution_count": 535
        },
        {
          "output_type": "display_data",
          "data": {
            "text/plain": [
              "<Figure size 864x360 with 2 Axes>"
            ],
            "image/png": "[encoded data removed]"
          },
          "metadata": {}
        }
      ]
    },
    {
      "cell_type": "markdown",
      "source": [
        "-> Remote jobs have the highest persent of openings.\n",
        "\n",
        "-> Share of Job openings for employees with an experience level of Senior is the the highest here."
      ],
      "metadata": {
        "id": "OJ774FFzUWfu"
      }
    },
    {
      "cell_type": "markdown",
      "source": [
        "#Company Size VS Job Types Counts"
      ],
      "metadata": {
        "id": "un-FlBigVfEQ"
      }
    },
    {
      "cell_type": "code",
      "source": [
        "plt.figure(figsize=(10, 5))\n",
        "sns.set_palette('Set2')\n",
        "ax = sns.countplot(data=df, x='company_size', hue='job_type')\n",
        "ax.set_title('Company Size VS Job Types Counts', fontdict={'fontsize': 16})"
      ],
      "metadata": {
        "id": "fgkpz54npra7",
        "colab": {
          "base_uri": "https://localhost:8080/",
          "height": 370
        },
        "outputId": "b27ef780-1b74-4e56-f682-d7b492c81c6b"
      },
      "execution_count": null,
      "outputs": [
        {
          "output_type": "execute_result",
          "data": {
            "text/plain": [
              "Text(0.5, 1.0, 'Company Size VS Job Types Counts')"
            ]
          },
          "metadata": {},
          "execution_count": 536
        },
        {
          "output_type": "display_data",
          "data": {
            "text/plain": [
              "<Figure size 720x360 with 1 Axes>"
            ],
            "image/png": "[encoded data removed]"
          },
          "metadata": {
            "needs_background": "light"
          }
        }
      ]
    },
    {
      "cell_type": "markdown",
      "source": [
        "-> In all companies, the number of remote workers is higher than that of hybrid and on-site.\n",
        "\n",
        "-> The number of hybrid workers in small and large companies is higher than that of on-site, whereas in medium-sized companies, more people work on-site than hybrid."
      ],
      "metadata": {
        "id": "jfspYc_9V-k_"
      }
    },
    {
      "cell_type": "markdown",
      "source": [
        "#Top 10 Data Science Roles"
      ],
      "metadata": {
        "id": "2SfVPqvvaQYT"
      }
    },
    {
      "cell_type": "code",
      "source": [
        "# top 10 data science roles according to mean salary\n",
        "top_ds_roles = df.groupby('job_title')['salary'].mean().sort_values(ascending=False)\n",
        "top_ds_roles=top_ds_roles.head(10)\n",
        "top_ds_roles"
      ],
      "metadata": {
        "colab": {
          "base_uri": "https://localhost:8080/"
        },
        "id": "pnFjVvtQVklw",
        "outputId": "b183403d-a5e5-4572-b01d-f687ccb80ddc"
      },
      "execution_count": null,
      "outputs": [
        {
          "output_type": "execute_result",
          "data": {
            "text/plain": [
              "job_title\n",
              "Data Analytics Lead         405000.000000\n",
              "Principal Data Engineer     328333.333333\n",
              "Financial Data Analyst      275000.000000\n",
              "Principal Data Scientist    215242.428571\n",
              "Director of Data Science    195074.000000\n",
              "Data Architect              177873.909091\n",
              "Applied Data Scientist      175655.000000\n",
              "Analytics Engineer          175000.000000\n",
              "Data Specialist             165000.000000\n",
              "Head of Data                160162.600000\n",
              "Name: salary, dtype: float64"
            ]
          },
          "metadata": {},
          "execution_count": 537
        }
      ]
    },
    {
      "cell_type": "code",
      "source": [
        "# top 10 data science roles according to mean salary and counts \n",
        "plt.figure(figsize=(20, 5))\n",
        "plt.subplot(1, 2, 1)\n",
        "top_ds_roles = top_ds_roles\n",
        "ax = sns.barplot(y=top_ds_roles.index, x=top_ds_roles)\n",
        "ax.set_xlabel('Mean Salary')\n",
        "ax.set_title('Top DS roles according to mean salary', fontdict={'fontsize': 16})\n"
      ],
      "metadata": {
        "colab": {
          "base_uri": "https://localhost:8080/",
          "height": 369
        },
        "id": "K6DamQqjWrHZ",
        "outputId": "6986ec56-c917-4ecc-bb32-fed9fb670e7d"
      },
      "execution_count": null,
      "outputs": [
        {
          "output_type": "execute_result",
          "data": {
            "text/plain": [
              "Text(0.5, 1.0, 'Top DS roles according to mean salary')"
            ]
          },
          "metadata": {},
          "execution_count": 538
        },
        {
          "output_type": "display_data",
          "data": {
            "text/plain": [
              "<Figure size 1440x360 with 1 Axes>"
            ],
            "image/png": "[encoded data removed]"
          },
          "metadata": {
            "needs_background": "light"
          }
        }
      ]
    },
    {
      "cell_type": "code",
      "source": [
        "# top 10 data science roles with highest number of openings\n",
        "plt.figure(figsize=(20, 5))\n",
        "plt.subplot(1, 2, 2)\n",
        "top_dr = df['job_title'].value_counts()[:10]\n",
        "\n",
        "ax = sns.barplot(x=top_dr, y=top_dr.index)\n",
        "ax.set_xlabel('Job Openings')\n",
        "ax.set_title('Top 10 data science roles with highest number of openings', fontdict={'fontsize': 16})"
      ],
      "metadata": {
        "colab": {
          "base_uri": "https://localhost:8080/",
          "height": 369
        },
        "id": "lNJtnWhJZ-2P",
        "outputId": "0779bc4d-1e20-409a-9da5-8bc4bca1150a"
      },
      "execution_count": null,
      "outputs": [
        {
          "output_type": "execute_result",
          "data": {
            "text/plain": [
              "Text(0.5, 1.0, 'Top 10 data science roles with highest number of openings')"
            ]
          },
          "metadata": {},
          "execution_count": 539
        },
        {
          "output_type": "display_data",
          "data": {
            "text/plain": [
              "<Figure size 1440x360 with 1 Axes>"
            ],
            "image/png": "[encoded data removed]"
          },
          "metadata": {
            "needs_background": "light"
          }
        }
      ]
    },
    {
      "cell_type": "markdown",
      "source": [
        "#Top 10 campany-locations"
      ],
      "metadata": {
        "id": "gH_QxHtLYhYM"
      }
    },
    {
      "cell_type": "code",
      "source": [
        "# top 10 company-locations according to mean salary\n",
        "top_cmp_locations = df.groupby('company_location')['salary'].mean().sort_values(ascending=False)[:10]\n",
        "top_cmp_locations"
      ],
      "metadata": {
        "colab": {
          "base_uri": "https://localhost:8080/"
        },
        "id": "WvHAQhJtXw0N",
        "outputId": "69f08826-5095-48ae-a927-74c3323a3a79"
      },
      "execution_count": null,
      "outputs": [
        {
          "output_type": "execute_result",
          "data": {
            "text/plain": [
              "company_location\n",
              "Russia                  157500.000000\n",
              "United States           144055.261972\n",
              "New Zealand             125000.000000\n",
              "Israel                  119059.000000\n",
              "Japan                   114127.333333\n",
              "Australia               108042.666667\n",
              "Iraq                    100000.000000\n",
              "United Arab Emirates    100000.000000\n",
              "Algeria                 100000.000000\n",
              "Canada                   99823.733333\n",
              "Name: salary, dtype: float64"
            ]
          },
          "metadata": {},
          "execution_count": 540
        }
      ]
    },
    {
      "cell_type": "code",
      "source": [
        "# top 10 company-locations according to mean salary\n",
        "plt.figure(figsize=(20, 5))\n",
        "plt.subplot(1, 2, 1)\n",
        "ax = sns.barplot(y=top_cmp_locations.index, x=top_cmp_locations)\n",
        "ax.set_xlabel('Mean Salary')\n",
        "ax.set_title('Top 10 countries according to DS mean salaries', fontdict={'fontsize': 16})\n"
      ],
      "metadata": {
        "colab": {
          "base_uri": "https://localhost:8080/",
          "height": 369
        },
        "id": "XoIhEMO5YlgB",
        "outputId": "ef02e8e0-0b1d-4f19-bf91-c0dba223ed56"
      },
      "execution_count": null,
      "outputs": [
        {
          "output_type": "execute_result",
          "data": {
            "text/plain": [
              "Text(0.5, 1.0, 'Top 10 countries according to DS mean salaries')"
            ]
          },
          "metadata": {},
          "execution_count": 541
        },
        {
          "output_type": "display_data",
          "data": {
            "text/plain": [
              "<Figure size 1440x360 with 1 Axes>"
            ],
            "image/png": "[encoded data removed]"
          },
          "metadata": {
            "needs_background": "light"
          }
        }
      ]
    },
    {
      "cell_type": "markdown",
      "source": [
        "Russia, the United States and New Zealand are the highest paying countries for data science roles according to this dataset."
      ],
      "metadata": {
        "id": "uBwMosZuZQJF"
      }
    },
    {
      "cell_type": "code",
      "source": [
        "# top 10 company-locations having most job opportunities\n",
        "plt.figure(figsize=(20, 5))\n",
        "top_cl = df['company_location'].value_counts()[:10]\n",
        "plt.subplot(1, 2, 2)\n",
        "ax = sns.barplot(x=top_cl, y=top_cl.index)\n",
        "ax.set_xlabel('Number of Job Opportunities')\n",
        "ax.set_title('Top 10 countries having most DS job opportunities', fontdict={'fontsize': 16})"
      ],
      "metadata": {
        "colab": {
          "base_uri": "https://localhost:8080/",
          "height": 369
        },
        "id": "5IG0to2YYrwd",
        "outputId": "a1b946d7-8872-45eb-f72c-3842558a6632"
      },
      "execution_count": null,
      "outputs": [
        {
          "output_type": "execute_result",
          "data": {
            "text/plain": [
              "Text(0.5, 1.0, 'Top 10 countries having most DS job opportunities')"
            ]
          },
          "metadata": {},
          "execution_count": 542
        },
        {
          "output_type": "display_data",
          "data": {
            "text/plain": [
              "<Figure size 1440x360 with 1 Axes>"
            ],
            "image/png": "[encoded data removed]"
          },
          "metadata": {
            "needs_background": "light"
          }
        }
      ]
    },
    {
      "cell_type": "markdown",
      "source": [
        "The US, The UK and Canada are the top three countries offering highest number of Data Science job."
      ],
      "metadata": {
        "id": "EPsMHNf8ZZZw"
      }
    },
    {
      "cell_type": "markdown",
      "source": [
        "#Linear Regression Algorithm "
      ],
      "metadata": {
        "id": "-qrmGhGrHiTF"
      }
    },
    {
      "cell_type": "code",
      "source": [
        "df.columns"
      ],
      "metadata": {
        "id": "zoOjqCUuY_IO",
        "colab": {
          "base_uri": "https://localhost:8080/"
        },
        "outputId": "8037c675-735c-4085-e4cf-6e1dfeccb0bd"
      },
      "execution_count": null,
      "outputs": [
        {
          "output_type": "execute_result",
          "data": {
            "text/plain": [
              "Index(['work_year', 'experience_level', 'employment_type', 'job_title',\n",
              "       'salary', 'employee_residence', 'job_type', 'company_location',\n",
              "       'company_size'],\n",
              "      dtype='object')"
            ]
          },
          "metadata": {},
          "execution_count": 543
        }
      ]
    },
    {
      "cell_type": "code",
      "source": [
        "import warnings\n",
        "warnings.filterwarnings('ignore')\n",
        "import pandas as pd\n",
        "import numpy as np\n",
        "import seaborn as sns\n",
        "import matplotlib.pyplot as plt"
      ],
      "metadata": {
        "id": "13FAs_whj97S"
      },
      "execution_count": null,
      "outputs": []
    },
    {
      "cell_type": "code",
      "source": [
        "df.shape"
      ],
      "metadata": {
        "colab": {
          "base_uri": "https://localhost:8080/"
        },
        "id": "ITCwbuCDpl9_",
        "outputId": "619a794d-0877-4b4a-88ad-c9df3510a1dd"
      },
      "execution_count": null,
      "outputs": [
        {
          "output_type": "execute_result",
          "data": {
            "text/plain": [
              "(607, 9)"
            ]
          },
          "metadata": {},
          "execution_count": 545
        }
      ]
    },
    {
      "cell_type": "code",
      "source": [
        "X = df[['work_year', 'experience_level', 'employment_type', 'job_title', 'employee_residence', 'job_type', 'company_location', 'company_size']] "
      ],
      "metadata": {
        "id": "zFKrDucBmUVz"
      },
      "execution_count": null,
      "outputs": []
    },
    {
      "cell_type": "code",
      "source": [
        "X = pd.get_dummies(data=X, drop_first=True)\n",
        "X.head()"
      ],
      "metadata": {
        "colab": {
          "base_uri": "https://localhost:8080/",
          "height": 317
        },
        "id": "E8jIH5JfnWG0",
        "outputId": "d7552ea9-efc7-4813-e2d5-33b9399c5c9d"
      },
      "execution_count": null,
      "outputs": [
        {
          "output_type": "execute_result",
          "data": {
            "text/plain": [
              "   work_year  experience_level_Executive  experience_level_Mid  \\\n",
              "0       2020                           0                     1   \n",
              "1       2020                           0                     0   \n",
              "2       2020                           0                     0   \n",
              "3       2020                           0                     1   \n",
              "4       2020                           0                     0   \n",
              "\n",
              "   experience_level_Senior  employment_type_Freelance  \\\n",
              "0                        0                          0   \n",
              "1                        1                          0   \n",
              "2                        1                          0   \n",
              "3                        0                          0   \n",
              "4                        1                          0   \n",
              "\n",
              "   employment_type_Full-time  employment_type_Part-time  \\\n",
              "0                          1                          0   \n",
              "1                          1                          0   \n",
              "2                          1                          0   \n",
              "3                          1                          0   \n",
              "4                          1                          0   \n",
              "\n",
              "   job_title_AI Scientist  job_title_Analytics Engineer  \\\n",
              "0                       0                             0   \n",
              "1                       0                             0   \n",
              "2                       0                             0   \n",
              "3                       0                             0   \n",
              "4                       0                             0   \n",
              "\n",
              "   job_title_Applied Data Scientist  ...  company_location_Spain  \\\n",
              "0                                 0  ...                       0   \n",
              "1                                 0  ...                       0   \n",
              "2                                 0  ...                       0   \n",
              "3                                 0  ...                       0   \n",
              "4                                 0  ...                       0   \n",
              "\n",
              "   company_location_Switzerland  company_location_Turkey  \\\n",
              "0                             0                        0   \n",
              "1                             0                        0   \n",
              "2                             0                        0   \n",
              "3                             0                        0   \n",
              "4                             0                        0   \n",
              "\n",
              "   company_location_Ukraine  company_location_United Arab Emirates  \\\n",
              "0                         0                                      0   \n",
              "1                         0                                      0   \n",
              "2                         0                                      0   \n",
              "3                         0                                      0   \n",
              "4                         0                                      0   \n",
              "\n",
              "   company_location_United Kingdom  company_location_United States  \\\n",
              "0                                0                               0   \n",
              "1                                0                               0   \n",
              "2                                1                               0   \n",
              "3                                0                               0   \n",
              "4                                0                               1   \n",
              "\n",
              "   company_location_Vietnam  company_size_Medium  company_size_Small  \n",
              "0                         0                    0                   0  \n",
              "1                         0                    0                   1  \n",
              "2                         0                    1                   0  \n",
              "3                         0                    0                   1  \n",
              "4                         0                    0                   0  \n",
              "\n",
              "[5 rows x 165 columns]"
            ],
            "text/html": [
              "\n",
              "  <div id=\"df-bc445e51-c629-4bdb-b332-af4d001853ea\">\n",
              "    <div class=\"colab-df-container\">\n",
              "      <div>\n",
              "<style scoped>\n",
              "    .dataframe tbody tr th:only-of-type {\n",
              "        vertical-align: middle;\n",
              "    }\n",
              "\n",
              "    .dataframe tbody tr th {\n",
              "        vertical-align: top;\n",
              "    }\n",
              "\n",
              "    .dataframe thead th {\n",
              "        text-align: right;\n",
              "    }\n",
              "</style>\n",
              "<table border=\"1\" class=\"dataframe\">\n",
              "  <thead>\n",
              "    <tr style=\"text-align: right;\">\n",
              "      <th></th>\n",
              "      <th>work_year</th>\n",
              "      <th>experience_level_Executive</th>\n",
              "      <th>experience_level_Mid</th>\n",
              "      <th>experience_level_Senior</th>\n",
              "      <th>employment_type_Freelance</th>\n",
              "      <th>employment_type_Full-time</th>\n",
              "      <th>employment_type_Part-time</th>\n",
              "      <th>job_title_AI Scientist</th>\n",
              "      <th>job_title_Analytics Engineer</th>\n",
              "      <th>job_title_Applied Data Scientist</th>\n",
              "      <th>...</th>\n",
              "      <th>company_location_Spain</th>\n",
              "      <th>company_location_Switzerland</th>\n",
              "      <th>company_location_Turkey</th>\n",
              "      <th>company_location_Ukraine</th>\n",
              "      <th>company_location_United Arab Emirates</th>\n",
              "      <th>company_location_United Kingdom</th>\n",
              "      <th>company_location_United States</th>\n",
              "      <th>company_location_Vietnam</th>\n",
              "      <th>company_size_Medium</th>\n",
              "      <th>company_size_Small</th>\n",
              "    </tr>\n",
              "  </thead>\n",
              "  <tbody>\n",
              "    <tr>\n",
              "      <th>0</th>\n",
              "      <td>2020</td>\n",
              "      <td>0</td>\n",
              "      <td>1</td>\n",
              "      <td>0</td>\n",
              "      <td>0</td>\n",
              "      <td>1</td>\n",
              "      <td>0</td>\n",
              "      <td>0</td>\n",
              "      <td>0</td>\n",
              "      <td>0</td>\n",
              "      <td>...</td>\n",
              "      <td>0</td>\n",
              "      <td>0</td>\n",
              "      <td>0</td>\n",
              "      <td>0</td>\n",
              "      <td>0</td>\n",
              "      <td>0</td>\n",
              "      <td>0</td>\n",
              "      <td>0</td>\n",
              "      <td>0</td>\n",
              "      <td>0</td>\n",
              "    </tr>\n",
              "    <tr>\n",
              "      <th>1</th>\n",
              "      <td>2020</td>\n",
              "      <td>0</td>\n",
              "      <td>0</td>\n",
              "      <td>1</td>\n",
              "      <td>0</td>\n",
              "      <td>1</td>\n",
              "      <td>0</td>\n",
              "      <td>0</td>\n",
              "      <td>0</td>\n",
              "      <td>0</td>\n",
              "      <td>...</td>\n",
              "      <td>0</td>\n",
              "      <td>0</td>\n",
              "      <td>0</td>\n",
              "      <td>0</td>\n",
              "      <td>0</td>\n",
              "      <td>0</td>\n",
              "      <td>0</td>\n",
              "      <td>0</td>\n",
              "      <td>0</td>\n",
              "      <td>1</td>\n",
              "    </tr>\n",
              "    <tr>\n",
              "      <th>2</th>\n",
              "      <td>2020</td>\n",
              "      <td>0</td>\n",
              "      <td>0</td>\n",
              "      <td>1</td>\n",
              "      <td>0</td>\n",
              "      <td>1</td>\n",
              "      <td>0</td>\n",
              "      <td>0</td>\n",
              "      <td>0</td>\n",
              "      <td>0</td>\n",
              "      <td>...</td>\n",
              "      <td>0</td>\n",
              "      <td>0</td>\n",
              "      <td>0</td>\n",
              "      <td>0</td>\n",
              "      <td>0</td>\n",
              "      <td>1</td>\n",
              "      <td>0</td>\n",
              "      <td>0</td>\n",
              "      <td>1</td>\n",
              "      <td>0</td>\n",
              "    </tr>\n",
              "    <tr>\n",
              "      <th>3</th>\n",
              "      <td>2020</td>\n",
              "      <td>0</td>\n",
              "      <td>1</td>\n",
              "      <td>0</td>\n",
              "      <td>0</td>\n",
              "      <td>1</td>\n",
              "      <td>0</td>\n",
              "      <td>0</td>\n",
              "      <td>0</td>\n",
              "      <td>0</td>\n",
              "      <td>...</td>\n",
              "      <td>0</td>\n",
              "      <td>0</td>\n",
              "      <td>0</td>\n",
              "      <td>0</td>\n",
              "      <td>0</td>\n",
              "      <td>0</td>\n",
              "      <td>0</td>\n",
              "      <td>0</td>\n",
              "      <td>0</td>\n",
              "      <td>1</td>\n",
              "    </tr>\n",
              "    <tr>\n",
              "      <th>4</th>\n",
              "      <td>2020</td>\n",
              "      <td>0</td>\n",
              "      <td>0</td>\n",
              "      <td>1</td>\n",
              "      <td>0</td>\n",
              "      <td>1</td>\n",
              "      <td>0</td>\n",
              "      <td>0</td>\n",
              "      <td>0</td>\n",
              "      <td>0</td>\n",
              "      <td>...</td>\n",
              "      <td>0</td>\n",
              "      <td>0</td>\n",
              "      <td>0</td>\n",
              "      <td>0</td>\n",
              "      <td>0</td>\n",
              "      <td>0</td>\n",
              "      <td>1</td>\n",
              "      <td>0</td>\n",
              "      <td>0</td>\n",
              "      <td>0</td>\n",
              "    </tr>\n",
              "  </tbody>\n",
              "</table>\n",
              "<p>5 rows × 165 columns</p>\n",
              "</div>\n",
              "      <button class=\"colab-df-convert\" onclick=\"convertToInteractive('df-bc445e51-c629-4bdb-b332-af4d001853ea')\"\n",
              "              title=\"Convert this dataframe to an interactive table.\"\n",
              "              style=\"display:none;\">\n",
              "        \n",
              "  <svg xmlns=\"http://www.w3.org/2000/svg\" height=\"24px\"viewBox=\"0 0 24 24\"\n",
              "       width=\"24px\">\n",
              "    <path d=\"M0 0h24v24H0V0z\" fill=\"none\"/>\n",
              "    <path d=\"M18.56 5.44l.94 2.06.94-2.06 2.06-.94-2.06-.94-.94-2.06-.94 2.06-2.06.94zm-11 1L8.5 8.5l.94-2.06 2.06-.94-2.06-.94L8.5 2.5l-.94 2.06-2.06.94zm10 10l.94 2.06.94-2.06 2.06-.94-2.06-.94-.94-2.06-.94 2.06-2.06.94z\"/><path d=\"M17.41 7.96l-1.37-1.37c-.4-.4-.92-.59-1.43-.59-.52 0-1.04.2-1.43.59L10.3 9.45l-7.72 7.72c-.78.78-.78 2.05 0 2.83L4 21.41c.39.39.9.59 1.41.59.51 0 1.02-.2 1.41-.59l7.78-7.78 2.81-2.81c.8-.78.8-2.07 0-2.86zM5.41 20L4 18.59l7.72-7.72 1.47 1.35L5.41 20z\"/>\n",
              "  </svg>\n",
              "      </button>\n",
              "      \n",
              "  <style>\n",
              "    .colab-df-container {\n",
              "      display:flex;\n",
              "      flex-wrap:wrap;\n",
              "      gap: 12px;\n",
              "    }\n",
              "\n",
              "    .colab-df-convert {\n",
              "      background-color: #E8F0FE;\n",
              "      border: none;\n",
              "      border-radius: 50%;\n",
              "      cursor: pointer;\n",
              "      display: none;\n",
              "      fill: #1967D2;\n",
              "      height: 32px;\n",
              "      padding: 0 0 0 0;\n",
              "      width: 32px;\n",
              "    }\n",
              "\n",
              "    .colab-df-convert:hover {\n",
              "      background-color: #E2EBFA;\n",
              "      box-shadow: 0px 1px 2px rgba(60, 64, 67, 0.3), 0px 1px 3px 1px rgba(60, 64, 67, 0.15);\n",
              "      fill: #174EA6;\n",
              "    }\n",
              "\n",
              "    [theme=dark] .colab-df-convert {\n",
              "      background-color: #3B4455;\n",
              "      fill: #D2E3FC;\n",
              "    }\n",
              "\n",
              "    [theme=dark] .colab-df-convert:hover {\n",
              "      background-color: #434B5C;\n",
              "      box-shadow: 0px 1px 3px 1px rgba(0, 0, 0, 0.15);\n",
              "      filter: drop-shadow(0px 1px 2px rgba(0, 0, 0, 0.3));\n",
              "      fill: #FFFFFF;\n",
              "    }\n",
              "  </style>\n",
              "\n",
              "      <script>\n",
              "        const buttonEl =\n",
              "          document.querySelector('#df-bc445e51-c629-4bdb-b332-af4d001853ea button.colab-df-convert');\n",
              "        buttonEl.style.display =\n",
              "          google.colab.kernel.accessAllowed ? 'block' : 'none';\n",
              "\n",
              "        async function convertToInteractive(key) {\n",
              "          const element = document.querySelector('#df-bc445e51-c629-4bdb-b332-af4d001853ea');\n",
              "          const dataTable =\n",
              "            await google.colab.kernel.invokeFunction('convertToInteractive',\n",
              "                                                     [key], {});\n",
              "          if (!dataTable) return;\n",
              "\n",
              "          const docLinkHtml = 'Like what you see? Visit the ' +\n",
              "            '<a target=\"_blank\" href=https://colab.research.google.com/notebooks/data_table.ipynb>data table notebook</a>'\n",
              "            + ' to learn more about interactive tables.';\n",
              "          element.innerHTML = '';\n",
              "          dataTable['output_type'] = 'display_data';\n",
              "          await google.colab.output.renderOutput(dataTable, element);\n",
              "          const docLink = document.createElement('div');\n",
              "          docLink.innerHTML = docLinkHtml;\n",
              "          element.appendChild(docLink);\n",
              "        }\n",
              "      </script>\n",
              "    </div>\n",
              "  </div>\n",
              "  "
            ]
          },
          "metadata": {},
          "execution_count": 547
        }
      ]
    },
    {
      "cell_type": "code",
      "source": [
        "Y = df['salary']\n",
        "Y.head()"
      ],
      "metadata": {
        "colab": {
          "base_uri": "https://localhost:8080/"
        },
        "id": "lUGTZRFWnsmS",
        "outputId": "808783dd-1ad5-41ee-8ddf-3f881eee82f3"
      },
      "execution_count": null,
      "outputs": [
        {
          "output_type": "execute_result",
          "data": {
            "text/plain": [
              "0     79833\n",
              "1    260000\n",
              "2    109024\n",
              "3     20000\n",
              "4    150000\n",
              "Name: salary, dtype: int64"
            ]
          },
          "metadata": {},
          "execution_count": 548
        }
      ]
    },
    {
      "cell_type": "code",
      "source": [
        "from sklearn.model_selection import train_test_split\n",
        "X_train, X_test, y_train, y_test = train_test_split(X, Y, train_size=0.7, test_size=0.3, random_state=4)\n",
        "print(X_train.shape)\n",
        "print(X_test.shape)\n",
        "print(y_train.shape)\n",
        "print(y_test.shape)"
      ],
      "metadata": {
        "colab": {
          "base_uri": "https://localhost:8080/"
        },
        "id": "oYBYKUaIoSQy",
        "outputId": "591455f4-0f7a-4cde-97c2-f5cc00d91cb9"
      },
      "execution_count": null,
      "outputs": [
        {
          "output_type": "stream",
          "name": "stdout",
          "text": [
            "(424, 165)\n",
            "(183, 165)\n",
            "(424,)\n",
            "(183,)\n"
          ]
        }
      ]
    },
    {
      "cell_type": "code",
      "source": [
        "from sklearn.linear_model import LinearRegression\n",
        "model = LinearRegression()\n",
        "model.fit(X_train,y_train)"
      ],
      "metadata": {
        "colab": {
          "base_uri": "https://localhost:8080/"
        },
        "id": "RFkM5pX_omM9",
        "outputId": "2ae172db-c773-43fd-b13b-27e47c9f15f9"
      },
      "execution_count": null,
      "outputs": [
        {
          "output_type": "execute_result",
          "data": {
            "text/plain": [
              "LinearRegression()"
            ]
          },
          "metadata": {},
          "execution_count": 550
        }
      ]
    },
    {
      "cell_type": "code",
      "source": [
        "# print the intercept\n",
        "print(model.intercept_)"
      ],
      "metadata": {
        "colab": {
          "base_uri": "https://localhost:8080/"
        },
        "id": "1ljxTfSJo0mh",
        "outputId": "e11d3989-3602-4dd1-dfbd-1179369074f6"
      },
      "execution_count": null,
      "outputs": [
        {
          "output_type": "stream",
          "name": "stdout",
          "text": [
            "22699571.185054045\n"
          ]
        }
      ]
    },
    {
      "cell_type": "code",
      "source": [
        "coeff_parameter = pd.DataFrame(model.coef_,X.columns,columns=['Coefficient'])\n",
        "coeff_parameter"
      ],
      "metadata": {
        "colab": {
          "base_uri": "https://localhost:8080/",
          "height": 424
        },
        "id": "jHH6ntyHo4Rl",
        "outputId": "56096560-1b22-4212-b4a2-7f386050da71"
      },
      "execution_count": null,
      "outputs": [
        {
          "output_type": "execute_result",
          "data": {
            "text/plain": [
              "                                  Coefficient\n",
              "work_year                       -1.133704e+04\n",
              "experience_level_Executive       1.109111e+05\n",
              "experience_level_Mid             3.542231e+04\n",
              "experience_level_Senior          5.231098e+04\n",
              "employment_type_Freelance       -2.573769e+05\n",
              "...                                       ...\n",
              "company_location_United Kingdom  1.780406e+17\n",
              "company_location_United States   1.780406e+17\n",
              "company_location_Vietnam         0.000000e+00\n",
              "company_size_Medium              9.986119e+02\n",
              "company_size_Small              -3.215571e+04\n",
              "\n",
              "[165 rows x 1 columns]"
            ],
            "text/html": [
              "\n",
              "  <div id=\"df-ffa025fb-bb6e-41ef-a700-2741ac60592f\">\n",
              "    <div class=\"colab-df-container\">\n",
              "      <div>\n",
              "<style scoped>\n",
              "    .dataframe tbody tr th:only-of-type {\n",
              "        vertical-align: middle;\n",
              "    }\n",
              "\n",
              "    .dataframe tbody tr th {\n",
              "        vertical-align: top;\n",
              "    }\n",
              "\n",
              "    .dataframe thead th {\n",
              "        text-align: right;\n",
              "    }\n",
              "</style>\n",
              "<table border=\"1\" class=\"dataframe\">\n",
              "  <thead>\n",
              "    <tr style=\"text-align: right;\">\n",
              "      <th></th>\n",
              "      <th>Coefficient</th>\n",
              "    </tr>\n",
              "  </thead>\n",
              "  <tbody>\n",
              "    <tr>\n",
              "      <th>work_year</th>\n",
              "      <td>-1.133704e+04</td>\n",
              "    </tr>\n",
              "    <tr>\n",
              "      <th>experience_level_Executive</th>\n",
              "      <td>1.109111e+05</td>\n",
              "    </tr>\n",
              "    <tr>\n",
              "      <th>experience_level_Mid</th>\n",
              "      <td>3.542231e+04</td>\n",
              "    </tr>\n",
              "    <tr>\n",
              "      <th>experience_level_Senior</th>\n",
              "      <td>5.231098e+04</td>\n",
              "    </tr>\n",
              "    <tr>\n",
              "      <th>employment_type_Freelance</th>\n",
              "      <td>-2.573769e+05</td>\n",
              "    </tr>\n",
              "    <tr>\n",
              "      <th>...</th>\n",
              "      <td>...</td>\n",
              "    </tr>\n",
              "    <tr>\n",
              "      <th>company_location_United Kingdom</th>\n",
              "      <td>1.780406e+17</td>\n",
              "    </tr>\n",
              "    <tr>\n",
              "      <th>company_location_United States</th>\n",
              "      <td>1.780406e+17</td>\n",
              "    </tr>\n",
              "    <tr>\n",
              "      <th>company_location_Vietnam</th>\n",
              "      <td>0.000000e+00</td>\n",
              "    </tr>\n",
              "    <tr>\n",
              "      <th>company_size_Medium</th>\n",
              "      <td>9.986119e+02</td>\n",
              "    </tr>\n",
              "    <tr>\n",
              "      <th>company_size_Small</th>\n",
              "      <td>-3.215571e+04</td>\n",
              "    </tr>\n",
              "  </tbody>\n",
              "</table>\n",
              "<p>165 rows × 1 columns</p>\n",
              "</div>\n",
              "      <button class=\"colab-df-convert\" onclick=\"convertToInteractive('df-ffa025fb-bb6e-41ef-a700-2741ac60592f')\"\n",
              "              title=\"Convert this dataframe to an interactive table.\"\n",
              "              style=\"display:none;\">\n",
              "        \n",
              "  <svg xmlns=\"http://www.w3.org/2000/svg\" height=\"24px\"viewBox=\"0 0 24 24\"\n",
              "       width=\"24px\">\n",
              "    <path d=\"M0 0h24v24H0V0z\" fill=\"none\"/>\n",
              "    <path d=\"M18.56 5.44l.94 2.06.94-2.06 2.06-.94-2.06-.94-.94-2.06-.94 2.06-2.06.94zm-11 1L8.5 8.5l.94-2.06 2.06-.94-2.06-.94L8.5 2.5l-.94 2.06-2.06.94zm10 10l.94 2.06.94-2.06 2.06-.94-2.06-.94-.94-2.06-.94 2.06-2.06.94z\"/><path d=\"M17.41 7.96l-1.37-1.37c-.4-.4-.92-.59-1.43-.59-.52 0-1.04.2-1.43.59L10.3 9.45l-7.72 7.72c-.78.78-.78 2.05 0 2.83L4 21.41c.39.39.9.59 1.41.59.51 0 1.02-.2 1.41-.59l7.78-7.78 2.81-2.81c.8-.78.8-2.07 0-2.86zM5.41 20L4 18.59l7.72-7.72 1.47 1.35L5.41 20z\"/>\n",
              "  </svg>\n",
              "      </button>\n",
              "      \n",
              "  <style>\n",
              "    .colab-df-container {\n",
              "      display:flex;\n",
              "      flex-wrap:wrap;\n",
              "      gap: 12px;\n",
              "    }\n",
              "\n",
              "    .colab-df-convert {\n",
              "      background-color: #E8F0FE;\n",
              "      border: none;\n",
              "      border-radius: 50%;\n",
              "      cursor: pointer;\n",
              "      display: none;\n",
              "      fill: #1967D2;\n",
              "      height: 32px;\n",
              "      padding: 0 0 0 0;\n",
              "      width: 32px;\n",
              "    }\n",
              "\n",
              "    .colab-df-convert:hover {\n",
              "      background-color: #E2EBFA;\n",
              "      box-shadow: 0px 1px 2px rgba(60, 64, 67, 0.3), 0px 1px 3px 1px rgba(60, 64, 67, 0.15);\n",
              "      fill: #174EA6;\n",
              "    }\n",
              "\n",
              "    [theme=dark] .colab-df-convert {\n",
              "      background-color: #3B4455;\n",
              "      fill: #D2E3FC;\n",
              "    }\n",
              "\n",
              "    [theme=dark] .colab-df-convert:hover {\n",
              "      background-color: #434B5C;\n",
              "      box-shadow: 0px 1px 3px 1px rgba(0, 0, 0, 0.15);\n",
              "      filter: drop-shadow(0px 1px 2px rgba(0, 0, 0, 0.3));\n",
              "      fill: #FFFFFF;\n",
              "    }\n",
              "  </style>\n",
              "\n",
              "      <script>\n",
              "        const buttonEl =\n",
              "          document.querySelector('#df-ffa025fb-bb6e-41ef-a700-2741ac60592f button.colab-df-convert');\n",
              "        buttonEl.style.display =\n",
              "          google.colab.kernel.accessAllowed ? 'block' : 'none';\n",
              "\n",
              "        async function convertToInteractive(key) {\n",
              "          const element = document.querySelector('#df-ffa025fb-bb6e-41ef-a700-2741ac60592f');\n",
              "          const dataTable =\n",
              "            await google.colab.kernel.invokeFunction('convertToInteractive',\n",
              "                                                     [key], {});\n",
              "          if (!dataTable) return;\n",
              "\n",
              "          const docLinkHtml = 'Like what you see? Visit the ' +\n",
              "            '<a target=\"_blank\" href=https://colab.research.google.com/notebooks/data_table.ipynb>data table notebook</a>'\n",
              "            + ' to learn more about interactive tables.';\n",
              "          element.innerHTML = '';\n",
              "          dataTable['output_type'] = 'display_data';\n",
              "          await google.colab.output.renderOutput(dataTable, element);\n",
              "          const docLink = document.createElement('div');\n",
              "          docLink.innerHTML = docLinkHtml;\n",
              "          element.appendChild(docLink);\n",
              "        }\n",
              "      </script>\n",
              "    </div>\n",
              "  </div>\n",
              "  "
            ]
          },
          "metadata": {},
          "execution_count": 552
        }
      ]
    },
    {
      "cell_type": "code",
      "source": [
        "predictions = model.predict(X_test)\n",
        "predictions"
      ],
      "metadata": {
        "colab": {
          "base_uri": "https://localhost:8080/"
        },
        "id": "zfljEJczo-W4",
        "outputId": "6df48927-422b-480f-8f43-3dfdd5df92dd"
      },
      "execution_count": null,
      "outputs": [
        {
          "output_type": "execute_result",
          "data": {
            "text/plain": [
              "array([ 4.08191851e+04,  1.78040571e+17,  1.05654286e+05,  1.16051185e+05,\n",
              "        1.16051185e+05,  1.12243185e+05,  5.81900560e+04,  8.82431851e+04,\n",
              "        6.43123185e+05,  1.50271851e+04,  1.16051185e+05,  1.47827185e+05,\n",
              "        1.45587185e+05,  5.41767421e+04,  1.46675185e+05,  1.16051185e+05,\n",
              "        1.35664391e+03,  1.35347185e+05,  1.88659185e+05,  1.47827185e+05,\n",
              "        9.91551851e+04,  1.99477303e+04,  1.52243185e+05,  1.37107185e+05,\n",
              "        5.41767421e+04,  9.91551851e+04,  1.46803185e+05, -8.82368149e+04,\n",
              "       -1.78040571e+17,  1.45587185e+05,  1.47827185e+05, -1.96608149e+04,\n",
              "        2.01632964e+05,  8.28074714e+04,  9.60191851e+04,  1.16051185e+05,\n",
              "        1.47827185e+05,  3.14643185e+05,  1.45587185e+05,  1.61107185e+05,\n",
              "        3.27485975e+05,  1.47827185e+05,  1.45587185e+05,  6.32815637e+04,\n",
              "        5.41767421e+04,  1.59155185e+05,  1.49011185e+05,  1.67477303e+04,\n",
              "        9.25311851e+04,  1.20467185e+05,  1.02032930e+05, -1.08189474e+06,\n",
              "        9.49052555e+04,  1.47827185e+05,  1.36902597e+17,  9.10954714e+04,\n",
              "        3.47621252e+05,  1.50003185e+05,  5.15434714e+04,  1.18296476e+16,\n",
              "        1.05843185e+05,  1.44595185e+05,  1.81392423e+17,  3.57990149e+05,\n",
              "        1.47827185e+05,  1.40243185e+05,  2.30387185e+05,  1.47827185e+05,\n",
              "        8.60031851e+04,  2.17114469e+05,  1.09491185e+05,  1.33107185e+05,\n",
              "        8.46911851e+04, -1.78040571e+17,  1.45587185e+05,  1.82694256e+05,\n",
              "        2.00781947e+05, -1.52448149e+04,  4.57791851e+04,  2.22035185e+05,\n",
              "        2.12569994e+14,  9.36392828e+04,  1.05651185e+05,  4.52034714e+04,\n",
              "        1.04595185e+05,  2.38911851e+04, -1.78040571e+17,  9.43172462e+04,\n",
              "        1.45587185e+05,  2.07731185e+05,  2.32639033e+05,  2.07731185e+05,\n",
              "        5.74754570e+04,  1.74643185e+05,  4.84351851e+04,  1.23123185e+05,\n",
              "        4.63865926e+04,  1.47827185e+05,  1.47827185e+05,  1.16051185e+05,\n",
              "        1.45587185e+05,  1.47827185e+05,  1.47827185e+05, -1.55192704e+07,\n",
              "        9.91551851e+04,  1.10256542e+05,  1.69651185e+05,  1.35347185e+05,\n",
              "        1.67667185e+05,  1.83692868e+05,  1.47827185e+05,  3.10231471e+05,\n",
              "        9.39066435e+04,  2.08691185e+05,  1.67667185e+05,  2.44851185e+05,\n",
              "        1.47827185e+05,  1.20467185e+05,  8.82431851e+04,  1.68449136e+05,\n",
              "        1.45587185e+05,  3.30111851e+04,  1.52243185e+05,  7.04234714e+04,\n",
              "        1.65235185e+05,  2.40345130e+05,  1.20819185e+05,  1.15191471e+05,\n",
              "        8.60031851e+04,  8.28031851e+04,  1.47827185e+05,  7.96563449e+04,\n",
              "        1.43410867e+05,  1.50003185e+05,  9.94111851e+04,  2.82359471e+05,\n",
              "        1.60339185e+05, -1.53861778e+07,  7.48031851e+04,  1.68663471e+05,\n",
              "        1.85143987e+12,  5.81209062e+04,  1.67283185e+05,  1.78040568e+17,\n",
              "       -1.27455459e+05,  5.20831851e+04,  1.50003185e+05,  7.02718505e+03,\n",
              "        1.81392423e+17,  1.16051185e+05,  1.69459185e+05, -2.89975002e+15,\n",
              "        1.41267185e+05,  2.55327033e+05,  1.05139185e+05,  1.16051185e+05,\n",
              "        4.52034714e+04,  6.66669667e+04,  2.37346961e+17,  1.41267185e+05,\n",
              "        1.69651185e+05,  7.84191851e+04,  1.13907185e+05,  2.24115541e+04,\n",
              "        8.66878304e+15,  1.05843185e+05,  8.18089005e+04,  1.04595185e+05,\n",
              "        2.14062916e+04,  1.16051185e+05,  1.50003185e+05,  1.16051185e+05,\n",
              "        7.58634714e+04,  1.67667185e+05,  4.07724794e+04, -1.02211622e+18,\n",
              "        7.68617408e+04,  2.18067185e+05,  8.85653684e+04,  1.45587185e+05,\n",
              "        3.74574717e+04,  8.60031851e+04,  2.83071851e+04])"
            ]
          },
          "metadata": {},
          "execution_count": 553
        }
      ]
    },
    {
      "cell_type": "code",
      "source": [
        "sns.regplot(y_test,predictions)"
      ],
      "metadata": {
        "colab": {
          "base_uri": "https://localhost:8080/",
          "height": 307
        },
        "id": "2b17u6LgpC8W",
        "outputId": "13a1007a-9265-4916-edad-ae43fd292ac8"
      },
      "execution_count": null,
      "outputs": [
        {
          "output_type": "execute_result",
          "data": {
            "text/plain": [
              "<matplotlib.axes._subplots.AxesSubplot at 0x7fd1e63d5b50>"
            ]
          },
          "metadata": {},
          "execution_count": 554
        },
        {
          "output_type": "display_data",
          "data": {
            "text/plain": [
              "<Figure size 432x288 with 1 Axes>"
            ],
            "image/png": "[encoded data removed]"
          },
          "metadata": {
            "needs_background": "light"
          }
        }
      ]
    },
    {
      "cell_type": "code",
      "source": [
        "import statsmodels.api as sm\n",
        "X_train_Sm= sm.add_constant(X_train)\n",
        "X_train_Sm= sm.add_constant(X_train)\n",
        "ls=sm.OLS(y_train,X_train_Sm).fit()\n",
        "print(ls.summary())"
      ],
      "metadata": {
        "colab": {
          "base_uri": "https://localhost:8080/"
        },
        "id": "Op1PqwzbpHNz",
        "outputId": "e3372283-bd18-46a6-a265-f370128da87a"
      },
      "execution_count": null,
      "outputs": [
        {
          "output_type": "stream",
          "name": "stdout",
          "text": [
            "                            OLS Regression Results                            \n",
            "==============================================================================\n",
            "Dep. Variable:                 salary   R-squared:                       0.723\n",
            "Model:                            OLS   Adj. R-squared:                  0.610\n",
            "Method:                 Least Squares   F-statistic:                     6.429\n",
            "Date:                Thu, 10 Nov 2022   Prob (F-statistic):           1.57e-39\n",
            "Time:                        03:02:06   Log-Likelihood:                -5070.7\n",
            "No. Observations:                 424   AIC:                         1.039e+04\n",
            "Df Residuals:                     301   BIC:                         1.089e+04\n",
            "Df Model:                         122                                         \n",
            "Covariance Type:            nonrobust                                         \n",
            "======================================================================================================================\n",
            "                                                         coef    std err          t      P>|t|      [0.025      0.975]\n",
            "----------------------------------------------------------------------------------------------------------------------\n",
            "const                                               2.309e+07   1.04e+07      2.223      0.027    2.65e+06    4.35e+07\n",
            "work_year                                          -1.134e+04   5143.843     -2.204      0.028   -2.15e+04   -1214.591\n",
            "experience_level_Executive                          1.301e+05   1.67e+04      7.770      0.000    9.72e+04    1.63e+05\n",
            "experience_level_Mid                                2.798e+04   9015.863      3.103      0.002    1.02e+04    4.57e+04\n",
            "experience_level_Senior                             4.931e+04   9420.926      5.234      0.000    3.08e+04    6.78e+04\n",
            "employment_type_Freelance                          -1.426e+05   8.61e+04     -1.657      0.099   -3.12e+05    2.68e+04\n",
            "employment_type_Full-time                           -8.93e+04   3.26e+04     -2.742      0.006   -1.53e+05   -2.52e+04\n",
            "employment_type_Part-time                          -8.765e+04   4.54e+04     -1.929      0.055   -1.77e+05    1773.286\n",
            "job_title_AI Scientist                             -4433.4485      6e+04     -0.074      0.941   -1.23e+05    1.14e+05\n",
            "job_title_Analytics Engineer                         2.82e+04   6.28e+04      0.449      0.654   -9.53e+04    1.52e+05\n",
            "job_title_Applied Data Scientist                     1.01e+05   6.22e+04      1.623      0.106   -2.14e+04    2.23e+05\n",
            "job_title_Applied Machine Learning Scientist        3.466e+04   1.38e+05      0.251      0.802   -2.37e+05    3.06e+05\n",
            "job_title_BI Data Analyst                          -6663.8841   6.15e+04     -0.108      0.914   -1.28e+05    1.14e+05\n",
            "job_title_Big Data Architect                        1.793e+04   7.28e+04      0.246      0.806   -1.25e+05    1.61e+05\n",
            "job_title_Big Data Engineer                         2.306e+04   6.35e+04      0.363      0.717   -1.02e+05    1.48e+05\n",
            "job_title_Business Data Analyst                    -2.386e+04   6.28e+04     -0.380      0.704   -1.47e+05    9.98e+04\n",
            "job_title_Cloud Data Engineer                       9.262e+04   8.58e+04      1.079      0.281   -7.63e+04    2.62e+05\n",
            "job_title_Computer Vision Engineer                   4.06e+04   7.35e+04      0.552      0.581   -1.04e+05    1.85e+05\n",
            "job_title_Computer Vision Software Engineer         1.049e+04   6.88e+04      0.153      0.879   -1.25e+05    1.46e+05\n",
            "job_title_Data Analyst                              -1.39e+04   5.72e+04     -0.243      0.808   -1.26e+05    9.87e+04\n",
            "job_title_Data Analytics Engineer                  -1.237e+04   7.32e+04     -0.169      0.866   -1.56e+05    1.32e+05\n",
            "job_title_Data Analytics Lead                       2.726e+05   7.36e+04      3.704      0.000    1.28e+05    4.17e+05\n",
            "job_title_Data Analytics Manager                    1099.4136   6.14e+04      0.018      0.986    -1.2e+05    1.22e+05\n",
            "job_title_Data Architect                            4.883e+04   5.96e+04      0.820      0.413   -6.84e+04    1.66e+05\n",
            "job_title_Data Engineer                             1.764e+04    5.7e+04      0.309      0.757   -9.46e+04     1.3e+05\n",
            "job_title_Data Engineering Manager                 -1.226e+04   6.38e+04     -0.192      0.848   -1.38e+05    1.13e+05\n",
            "job_title_Data Science Consultant                     1.2e+04   6.37e+04      0.188      0.851   -1.13e+05    1.37e+05\n",
            "job_title_Data Science Engineer                     4.522e+04   7.34e+04      0.616      0.538   -9.92e+04     1.9e+05\n",
            "job_title_Data Science Manager                      5.447e+04   5.86e+04      0.930      0.353   -6.08e+04     1.7e+05\n",
            "job_title_Data Scientist                            1.931e+04   5.71e+04      0.338      0.735    -9.3e+04    1.32e+05\n",
            "job_title_Data Specialist                           2.129e+04   7.33e+04      0.291      0.772   -1.23e+05    1.65e+05\n",
            "job_title_Director of Data Engineering               3.82e+04   6.57e+04      0.581      0.562   -9.12e+04    1.68e+05\n",
            "job_title_Director of Data Science                  1.526e+04   6.54e+04      0.233      0.816   -1.13e+05    1.44e+05\n",
            "job_title_ETL Developer                             9163.7428   7.47e+04      0.123      0.902   -1.38e+05    1.56e+05\n",
            "job_title_Finance Data Analyst                     -7564.7108   7.31e+04     -0.103      0.918   -1.51e+05    1.36e+05\n",
            "job_title_Financial Data Analyst                    1.844e+05   6.58e+04      2.800      0.005    5.48e+04    3.14e+05\n",
            "job_title_Head of Data                              5.584e+04   7.01e+04      0.797      0.426    -8.2e+04    1.94e+05\n",
            "job_title_Head of Data Science                     -2.392e+04   6.32e+04     -0.378      0.705   -1.48e+05       1e+05\n",
            "job_title_Head of Machine Learning                 -1.576e+04    7.3e+04     -0.216      0.829   -1.59e+05    1.28e+05\n",
            "job_title_Lead Data Analyst                        -9643.6321   6.25e+04     -0.154      0.877   -1.33e+05    1.13e+05\n",
            "job_title_Lead Data Engineer                        4.744e+04   6.68e+04      0.710      0.478   -8.41e+04    1.79e+05\n",
            "job_title_Lead Data Scientist                       1.525e+04   7.12e+04      0.214      0.831   -1.25e+05    1.55e+05\n",
            "job_title_Lead Machine Learning Engineer            -580.2082   7.58e+04     -0.008      0.994    -1.5e+05    1.49e+05\n",
            "job_title_ML Engineer                               3.111e+04   6.42e+04      0.485      0.628   -9.52e+04    1.57e+05\n",
            "job_title_Machine Learning Developer               -5120.8076   6.62e+04     -0.077      0.938   -1.35e+05    1.25e+05\n",
            "job_title_Machine Learning Engineer                 3.843e+04   5.77e+04      0.666      0.506   -7.52e+04    1.52e+05\n",
            "job_title_Machine Learning Infrastructure Engineer  6.612e+04   6.68e+04      0.990      0.323   -6.53e+04    1.98e+05\n",
            "job_title_Machine Learning Manager                  2.377e+04   7.34e+04      0.324      0.746   -1.21e+05    1.68e+05\n",
            "job_title_Machine Learning Scientist                6.857e+04   6.12e+04      1.120      0.263   -5.19e+04    1.89e+05\n",
            "job_title_Marketing Data Analyst                     1.55e+04   5.98e+04      0.259      0.796   -1.02e+05    1.33e+05\n",
            "job_title_NLP Engineer                             -4.966e+04   7.29e+04     -0.681      0.497   -1.93e+05    9.39e+04\n",
            "job_title_Principal Data Analyst                    2.482e+04   6.58e+04      0.377      0.706   -1.05e+05    1.54e+05\n",
            "job_title_Principal Data Engineer                   1.578e+05   6.32e+04      2.497      0.013    3.34e+04    2.82e+05\n",
            "job_title_Principal Data Scientist                  7.979e+04   6.26e+04      1.274      0.203   -4.34e+04    2.03e+05\n",
            "job_title_Product Data Analyst                     -3.339e+04   7.18e+04     -0.465      0.642   -1.75e+05    1.08e+05\n",
            "job_title_Research Scientist                        8.233e+04   6.06e+04      1.359      0.175   -3.69e+04    2.02e+05\n",
            "job_title_Staff Data Scientist                     -1.278e+05   7.85e+04     -1.627      0.105   -2.82e+05    2.67e+04\n",
            "employee_residence_Argentina                       -3.527e-11   9.73e-11     -0.363      0.717   -2.27e-10    1.56e-10\n",
            "employee_residence_Australia                        1.151e+04   3.31e+04      0.348      0.728   -5.36e+04    7.66e+04\n",
            "employee_residence_Austria                         -5.029e+04   7.41e+04     -0.679      0.498   -1.96e+05    9.55e+04\n",
            "employee_residence_Belgium                         -4.691e+04   3.26e+04     -1.440      0.151   -1.11e+05    1.72e+04\n",
            "employee_residence_Bolivia                         -4.842e+04   1.18e+05     -0.411      0.682    -2.8e+05    1.84e+05\n",
            "employee_residence_Brazil                          -3.246e+04   4.75e+04     -0.684      0.495   -1.26e+05    6.09e+04\n",
            "employee_residence_Bulgaria                         6.618e-11   8.53e-11      0.776      0.439   -1.02e-10    2.34e-10\n",
            "employee_residence_Canada                           4.388e+04   7.54e+04      0.582      0.561   -1.04e+05    1.92e+05\n",
            "employee_residence_Chile                           -6.099e+04   3.62e+04     -1.683      0.093   -1.32e+05    1.03e+04\n",
            "employee_residence_China                           -6.745e+04   4.04e+04     -1.671      0.096   -1.47e+05     1.2e+04\n",
            "employee_residence_Colombia                        -1.423e-10   6.28e-11     -2.266      0.024   -2.66e-10   -1.87e-11\n",
            "employee_residence_Croatia                         -3.886e-11    6.3e-11     -0.617      0.538   -1.63e-10    8.51e-11\n",
            "employee_residence_Czech Republic                  -6.546e+04   3.69e+04     -1.772      0.077   -1.38e+05    7233.150\n",
            "employee_residence_Denmark                         -2.276e+04   5.12e+04     -0.445      0.657   -1.23e+05    7.79e+04\n",
            "employee_residence_Estonia                         -6.633e+04   4.16e+04     -1.595      0.112   -1.48e+05    1.55e+04\n",
            "employee_residence_France                          -2.224e+04    4.7e+04     -0.473      0.636   -1.15e+05    7.03e+04\n",
            "employee_residence_Germany                         -2.404e+04   5.29e+04     -0.454      0.650   -1.28e+05    8.01e+04\n",
            "employee_residence_Greece                          -8.364e+04   5.84e+04     -1.432      0.153   -1.99e+05    3.13e+04\n",
            "employee_residence_Honduras                         3.137e-11   3.94e-11      0.795      0.427   -4.62e-11    1.09e-10\n",
            "employee_residence_Hong Kong                       -4.329e+04   9.27e+04     -0.467      0.641   -2.26e+05    1.39e+05\n",
            "employee_residence_Hungary                         -3.303e+04   6.19e+04     -0.533      0.594   -1.55e+05    8.88e+04\n",
            "employee_residence_India                           -7.846e+04   4.72e+04     -1.661      0.098   -1.71e+05    1.45e+04\n",
            "employee_residence_Iran                            -7.807e+04   3.63e+04     -2.151      0.032   -1.49e+05   -6660.208\n",
            "employee_residence_Iraq                             1.805e+04   3.98e+04      0.453      0.651   -6.04e+04    9.65e+04\n",
            "employee_residence_Ireland                         -4.906e+04   3.69e+04     -1.328      0.185   -1.22e+05    2.36e+04\n",
            "employee_residence_Italy                           -4.442e+04   7.53e+04     -0.590      0.556   -1.93e+05    1.04e+05\n",
            "employee_residence_Japan                           -3.936e+04   4.07e+04     -0.966      0.335    -1.2e+05    4.08e+04\n",
            "employee_residence_Jersey                           -1.56e+04   4.06e+04     -0.384      0.701   -9.56e+04    6.44e+04\n",
            "employee_residence_Kenya                           -4.299e-12   3.01e-11     -0.143      0.887   -6.36e-11     5.5e-11\n",
            "employee_residence_Luxembourg                      -1.589e+04   3.89e+04     -0.408      0.683   -9.25e+04    6.07e+04\n",
            "employee_residence_Malaysia                          3.43e+04   7.05e+04      0.486      0.627   -1.05e+05    1.73e+05\n",
            "employee_residence_Malta                           -5.393e+04   3.62e+04     -1.491      0.137   -1.25e+05    1.72e+04\n",
            "employee_residence_Mexico                          -6.967e+04   3.31e+04     -2.107      0.036   -1.35e+05   -4586.777\n",
            "employee_residence_Moldova                         -6.388e+04   4.05e+04     -1.578      0.116   -1.44e+05    1.58e+04\n",
            "employee_residence_Netherlands                     -5.975e+04   2.88e+04     -2.078      0.039   -1.16e+05   -3163.740\n",
            "employee_residence_New Zealand                     -2.605e+04   3.97e+04     -0.657      0.512   -1.04e+05     5.2e+04\n",
            "employee_residence_Nigeria                         -4.816e+04   3.25e+04     -1.481      0.140   -1.12e+05    1.58e+04\n",
            "employee_residence_Pakistan                         -3.92e+04   5.01e+04     -0.782      0.435   -1.38e+05    5.94e+04\n",
            "employee_residence_Philippines                      2.312e-11   2.93e-11      0.790      0.430   -3.45e-11    8.07e-11\n",
            "employee_residence_Poland                          -5.907e+04    8.3e+04     -0.712      0.477   -2.22e+05    1.04e+05\n",
            "employee_residence_Portugal                        -1.026e+05   6.68e+04     -1.536      0.126   -2.34e+05    2.89e+04\n",
            "employee_residence_Puerto Rico                     -5.749e-11    2.8e-11     -2.053      0.041   -1.13e-10    -2.4e-12\n",
            "employee_residence_Romania                          -9.33e+04   5.92e+04     -1.575      0.116    -2.1e+05    2.32e+04\n",
            "employee_residence_Russia                          -3.847e+04   4.91e+04     -0.783      0.434   -1.35e+05    5.82e+04\n",
            "employee_residence_Serbia                           -7.34e+04   6.83e+04     -1.074      0.283   -2.08e+05     6.1e+04\n",
            "employee_residence_Singapore                       -5.488e+04   4.51e+04     -1.217      0.225   -1.44e+05    3.39e+04\n",
            "employee_residence_Slovenia                        -2.546e-11   2.33e-11     -1.093      0.275   -7.13e-11    2.04e-11\n",
            "employee_residence_Spain                            1.574e+04   5.15e+04      0.306      0.760   -8.55e+04    1.17e+05\n",
            "employee_residence_Switzerland                      2.745e-11   2.28e-11      1.201      0.231   -1.75e-11    7.24e-11\n",
            "employee_residence_Tunisia                           -1.4e-11   1.64e-11     -0.853      0.394   -4.63e-11    1.83e-11\n",
            "employee_residence_Turkey                          -6.953e+04   3.58e+04     -1.943      0.053    -1.4e+05     906.170\n",
            "employee_residence_Ukraine                          2.695e-11   2.21e-11      1.220      0.223   -1.65e-11    7.04e-11\n",
            "employee_residence_United Arab Emirates            -2.794e+04   4.37e+04     -0.639      0.523   -1.14e+05    5.81e+04\n",
            "employee_residence_United Kingdom                  -6.513e+04    8.1e+04     -0.804      0.422   -2.25e+05    9.43e+04\n",
            "employee_residence_United States                    2.228e+04   3.88e+04      0.574      0.566   -5.41e+04    9.86e+04\n",
            "employee_residence_Vietnam                         -9.613e+04   9.97e+04     -0.964      0.336   -2.92e+05       1e+05\n",
            "job_type_onsite                                     2.571e+04   1.02e+04      2.517      0.012    5609.877    4.58e+04\n",
            "job_type_remote                                     2.414e+04   9411.814      2.565      0.011    5619.400    4.27e+04\n",
            "company_location_American Samoa                     7782.5585    7.4e+04      0.105      0.916   -1.38e+05    1.53e+05\n",
            "company_location_Australia                          1.151e+04   3.31e+04      0.348      0.728   -5.36e+04    7.66e+04\n",
            "company_location_Austria                           -5.215e+04   7.48e+04     -0.697      0.486   -1.99e+05     9.5e+04\n",
            "company_location_Belgium                           -4.691e+04   3.26e+04     -1.440      0.151   -1.11e+05    1.72e+04\n",
            "company_location_Brazil                            -9.665e+04   7.16e+04     -1.350      0.178   -2.38e+05    4.43e+04\n",
            "company_location_Canada                            -1.018e+05   7.79e+04     -1.307      0.192   -2.55e+05    5.14e+04\n",
            "company_location_Chile                             -6.099e+04   3.62e+04     -1.683      0.093   -1.32e+05    1.03e+04\n",
            "company_location_China                             -8.305e+04   4.37e+04     -1.902      0.058   -1.69e+05    2893.165\n",
            "company_location_Colombia                                   0          0        nan        nan           0           0\n",
            "company_location_Croatia                                    0          0        nan        nan           0           0\n",
            "company_location_Czech Republic                    -6.546e+04   3.69e+04     -1.772      0.077   -1.38e+05    7233.150\n",
            "company_location_Denmark                           -7263.5993   4.94e+04     -0.147      0.883   -1.05e+05       9e+04\n",
            "company_location_Estonia                           -6.633e+04   4.16e+04     -1.595      0.112   -1.48e+05    1.55e+04\n",
            "company_location_France                            -5.711e+04   5.14e+04     -1.112      0.267   -1.58e+05     4.4e+04\n",
            "company_location_Germany                           -4.151e+04   5.87e+04     -0.707      0.480   -1.57e+05     7.4e+04\n",
            "company_location_Greece                            -3296.3818   6.19e+04     -0.053      0.958   -1.25e+05    1.18e+05\n",
            "company_location_Honduras                                   0          0        nan        nan           0           0\n",
            "company_location_Hungary                           -8.046e+04   7.65e+04     -1.052      0.294   -2.31e+05       7e+04\n",
            "company_location_India                             -3.614e+04   4.87e+04     -0.742      0.459   -1.32e+05    5.97e+04\n",
            "company_location_Iran                              -7.807e+04   3.63e+04     -2.151      0.032   -1.49e+05   -6660.208\n",
            "company_location_Iraq                               1.805e+04   3.98e+04      0.453      0.651   -6.04e+04    9.65e+04\n",
            "company_location_Ireland                           -4.906e+04   3.69e+04     -1.328      0.185   -1.22e+05    2.36e+04\n",
            "company_location_Israel                             1.214e+04   4.43e+04      0.274      0.784    -7.5e+04    9.93e+04\n",
            "company_location_Italy                             -6.153e+04   8.88e+04     -0.693      0.489   -2.36e+05    1.13e+05\n",
            "company_location_Japan                              3985.4917   2.97e+04      0.134      0.893   -5.45e+04    6.25e+04\n",
            "company_location_Kenya                                      0          0        nan        nan           0           0\n",
            "company_location_Luxembourg                        -1.589e+04   3.89e+04     -0.408      0.683   -9.25e+04    6.07e+04\n",
            "company_location_Malaysia                          -4.335e+04   3.69e+04     -1.174      0.241   -1.16e+05    2.93e+04\n",
            "company_location_Malta                             -5.393e+04   3.62e+04     -1.491      0.137   -1.25e+05    1.72e+04\n",
            "company_location_Mexico                            -6.967e+04   3.31e+04     -2.107      0.036   -1.35e+05   -4586.777\n",
            "company_location_Moldova                           -6.388e+04   4.05e+04     -1.578      0.116   -1.44e+05    1.58e+04\n",
            "company_location_Netherlands                       -5.975e+04   2.88e+04     -2.078      0.039   -1.16e+05   -3163.740\n",
            "company_location_New Zealand                       -2.605e+04   3.97e+04     -0.657      0.512   -1.04e+05     5.2e+04\n",
            "company_location_Nigeria                           -4.816e+04   3.25e+04     -1.481      0.140   -1.12e+05    1.58e+04\n",
            "company_location_Pakistan                          -8.243e+04   1.26e+05     -0.656      0.512    -3.3e+05    1.65e+05\n",
            "company_location_Poland                            -6.363e+04   8.32e+04     -0.765      0.445   -2.27e+05       1e+05\n",
            "company_location_Portugal                          -2.707e+04   7.49e+04     -0.361      0.718   -1.74e+05     1.2e+05\n",
            "company_location_Romania                                    0          0        nan        nan           0           0\n",
            "company_location_Russia                            -5.346e+04   6.41e+04     -0.834      0.405    -1.8e+05    7.27e+04\n",
            "company_location_Singapore                         -6.702e+04    5.3e+04     -1.263      0.207   -1.71e+05    3.74e+04\n",
            "company_location_Slovenia                                   0          0        nan        nan           0           0\n",
            "company_location_Spain                             -1.295e+05   5.44e+04     -2.380      0.018   -2.37e+05   -2.24e+04\n",
            "company_location_Switzerland                                0          0        nan        nan           0           0\n",
            "company_location_Turkey                            -6.953e+04   3.58e+04     -1.943      0.053    -1.4e+05     906.170\n",
            "company_location_Ukraine                                    0          0        nan        nan           0           0\n",
            "company_location_United Arab Emirates              -2.794e+04   4.37e+04     -0.639      0.523   -1.14e+05    5.81e+04\n",
            "company_location_United Kingdom                    -5329.0799   8.27e+04     -0.064      0.949   -1.68e+05    1.57e+05\n",
            "company_location_United States                     -4.263e+04   3.97e+04     -1.074      0.284   -1.21e+05    3.55e+04\n",
            "company_location_Vietnam                                    0          0        nan        nan           0           0\n",
            "company_size_Medium                                 -224.6489   7243.636     -0.031      0.975   -1.45e+04     1.4e+04\n",
            "company_size_Small                                 -2.158e+04   1.01e+04     -2.137      0.033   -4.15e+04   -1710.171\n",
            "==============================================================================\n",
            "Omnibus:                      133.494   Durbin-Watson:                   2.026\n",
            "Prob(Omnibus):                  0.000   Jarque-Bera (JB):              952.240\n",
            "Skew:                           1.148   Prob(JB):                    1.67e-207\n",
            "Kurtosis:                       9.974   Cond. No.                     4.34e+19\n",
            "==============================================================================\n",
            "\n",
            "Notes:\n",
            "[1] Standard Errors assume that the covariance matrix of the errors is correctly specified.\n",
            "[2] The smallest eigenvalue is 9.2e-31. This might indicate that there are\n",
            "strong multicollinearity problems or that the design matrix is singular.\n"
          ]
        }
      ]
    },
    {
      "cell_type": "code",
      "source": [
        "from sklearn.metrics import mean_absolute_error"
      ],
      "metadata": {
        "id": "FdPf7EN_AkSm"
      },
      "execution_count": null,
      "outputs": []
    },
    {
      "cell_type": "code",
      "source": [
        "score = mean_absolute_error(y_test, predictions)\n",
        "print('MAE:', score)"
      ],
      "metadata": {
        "colab": {
          "base_uri": "https://localhost:8080/"
        },
        "id": "fSCr7q8-pSdr",
        "outputId": "5933aa9a-1215-4a0b-c775-673db05dbf46"
      },
      "execution_count": null,
      "outputs": [
        {
          "output_type": "stream",
          "name": "stdout",
          "text": [
            "MAE: 1.4606372005938126e+16\n"
          ]
        }
      ]
    },
    {
      "cell_type": "markdown",
      "source": [
        "#classification"
      ],
      "metadata": {
        "id": "9lKMAmYnPsYJ"
      }
    },
    {
      "cell_type": "code",
      "source": [
        "#Import required libraries\n",
        "from sklearn.model_selection import cross_val_score\n",
        "from sklearn.model_selection import GridSearchCV\n",
        "from sklearn.linear_model import LogisticRegression\n",
        "from sklearn.neighbors import KNeighborsClassifier\n",
        "from sklearn.svm import SVC\n",
        "from sklearn.tree import DecisionTreeClassifier\n",
        "from sklearn.ensemble import RandomForestClassifier\n",
        "from sklearn.metrics import accuracy_score"
      ],
      "metadata": {
        "id": "ng1MZ6rWTWLl"
      },
      "execution_count": null,
      "outputs": []
    },
    {
      "cell_type": "code",
      "source": [
        "#To store results of models, we create two dictionaries\n",
        "result_dict_train = {}\n",
        "result_dict_test = {}"
      ],
      "metadata": {
        "id": "YAvPRQ0PRs6i"
      },
      "execution_count": null,
      "outputs": []
    },
    {
      "cell_type": "markdown",
      "source": [
        "Applying Logistic Regression classifier"
      ],
      "metadata": {
        "id": "h56vnQzLdiJ2"
      }
    },
    {
      "cell_type": "code",
      "source": [
        "#Logistic Regression classifier\n",
        "reg = LogisticRegression(random_state = 42)\n",
        "accuracies = cross_val_score(reg, X_train, y_train, cv=5)\n",
        "reg.fit(X_train,y_train)\n",
        "y_pred = reg.predict(X_test)\n",
        " \n",
        "#Obtain accuracy\n",
        "print(\"Train Score:\",np.mean(accuracies))\n",
        "print(\"Test Score:\",reg.score(X_test,y_test))"
      ],
      "metadata": {
        "colab": {
          "base_uri": "https://localhost:8080/"
        },
        "id": "BNFI9FBtRK9n",
        "outputId": "590b08e4-ff71-40e9-fbff-19d0b6558a59"
      },
      "execution_count": null,
      "outputs": [
        {
          "output_type": "stream",
          "name": "stdout",
          "text": [
            "Train Score: 0.04243697478991597\n",
            "Test Score: 0.02185792349726776\n"
          ]
        }
      ]
    },
    {
      "cell_type": "code",
      "source": [
        "#Store results in the dictionaries\n",
        "result_dict_train[\"Logistic Train Score\"] = np.mean(accuracies)\n",
        "result_dict_test[\"Logistic Test Score\"] = reg.score(X_test,y_test)"
      ],
      "metadata": {
        "id": "9E-AcUDBRvSr"
      },
      "execution_count": null,
      "outputs": []
    },
    {
      "cell_type": "markdown",
      "source": [
        "Applying K-Nearest Neighbour classifier"
      ],
      "metadata": {
        "id": "ApIpqilqdz-O"
      }
    },
    {
      "cell_type": "code",
      "source": [
        "#K-Nearest Neighbour classifier\n",
        "knn = KNeighborsClassifier()\n",
        "accuracies = cross_val_score(knn, X_train, y_train, cv=5)\n",
        "knn.fit(X_train,y_train)\n",
        "y_pred = knn.predict(X_test)\n",
        "#Obtain accuracy\n",
        "print(\"Train Score:\",np.mean(accuracies))\n",
        "print(\"Test Score:\",knn.score(X_test,y_test))"
      ],
      "metadata": {
        "colab": {
          "base_uri": "https://localhost:8080/"
        },
        "id": "lBtuAwasObD9",
        "outputId": "2a04f86a-ebb9-4a6e-8ef6-73818366d054"
      },
      "execution_count": null,
      "outputs": [
        {
          "output_type": "stream",
          "name": "stdout",
          "text": [
            "Train Score: 0.037703081232492996\n",
            "Test Score: 0.01639344262295082\n"
          ]
        }
      ]
    },
    {
      "cell_type": "code",
      "source": [
        "#Store results in the dictionaries\n",
        "result_dict_train[\"KNN Train Score\"] = np.mean(accuracies)\n",
        "result_dict_test[\"KNN Test Score\"] = knn.score(X_test,y_test)"
      ],
      "metadata": {
        "id": "HGuAPCRAR0j4"
      },
      "execution_count": null,
      "outputs": []
    },
    {
      "cell_type": "markdown",
      "source": [
        "Applying SVC classifier"
      ],
      "metadata": {
        "id": "um3FTNP1d4vG"
      }
    },
    {
      "cell_type": "code",
      "source": [
        "#SVC\n",
        "svc = SVC(random_state = 42)\n",
        "accuracies = cross_val_score(svc, X_train, y_train, cv=5)\n",
        "svc.fit(X_train,y_train)\n",
        "y_pred = svc.predict(X_test)\n",
        " \n",
        "#Obtain accuracy\n",
        "print(\"Train Score:\",np.mean(accuracies))\n",
        "print(\"Test Score:\",svc.score(X_test,y_test))\n",
        "\n"
      ],
      "metadata": {
        "colab": {
          "base_uri": "https://localhost:8080/"
        },
        "id": "-t1fWB84R66j",
        "outputId": "cf2c47c2-d3b9-48f6-a7fa-6ebd7a4c0fea"
      },
      "execution_count": null,
      "outputs": [
        {
          "output_type": "stream",
          "name": "stdout",
          "text": [
            "Train Score: 0.021232492997198878\n",
            "Test Score: 0.01092896174863388\n"
          ]
        }
      ]
    },
    {
      "cell_type": "code",
      "source": [
        "#Store results in the dictionaries\n",
        "result_dict_train[\"SVM Train Score\"] = np.mean(accuracies)\n",
        "result_dict_test[\"SVM Test Score\"] = svc.score(X_test,y_test)"
      ],
      "metadata": {
        "id": "ERh3ORQRR-7P"
      },
      "execution_count": null,
      "outputs": []
    },
    {
      "cell_type": "markdown",
      "source": [
        " Applying Decision Tree Classifier"
      ],
      "metadata": {
        "id": "40Stk8S1d_K-"
      }
    },
    {
      "cell_type": "code",
      "source": [
        "dtc = DecisionTreeClassifier(random_state = 42)\n",
        "accuracies = cross_val_score(dtc, X_train, y_train, cv=5)\n",
        "dtc.fit(X_train,y_train)\n",
        "y_pred = dtc.predict(X_test)\n",
        " \n",
        "#Obtain accuracy\n",
        "print(\"Train Score:\",np.mean(accuracies))\n",
        "print(\"Test Score:\",dtc.score(X_test,y_test))"
      ],
      "metadata": {
        "colab": {
          "base_uri": "https://localhost:8080/"
        },
        "id": "mOcQ2LWfSJVF",
        "outputId": "804ee9ce-3049-4a05-9dbe-9a10d199225c"
      },
      "execution_count": null,
      "outputs": [
        {
          "output_type": "stream",
          "name": "stdout",
          "text": [
            "Train Score: 0.042464985994397755\n",
            "Test Score: 0.03278688524590164\n"
          ]
        }
      ]
    },
    {
      "cell_type": "code",
      "source": [
        "#Store results in the dictionaries\n",
        "result_dict_train[\"Decision Tree Train Score\"] = np.mean(accuracies)\n",
        "result_dict_test[\"Decision Tree Test Score\"] = dtc.score(X_test,y_test)"
      ],
      "metadata": {
        "id": "VE5CmWJNSLTt"
      },
      "execution_count": null,
      "outputs": []
    },
    {
      "cell_type": "markdown",
      "source": [
        "Applying Random Forest Classifier"
      ],
      "metadata": {
        "id": "S49ujgMseKtR"
      }
    },
    {
      "cell_type": "code",
      "source": [
        "rfc = RandomForestClassifier(random_state = 42)\n",
        "accuracies = cross_val_score(rfc, X_train, y_train, cv=5)\n",
        "rfc.fit(X_train,y_train)\n",
        "y_pred = rfc.predict(X_test)\n",
        "#Obtain accuracy\n",
        "print(\"Train Score:\",np.mean(accuracies))\n",
        "print(\"Test Score:\",rfc.score(X_test,y_test))"
      ],
      "metadata": {
        "colab": {
          "base_uri": "https://localhost:8080/"
        },
        "id": "Mc417ontSQKe",
        "outputId": "4750cd04-deae-4385-9836-c1a790f094c3"
      },
      "execution_count": null,
      "outputs": [
        {
          "output_type": "stream",
          "name": "stdout",
          "text": [
            "Train Score: 0.05190476190476191\n",
            "Test Score: 0.03278688524590164\n"
          ]
        }
      ]
    },
    {
      "cell_type": "code",
      "source": [
        "#Store results in the dictionaries\n",
        "result_dict_train[\"Random Forest Train Score\"] = np.mean(accuracies)\n",
        "result_dict_test[\"Random Forest Test Score\"] = rfc.score(X_test,y_test)"
      ],
      "metadata": {
        "id": "SkrE5ocdSU75"
      },
      "execution_count": null,
      "outputs": []
    },
    {
      "cell_type": "markdown",
      "source": [
        "Checking Train Score of all classifier "
      ],
      "metadata": {
        "id": "-EFZNcJIeTMT"
      }
    },
    {
      "cell_type": "code",
      "source": [
        "df_result_train = pd.DataFrame.from_dict(result_dict_train,orient = \"index\", columns=[\"Score\"])\n",
        "df_result_train"
      ],
      "metadata": {
        "colab": {
          "base_uri": "https://localhost:8080/",
          "height": 206
        },
        "id": "VAp4IMFrSeJ6",
        "outputId": "a0b5187b-51ac-460b-8296-da2e96364dad"
      },
      "execution_count": null,
      "outputs": [
        {
          "output_type": "execute_result",
          "data": {
            "text/plain": [
              "                              Score\n",
              "Logistic Train Score       0.042437\n",
              "KNN Train Score            0.037703\n",
              "SVM Train Score            0.021232\n",
              "Decision Tree Train Score  0.042465\n",
              "Random Forest Train Score  0.051905"
            ],
            "text/html": [
              "\n",
              "  <div id=\"df-77c9cf2a-f6b3-415b-8328-3c15ea8f2a4d\">\n",
              "    <div class=\"colab-df-container\">\n",
              "      <div>\n",
              "<style scoped>\n",
              "    .dataframe tbody tr th:only-of-type {\n",
              "        vertical-align: middle;\n",
              "    }\n",
              "\n",
              "    .dataframe tbody tr th {\n",
              "        vertical-align: top;\n",
              "    }\n",
              "\n",
              "    .dataframe thead th {\n",
              "        text-align: right;\n",
              "    }\n",
              "</style>\n",
              "<table border=\"1\" class=\"dataframe\">\n",
              "  <thead>\n",
              "    <tr style=\"text-align: right;\">\n",
              "      <th></th>\n",
              "      <th>Score</th>\n",
              "    </tr>\n",
              "  </thead>\n",
              "  <tbody>\n",
              "    <tr>\n",
              "      <th>Logistic Train Score</th>\n",
              "      <td>0.042437</td>\n",
              "    </tr>\n",
              "    <tr>\n",
              "      <th>KNN Train Score</th>\n",
              "      <td>0.037703</td>\n",
              "    </tr>\n",
              "    <tr>\n",
              "      <th>SVM Train Score</th>\n",
              "      <td>0.021232</td>\n",
              "    </tr>\n",
              "    <tr>\n",
              "      <th>Decision Tree Train Score</th>\n",
              "      <td>0.042465</td>\n",
              "    </tr>\n",
              "    <tr>\n",
              "      <th>Random Forest Train Score</th>\n",
              "      <td>0.051905</td>\n",
              "    </tr>\n",
              "  </tbody>\n",
              "</table>\n",
              "</div>\n",
              "      <button class=\"colab-df-convert\" onclick=\"convertToInteractive('df-77c9cf2a-f6b3-415b-8328-3c15ea8f2a4d')\"\n",
              "              title=\"Convert this dataframe to an interactive table.\"\n",
              "              style=\"display:none;\">\n",
              "        \n",
              "  <svg xmlns=\"http://www.w3.org/2000/svg\" height=\"24px\"viewBox=\"0 0 24 24\"\n",
              "       width=\"24px\">\n",
              "    <path d=\"M0 0h24v24H0V0z\" fill=\"none\"/>\n",
              "    <path d=\"M18.56 5.44l.94 2.06.94-2.06 2.06-.94-2.06-.94-.94-2.06-.94 2.06-2.06.94zm-11 1L8.5 8.5l.94-2.06 2.06-.94-2.06-.94L8.5 2.5l-.94 2.06-2.06.94zm10 10l.94 2.06.94-2.06 2.06-.94-2.06-.94-.94-2.06-.94 2.06-2.06.94z\"/><path d=\"M17.41 7.96l-1.37-1.37c-.4-.4-.92-.59-1.43-.59-.52 0-1.04.2-1.43.59L10.3 9.45l-7.72 7.72c-.78.78-.78 2.05 0 2.83L4 21.41c.39.39.9.59 1.41.59.51 0 1.02-.2 1.41-.59l7.78-7.78 2.81-2.81c.8-.78.8-2.07 0-2.86zM5.41 20L4 18.59l7.72-7.72 1.47 1.35L5.41 20z\"/>\n",
              "  </svg>\n",
              "      </button>\n",
              "      \n",
              "  <style>\n",
              "    .colab-df-container {\n",
              "      display:flex;\n",
              "      flex-wrap:wrap;\n",
              "      gap: 12px;\n",
              "    }\n",
              "\n",
              "    .colab-df-convert {\n",
              "      background-color: #E8F0FE;\n",
              "      border: none;\n",
              "      border-radius: 50%;\n",
              "      cursor: pointer;\n",
              "      display: none;\n",
              "      fill: #1967D2;\n",
              "      height: 32px;\n",
              "      padding: 0 0 0 0;\n",
              "      width: 32px;\n",
              "    }\n",
              "\n",
              "    .colab-df-convert:hover {\n",
              "      background-color: #E2EBFA;\n",
              "      box-shadow: 0px 1px 2px rgba(60, 64, 67, 0.3), 0px 1px 3px 1px rgba(60, 64, 67, 0.15);\n",
              "      fill: #174EA6;\n",
              "    }\n",
              "\n",
              "    [theme=dark] .colab-df-convert {\n",
              "      background-color: #3B4455;\n",
              "      fill: #D2E3FC;\n",
              "    }\n",
              "\n",
              "    [theme=dark] .colab-df-convert:hover {\n",
              "      background-color: #434B5C;\n",
              "      box-shadow: 0px 1px 3px 1px rgba(0, 0, 0, 0.15);\n",
              "      filter: drop-shadow(0px 1px 2px rgba(0, 0, 0, 0.3));\n",
              "      fill: #FFFFFF;\n",
              "    }\n",
              "  </style>\n",
              "\n",
              "      <script>\n",
              "        const buttonEl =\n",
              "          document.querySelector('#df-77c9cf2a-f6b3-415b-8328-3c15ea8f2a4d button.colab-df-convert');\n",
              "        buttonEl.style.display =\n",
              "          google.colab.kernel.accessAllowed ? 'block' : 'none';\n",
              "\n",
              "        async function convertToInteractive(key) {\n",
              "          const element = document.querySelector('#df-77c9cf2a-f6b3-415b-8328-3c15ea8f2a4d');\n",
              "          const dataTable =\n",
              "            await google.colab.kernel.invokeFunction('convertToInteractive',\n",
              "                                                     [key], {});\n",
              "          if (!dataTable) return;\n",
              "\n",
              "          const docLinkHtml = 'Like what you see? Visit the ' +\n",
              "            '<a target=\"_blank\" href=https://colab.research.google.com/notebooks/data_table.ipynb>data table notebook</a>'\n",
              "            + ' to learn more about interactive tables.';\n",
              "          element.innerHTML = '';\n",
              "          dataTable['output_type'] = 'display_data';\n",
              "          await google.colab.output.renderOutput(dataTable, element);\n",
              "          const docLink = document.createElement('div');\n",
              "          docLink.innerHTML = docLinkHtml;\n",
              "          element.appendChild(docLink);\n",
              "        }\n",
              "      </script>\n",
              "    </div>\n",
              "  </div>\n",
              "  "
            ]
          },
          "metadata": {},
          "execution_count": 570
        }
      ]
    },
    {
      "cell_type": "markdown",
      "source": [
        "Checking Test Score of all classifier"
      ],
      "metadata": {
        "id": "_1jzFwIyefc8"
      }
    },
    {
      "cell_type": "code",
      "source": [
        "df_result_test = pd.DataFrame.from_dict(result_dict_test,orient = \"index\",columns=[\"Score\"])\n",
        "df_result_test\n"
      ],
      "metadata": {
        "colab": {
          "base_uri": "https://localhost:8080/",
          "height": 206
        },
        "id": "dNPWp0hVSjxw",
        "outputId": "0df3567e-38ac-47fd-da06-53298aa9720a"
      },
      "execution_count": null,
      "outputs": [
        {
          "output_type": "execute_result",
          "data": {
            "text/plain": [
              "                             Score\n",
              "Logistic Test Score       0.021858\n",
              "KNN Test Score            0.016393\n",
              "SVM Test Score            0.010929\n",
              "Decision Tree Test Score  0.032787\n",
              "Random Forest Test Score  0.032787"
            ],
            "text/html": [
              "\n",
              "  <div id=\"df-770f42b8-3a8e-4e99-999f-798b79f093e0\">\n",
              "    <div class=\"colab-df-container\">\n",
              "      <div>\n",
              "<style scoped>\n",
              "    .dataframe tbody tr th:only-of-type {\n",
              "        vertical-align: middle;\n",
              "    }\n",
              "\n",
              "    .dataframe tbody tr th {\n",
              "        vertical-align: top;\n",
              "    }\n",
              "\n",
              "    .dataframe thead th {\n",
              "        text-align: right;\n",
              "    }\n",
              "</style>\n",
              "<table border=\"1\" class=\"dataframe\">\n",
              "  <thead>\n",
              "    <tr style=\"text-align: right;\">\n",
              "      <th></th>\n",
              "      <th>Score</th>\n",
              "    </tr>\n",
              "  </thead>\n",
              "  <tbody>\n",
              "    <tr>\n",
              "      <th>Logistic Test Score</th>\n",
              "      <td>0.021858</td>\n",
              "    </tr>\n",
              "    <tr>\n",
              "      <th>KNN Test Score</th>\n",
              "      <td>0.016393</td>\n",
              "    </tr>\n",
              "    <tr>\n",
              "      <th>SVM Test Score</th>\n",
              "      <td>0.010929</td>\n",
              "    </tr>\n",
              "    <tr>\n",
              "      <th>Decision Tree Test Score</th>\n",
              "      <td>0.032787</td>\n",
              "    </tr>\n",
              "    <tr>\n",
              "      <th>Random Forest Test Score</th>\n",
              "      <td>0.032787</td>\n",
              "    </tr>\n",
              "  </tbody>\n",
              "</table>\n",
              "</div>\n",
              "      <button class=\"colab-df-convert\" onclick=\"convertToInteractive('df-770f42b8-3a8e-4e99-999f-798b79f093e0')\"\n",
              "              title=\"Convert this dataframe to an interactive table.\"\n",
              "              style=\"display:none;\">\n",
              "        \n",
              "  <svg xmlns=\"http://www.w3.org/2000/svg\" height=\"24px\"viewBox=\"0 0 24 24\"\n",
              "       width=\"24px\">\n",
              "    <path d=\"M0 0h24v24H0V0z\" fill=\"none\"/>\n",
              "    <path d=\"M18.56 5.44l.94 2.06.94-2.06 2.06-.94-2.06-.94-.94-2.06-.94 2.06-2.06.94zm-11 1L8.5 8.5l.94-2.06 2.06-.94-2.06-.94L8.5 2.5l-.94 2.06-2.06.94zm10 10l.94 2.06.94-2.06 2.06-.94-2.06-.94-.94-2.06-.94 2.06-2.06.94z\"/><path d=\"M17.41 7.96l-1.37-1.37c-.4-.4-.92-.59-1.43-.59-.52 0-1.04.2-1.43.59L10.3 9.45l-7.72 7.72c-.78.78-.78 2.05 0 2.83L4 21.41c.39.39.9.59 1.41.59.51 0 1.02-.2 1.41-.59l7.78-7.78 2.81-2.81c.8-.78.8-2.07 0-2.86zM5.41 20L4 18.59l7.72-7.72 1.47 1.35L5.41 20z\"/>\n",
              "  </svg>\n",
              "      </button>\n",
              "      \n",
              "  <style>\n",
              "    .colab-df-container {\n",
              "      display:flex;\n",
              "      flex-wrap:wrap;\n",
              "      gap: 12px;\n",
              "    }\n",
              "\n",
              "    .colab-df-convert {\n",
              "      background-color: #E8F0FE;\n",
              "      border: none;\n",
              "      border-radius: 50%;\n",
              "      cursor: pointer;\n",
              "      display: none;\n",
              "      fill: #1967D2;\n",
              "      height: 32px;\n",
              "      padding: 0 0 0 0;\n",
              "      width: 32px;\n",
              "    }\n",
              "\n",
              "    .colab-df-convert:hover {\n",
              "      background-color: #E2EBFA;\n",
              "      box-shadow: 0px 1px 2px rgba(60, 64, 67, 0.3), 0px 1px 3px 1px rgba(60, 64, 67, 0.15);\n",
              "      fill: #174EA6;\n",
              "    }\n",
              "\n",
              "    [theme=dark] .colab-df-convert {\n",
              "      background-color: #3B4455;\n",
              "      fill: #D2E3FC;\n",
              "    }\n",
              "\n",
              "    [theme=dark] .colab-df-convert:hover {\n",
              "      background-color: #434B5C;\n",
              "      box-shadow: 0px 1px 3px 1px rgba(0, 0, 0, 0.15);\n",
              "      filter: drop-shadow(0px 1px 2px rgba(0, 0, 0, 0.3));\n",
              "      fill: #FFFFFF;\n",
              "    }\n",
              "  </style>\n",
              "\n",
              "      <script>\n",
              "        const buttonEl =\n",
              "          document.querySelector('#df-770f42b8-3a8e-4e99-999f-798b79f093e0 button.colab-df-convert');\n",
              "        buttonEl.style.display =\n",
              "          google.colab.kernel.accessAllowed ? 'block' : 'none';\n",
              "\n",
              "        async function convertToInteractive(key) {\n",
              "          const element = document.querySelector('#df-770f42b8-3a8e-4e99-999f-798b79f093e0');\n",
              "          const dataTable =\n",
              "            await google.colab.kernel.invokeFunction('convertToInteractive',\n",
              "                                                     [key], {});\n",
              "          if (!dataTable) return;\n",
              "\n",
              "          const docLinkHtml = 'Like what you see? Visit the ' +\n",
              "            '<a target=\"_blank\" href=https://colab.research.google.com/notebooks/data_table.ipynb>data table notebook</a>'\n",
              "            + ' to learn more about interactive tables.';\n",
              "          element.innerHTML = '';\n",
              "          dataTable['output_type'] = 'display_data';\n",
              "          await google.colab.output.renderOutput(dataTable, element);\n",
              "          const docLink = document.createElement('div');\n",
              "          docLink.innerHTML = docLinkHtml;\n",
              "          element.appendChild(docLink);\n",
              "        }\n",
              "      </script>\n",
              "    </div>\n",
              "  </div>\n",
              "  "
            ]
          },
          "metadata": {},
          "execution_count": 571
        }
      ]
    },
    {
      "cell_type": "code",
      "source": [
        "#barplot visuallization of all classifier\n",
        "import seaborn as sns\n",
        "fig,ax = plt.subplots(1,2,figsize=(20,5))\n",
        "sns.barplot(x = df_result_train.index,y = df_result_train.Score,ax = ax[0])\n",
        "sns.barplot(x = df_result_test.index,y = df_result_test.Score,ax = ax[1])\n",
        "ax[0].set_xticklabels(df_result_train.index,rotation = 75)\n",
        "ax[1].set_xticklabels(df_result_test.index,rotation = 75)\n",
        "plt.show()"
      ],
      "metadata": {
        "colab": {
          "base_uri": "https://localhost:8080/",
          "height": 441
        },
        "id": "QjP3L09NSnc1",
        "outputId": "09fddfce-495d-494d-86aa-f2bcfb35ecea"
      },
      "execution_count": null,
      "outputs": [
        {
          "output_type": "display_data",
          "data": {
            "text/plain": [
              "<Figure size 1440x360 with 2 Axes>"
            ],
            "image/png": "[encoded data removed]"
          },
          "metadata": {
            "needs_background": "light"
          }
        }
      ]
    },
    {
      "cell_type": "markdown",
      "source": [
        "Hence, we found Random Forest Regressor have high Score among all classifier."
      ],
      "metadata": {
        "id": "QOUTmfsDe_uJ"
      }
    },
    {
      "cell_type": "markdown",
      "source": [
        "#Clustering"
      ],
      "metadata": {
        "id": "yh_98mRX9SGs"
      }
    },
    {
      "cell_type": "code",
      "source": [
        "# importing necessary libraries\n",
        "import pandas as pd\n",
        "import numpy as np\n",
        "!pip install kmodes\n",
        "from kmodes.kmodes import KModes\n",
        "import matplotlib.pyplot as plt\n",
        "%matplotlib inline"
      ],
      "metadata": {
        "id": "601H3Otie-lm",
        "colab": {
          "base_uri": "https://localhost:8080/"
        },
        "outputId": "10fa6a2f-dc59-4e04-8f3d-f34be64b7cef"
      },
      "execution_count": null,
      "outputs": [
        {
          "output_type": "stream",
          "name": "stdout",
          "text": [
            "Looking in indexes: https://pypi.org/simple, https://us-python.pkg.dev/colab-wheels/public/simple/\n",
            "Requirement already satisfied: kmodes in /usr/local/lib/python3.7/dist-packages (0.12.2)\n",
            "Requirement already satisfied: numpy>=1.10.4 in /usr/local/lib/python3.7/dist-packages (from kmodes) (1.21.6)\n",
            "Requirement already satisfied: scipy>=0.13.3 in /usr/local/lib/python3.7/dist-packages (from kmodes) (1.7.3)\n",
            "Requirement already satisfied: joblib>=0.11 in /usr/local/lib/python3.7/dist-packages (from kmodes) (1.2.0)\n",
            "Requirement already satisfied: scikit-learn>=0.22.0 in /usr/local/lib/python3.7/dist-packages (from kmodes) (1.0.2)\n",
            "Requirement already satisfied: threadpoolctl>=2.0.0 in /usr/local/lib/python3.7/dist-packages (from scikit-learn>=0.22.0->kmodes) (3.1.0)\n"
          ]
        }
      ]
    },
    {
      "cell_type": "code",
      "source": [
        "df.columns"
      ],
      "metadata": {
        "colab": {
          "base_uri": "https://localhost:8080/"
        },
        "id": "cDchHzXOIBZs",
        "outputId": "be4792f4-b887-4ee4-8ba3-bc777b798fc2"
      },
      "execution_count": null,
      "outputs": [
        {
          "output_type": "execute_result",
          "data": {
            "text/plain": [
              "Index(['work_year', 'experience_level', 'employment_type', 'job_title',\n",
              "       'salary', 'employee_residence', 'job_type', 'company_location',\n",
              "       'company_size'],\n",
              "      dtype='object')"
            ]
          },
          "metadata": {},
          "execution_count": 574
        }
      ]
    },
    {
      "cell_type": "code",
      "source": [
        "# Elbow curve to find optimal K\n",
        "cost = []\n",
        "K = range(1,5)\n",
        "for num_clusters in list(K):\n",
        "    kmode = KModes(n_clusters=num_clusters, init = \"random\", n_init = 5, verbose=1)\n",
        "    kmode.fit_predict(df[['experience_level', 'salary','job_type']])\n",
        "    cost.append(kmode.cost_)\n",
        "    \n",
        "plt.plot(K, cost, 'bx-')\n",
        "plt.xlabel('No. of clusters')\n",
        "plt.ylabel('Cost')\n",
        "plt.title('Elbow Method For Optimal k')\n",
        "plt.show()"
      ],
      "metadata": {
        "colab": {
          "base_uri": "https://localhost:8080/",
          "height": 1771
        },
        "id": "I1nsCyDo_WoK",
        "outputId": "9c80cabc-5381-4f0d-a8db-2f48da8cf2b5"
      },
      "execution_count": null,
      "outputs": [
        {
          "output_type": "stream",
          "name": "stdout",
          "text": [
            "Init: initializing centroids\n",
            "Init: initializing clusters\n",
            "Starting iterations...\n",
            "Run 1, iteration: 1/100, moves: 0, cost: 1145.0\n",
            "Init: initializing centroids\n",
            "Init: initializing clusters\n",
            "Starting iterations...\n",
            "Run 2, iteration: 1/100, moves: 0, cost: 1145.0\n",
            "Init: initializing centroids\n",
            "Init: initializing clusters\n",
            "Starting iterations...\n",
            "Run 3, iteration: 1/100, moves: 0, cost: 1145.0\n",
            "Init: initializing centroids\n",
            "Init: initializing clusters\n",
            "Starting iterations...\n",
            "Run 4, iteration: 1/100, moves: 0, cost: 1145.0\n",
            "Init: initializing centroids\n",
            "Init: initializing clusters\n",
            "Starting iterations...\n",
            "Run 5, iteration: 1/100, moves: 0, cost: 1145.0\n",
            "Best run was number 1\n",
            "Init: initializing centroids\n",
            "Init: initializing clusters\n",
            "Starting iterations...\n",
            "Run 1, iteration: 1/100, moves: 7, cost: 928.0\n",
            "Init: initializing centroids\n",
            "Init: initializing clusters\n",
            "Starting iterations...\n",
            "Run 2, iteration: 1/100, moves: 3, cost: 975.0\n",
            "Init: initializing centroids\n",
            "Init: initializing clusters\n",
            "Starting iterations...\n",
            "Run 3, iteration: 1/100, moves: 8, cost: 928.0\n",
            "Init: initializing centroids\n",
            "Init: initializing clusters\n",
            "Starting iterations...\n",
            "Run 4, iteration: 1/100, moves: 99, cost: 972.0\n",
            "Init: initializing centroids\n",
            "Init: initializing clusters\n",
            "Starting iterations...\n",
            "Run 5, iteration: 1/100, moves: 0, cost: 1144.0\n",
            "Best run was number 1\n",
            "Init: initializing centroids\n",
            "Init: initializing clusters\n",
            "Starting iterations...\n",
            "Run 1, iteration: 1/100, moves: 9, cost: 897.0\n",
            "Init: initializing centroids\n",
            "Init: initializing clusters\n",
            "Starting iterations...\n",
            "Run 2, iteration: 1/100, moves: 65, cost: 872.0\n",
            "Init: initializing centroids\n",
            "Init: initializing clusters\n",
            "Starting iterations...\n",
            "Run 3, iteration: 1/100, moves: 97, cost: 923.0\n",
            "Init: initializing centroids\n",
            "Init: initializing clusters\n",
            "Starting iterations...\n",
            "Run 4, iteration: 1/100, moves: 7, cost: 895.0\n",
            "Init: initializing centroids\n",
            "Init: initializing clusters\n",
            "Starting iterations...\n",
            "Run 5, iteration: 1/100, moves: 4, cost: 1069.0\n",
            "Best run was number 2\n",
            "Init: initializing centroids\n",
            "Init: initializing clusters\n",
            "Starting iterations...\n",
            "Run 1, iteration: 1/100, moves: 86, cost: 839.0\n",
            "Init: initializing centroids\n",
            "Init: initializing clusters\n",
            "Starting iterations...\n",
            "Run 2, iteration: 1/100, moves: 33, cost: 800.0\n",
            "Run 2, iteration: 2/100, moves: 2, cost: 800.0\n",
            "Init: initializing centroids\n",
            "Init: initializing clusters\n",
            "Starting iterations...\n",
            "Run 3, iteration: 1/100, moves: 5, cost: 839.0\n",
            "Init: initializing centroids\n",
            "Init: initializing clusters\n",
            "Starting iterations...\n",
            "Run 4, iteration: 1/100, moves: 4, cost: 809.0\n",
            "Init: initializing centroids\n",
            "Init: initializing clusters\n",
            "Starting iterations...\n",
            "Run 5, iteration: 1/100, moves: 102, cost: 799.0\n",
            "Best run was number 5\n"
          ]
        },
        {
          "output_type": "display_data",
          "data": {
            "text/plain": [
              "<Figure size 432x288 with 1 Axes>"
            ],
            "image/png": "[encoded data removed]"
          },
          "metadata": {
            "needs_background": "light"
          }
        }
      ]
    },
    {
      "cell_type": "markdown",
      "source": [
        "We can see a bend at K=2 in the above graph indicating 3is the optimal number of clusters."
      ],
      "metadata": {
        "id": "qmMTQ1uQ_9yz"
      }
    },
    {
      "cell_type": "code",
      "source": [
        "plt.figure(figsize=(15,10))\n",
        "plt.subplot(2,2,1)\n",
        "sns.heatmap(pd.crosstab(df['work_year'],df['experience_level']))\n",
        "plt.subplot(2,2,2)\n",
        "sns.heatmap(pd.crosstab(df['work_year'],df['employment_type']))\n",
        "plt.subplot(2,2,3)\n",
        "sns.heatmap(pd.crosstab(df['work_year'],df['job_type']))\n",
        "plt.subplot(2,2,4)\n",
        "sns.heatmap(pd.crosstab(df['work_year'],df['company_size']))"
      ],
      "metadata": {
        "colab": {
          "base_uri": "https://localhost:8080/",
          "height": 623
        },
        "id": "eT-aaOlocZ9R",
        "outputId": "d8a73334-9fc4-4183-db72-9900e46edeb5"
      },
      "execution_count": null,
      "outputs": [
        {
          "output_type": "execute_result",
          "data": {
            "text/plain": [
              "<matplotlib.axes._subplots.AxesSubplot at 0x7fd1e60cefd0>"
            ]
          },
          "metadata": {},
          "execution_count": 576
        },
        {
          "output_type": "display_data",
          "data": {
            "text/plain": [
              "<Figure size 1080x720 with 8 Axes>"
            ],
            "image/png": "[encoded data removed]"
          },
          "metadata": {
            "needs_background": "light"
          }
        }
      ]
    },
    {
      "cell_type": "code",
      "source": [
        "sns.clustermap(pd.crosstab(df['employment_type'],df['salary']))"
      ],
      "metadata": {
        "colab": {
          "base_uri": "https://localhost:8080/",
          "height": 747
        },
        "id": "qFJm8jwic0ci",
        "outputId": "c6b2fa91-e1ec-44e5-d48d-7b53b4fd8388"
      },
      "execution_count": null,
      "outputs": [
        {
          "output_type": "execute_result",
          "data": {
            "text/plain": [
              "<seaborn.matrix.ClusterGrid at 0x7fd1e5ec8c10>"
            ]
          },
          "metadata": {},
          "execution_count": 577
        },
        {
          "output_type": "display_data",
          "data": {
            "text/plain": [
              "<Figure size 720x720 with 4 Axes>"
            ],
            "image/png": "[encoded data removed]"
          },
          "metadata": {
            "needs_background": "light"
          }
        }
      ]
    },
    {
      "cell_type": "code",
      "source": [
        "sns.pairplot(df,hue='company_size')"
      ],
      "metadata": {
        "colab": {
          "base_uri": "https://localhost:8080/",
          "height": 391
        },
        "id": "7sqpNx0Rc1ph",
        "outputId": "2d68a89e-7dc0-42e9-ba45-272a03f72acb"
      },
      "execution_count": null,
      "outputs": [
        {
          "output_type": "execute_result",
          "data": {
            "text/plain": [
              "<seaborn.axisgrid.PairGrid at 0x7fd1e6deb690>"
            ]
          },
          "metadata": {},
          "execution_count": 578
        },
        {
          "output_type": "display_data",
          "data": {
            "text/plain": [
              "<Figure size 438.125x360 with 6 Axes>"
            ],
            "image/png": "[encoded data removed]"
          },
          "metadata": {
            "needs_background": "light"
          }
        }
      ]
    },
    {
      "cell_type": "code",
      "source": [
        "# Building the model with 3 clusters\n",
        "kmode = KModes(n_clusters=3, init = \"random\", n_init = 5, verbose=1)\n",
        "clusters = kmode.fit_predict(df[['experience_level', 'salary','job_type']])\n",
        "clusters"
      ],
      "metadata": {
        "colab": {
          "base_uri": "https://localhost:8080/"
        },
        "id": "CLdV-pkk_rWD",
        "outputId": "ee79b801-f5a9-48cf-a9cc-4cf829fe1d9b"
      },
      "execution_count": null,
      "outputs": [
        {
          "output_type": "stream",
          "name": "stdout",
          "text": [
            "Init: initializing centroids\n",
            "Init: initializing clusters\n",
            "Starting iterations...\n",
            "Run 1, iteration: 1/100, moves: 71, cost: 997.0\n",
            "Run 1, iteration: 2/100, moves: 6, cost: 997.0\n",
            "Init: initializing centroids\n",
            "Init: initializing clusters\n",
            "Starting iterations...\n",
            "Run 2, iteration: 1/100, moves: 41, cost: 857.0\n",
            "Init: initializing centroids\n",
            "Init: initializing clusters\n",
            "Starting iterations...\n",
            "Run 3, iteration: 1/100, moves: 0, cost: 894.0\n",
            "Init: initializing centroids\n",
            "Init: initializing clusters\n",
            "Starting iterations...\n",
            "Run 4, iteration: 1/100, moves: 0, cost: 861.0\n",
            "Init: initializing centroids\n",
            "Init: initializing clusters\n",
            "Starting iterations...\n",
            "Run 5, iteration: 1/100, moves: 0, cost: 915.0\n",
            "Best run was number 2\n"
          ]
        },
        {
          "output_type": "execute_result",
          "data": {
            "text/plain": [
              "array([1, 2, 0, 1, 0, 0, 0, 1, 1, 0, 2, 1, 2, 1, 1, 1, 0, 0, 0, 1, 1, 1,\n",
              "       0, 1, 1, 0, 0, 2, 0, 0, 1, 0, 0, 1, 1, 1, 1, 0, 0, 0, 1, 0, 1, 1,\n",
              "       1, 0, 1, 0, 1, 1, 2, 0, 0, 0, 0, 0, 1, 1, 2, 1, 1, 1, 0, 0, 0, 0,\n",
              "       2, 0, 0, 2, 1, 1, 0, 0, 0, 0, 0, 1, 1, 0, 0, 1, 1, 1, 0, 1, 0, 1,\n",
              "       0, 0, 0, 0, 1, 2, 0, 1, 0, 1, 0, 1, 1, 0, 1, 1, 1, 1, 1, 0, 0, 0,\n",
              "       0, 0, 0, 0, 1, 0, 1, 1, 0, 1, 1, 0, 0, 2, 0, 1, 2, 1, 0, 0, 0, 0,\n",
              "       1, 0, 0, 1, 1, 1, 2, 0, 1, 2, 2, 1, 0, 0, 1, 1, 0, 0, 2, 1, 1, 0,\n",
              "       0, 0, 1, 1, 0, 0, 0, 2, 1, 0, 0, 0, 0, 2, 0, 1, 1, 1, 0, 0, 0, 0,\n",
              "       1, 1, 0, 1, 1, 1, 1, 0, 1, 1, 0, 0, 0, 1, 0, 0, 1, 0, 0, 1, 0, 0,\n",
              "       0, 0, 1, 0, 1, 0, 1, 1, 0, 2, 1, 2, 1, 1, 1, 2, 0, 0, 0, 1, 1, 0,\n",
              "       1, 1, 1, 1, 0, 0, 0, 1, 2, 0, 0, 0, 0, 0, 1, 1, 1, 1, 2, 0, 0, 1,\n",
              "       1, 0, 0, 1, 0, 1, 0, 0, 1, 0, 0, 0, 1, 0, 1, 0, 0, 2, 1, 0, 1, 2,\n",
              "       1, 0, 1, 1, 1, 0, 0, 2, 2, 0, 0, 0, 0, 0, 0, 0, 1, 0, 1, 0, 1, 0,\n",
              "       0, 1, 1, 0, 0, 0, 1, 1, 1, 1, 0, 0, 0, 0, 2, 2, 0, 0, 0, 2, 2, 1,\n",
              "       1, 0, 0, 1, 1, 1, 1, 0, 0, 0, 0, 2, 2, 2, 2, 2, 2, 0, 0, 0, 0, 1,\n",
              "       0, 0, 0, 0, 0, 0, 1, 0, 0, 0, 0, 0, 0, 0, 0, 0, 2, 2, 2, 0, 0, 0,\n",
              "       0, 0, 2, 2, 2, 0, 0, 0, 0, 0, 0, 0, 2, 0, 2, 1, 0, 0, 0, 2, 2, 1,\n",
              "       1, 0, 2, 0, 0, 0, 0, 0, 0, 0, 0, 0, 0, 2, 0, 1, 1, 2, 0, 0, 0, 0,\n",
              "       1, 1, 0, 0, 0, 0, 2, 2, 0, 1, 1, 0, 1, 0, 1, 1, 1, 1, 1, 1, 0, 0,\n",
              "       1, 1, 1, 1, 1, 2, 2, 1, 0, 1, 2, 1, 1, 1, 1, 1, 1, 1, 1, 1, 2, 2,\n",
              "       1, 1, 1, 1, 2, 1, 0, 0, 0, 0, 0, 1, 0, 1, 2, 1, 0, 2, 1, 1, 1, 0,\n",
              "       1, 0, 0, 0, 0, 0, 0, 0, 1, 1, 0, 0, 1, 1, 0, 0, 1, 1, 0, 0, 0, 0,\n",
              "       0, 0, 0, 0, 0, 0, 0, 1, 1, 0, 0, 1, 0, 0, 0, 0, 0, 1, 0, 1, 0, 0,\n",
              "       1, 1, 0, 1, 0, 1, 0, 0, 2, 1, 0, 1, 1, 0, 1, 0, 1, 0, 1, 0, 1, 0,\n",
              "       0, 0, 1, 1, 0, 0, 0, 0, 0, 0, 1, 1, 0, 0, 1, 1, 0, 0, 0, 0, 0, 0,\n",
              "       2, 2, 0, 0, 0, 0, 0, 2, 2, 2, 2, 2, 0, 0, 0, 2, 0, 1, 0, 0, 0, 0,\n",
              "       0, 0, 0, 0, 0, 0, 0, 0, 0, 0, 0, 0, 0, 0, 1, 0, 2, 0, 0, 0, 0, 0,\n",
              "       0, 0, 0, 0, 1, 1, 2, 2, 0, 0, 2, 0, 1], dtype=uint16)"
            ]
          },
          "metadata": {},
          "execution_count": 579
        }
      ]
    },
    {
      "cell_type": "code",
      "source": [
        "df.insert(0, \"Cluster\", clusters, True)\n",
        "df"
      ],
      "metadata": {
        "colab": {
          "base_uri": "https://localhost:8080/",
          "height": 424
        },
        "id": "GMnXvDXRAMA9",
        "outputId": "d880ef60-9451-438e-bb0a-681233705624"
      },
      "execution_count": null,
      "outputs": [
        {
          "output_type": "execute_result",
          "data": {
            "text/plain": [
              "     Cluster  work_year experience_level employment_type  \\\n",
              "0          1       2020              Mid       Full-time   \n",
              "1          2       2020           Senior       Full-time   \n",
              "2          0       2020           Senior       Full-time   \n",
              "3          1       2020              Mid       Full-time   \n",
              "4          0       2020           Senior       Full-time   \n",
              "..       ...        ...              ...             ...   \n",
              "602        0       2022           Senior       Full-time   \n",
              "603        0       2022           Senior       Full-time   \n",
              "604        2       2022           Senior       Full-time   \n",
              "605        0       2022           Senior       Full-time   \n",
              "606        1       2022              Mid       Full-time   \n",
              "\n",
              "                      job_title  salary employee_residence job_type  \\\n",
              "0                Data Scientist   79833            Germany   onsite   \n",
              "1    Machine Learning Scientist  260000              Japan   onsite   \n",
              "2             Big Data Engineer  109024     United Kingdom   hybrid   \n",
              "3          Product Data Analyst   20000           Honduras   onsite   \n",
              "4     Machine Learning Engineer  150000      United States   hybrid   \n",
              "..                          ...     ...                ...      ...   \n",
              "602               Data Engineer  154000      United States   remote   \n",
              "603               Data Engineer  126000      United States   remote   \n",
              "604                Data Analyst  129000      United States   onsite   \n",
              "605                Data Analyst  150000      United States   remote   \n",
              "606                AI Scientist  200000              India   remote   \n",
              "\n",
              "    company_location company_size  \n",
              "0            Germany        Large  \n",
              "1              Japan        Small  \n",
              "2     United Kingdom       Medium  \n",
              "3           Honduras        Small  \n",
              "4      United States        Large  \n",
              "..               ...          ...  \n",
              "602    United States       Medium  \n",
              "603    United States       Medium  \n",
              "604    United States       Medium  \n",
              "605    United States       Medium  \n",
              "606    United States        Large  \n",
              "\n",
              "[607 rows x 10 columns]"
            ],
            "text/html": [
              "\n",
              "  <div id=\"df-e2130343-ee22-4d89-8cd3-b96abc2203e6\">\n",
              "    <div class=\"colab-df-container\">\n",
              "      <div>\n",
              "<style scoped>\n",
              "    .dataframe tbody tr th:only-of-type {\n",
              "        vertical-align: middle;\n",
              "    }\n",
              "\n",
              "    .dataframe tbody tr th {\n",
              "        vertical-align: top;\n",
              "    }\n",
              "\n",
              "    .dataframe thead th {\n",
              "        text-align: right;\n",
              "    }\n",
              "</style>\n",
              "<table border=\"1\" class=\"dataframe\">\n",
              "  <thead>\n",
              "    <tr style=\"text-align: right;\">\n",
              "      <th></th>\n",
              "      <th>Cluster</th>\n",
              "      <th>work_year</th>\n",
              "      <th>experience_level</th>\n",
              "      <th>employment_type</th>\n",
              "      <th>job_title</th>\n",
              "      <th>salary</th>\n",
              "      <th>employee_residence</th>\n",
              "      <th>job_type</th>\n",
              "      <th>company_location</th>\n",
              "      <th>company_size</th>\n",
              "    </tr>\n",
              "  </thead>\n",
              "  <tbody>\n",
              "    <tr>\n",
              "      <th>0</th>\n",
              "      <td>1</td>\n",
              "      <td>2020</td>\n",
              "      <td>Mid</td>\n",
              "      <td>Full-time</td>\n",
              "      <td>Data Scientist</td>\n",
              "      <td>79833</td>\n",
              "      <td>Germany</td>\n",
              "      <td>onsite</td>\n",
              "      <td>Germany</td>\n",
              "      <td>Large</td>\n",
              "    </tr>\n",
              "    <tr>\n",
              "      <th>1</th>\n",
              "      <td>2</td>\n",
              "      <td>2020</td>\n",
              "      <td>Senior</td>\n",
              "      <td>Full-time</td>\n",
              "      <td>Machine Learning Scientist</td>\n",
              "      <td>260000</td>\n",
              "      <td>Japan</td>\n",
              "      <td>onsite</td>\n",
              "      <td>Japan</td>\n",
              "      <td>Small</td>\n",
              "    </tr>\n",
              "    <tr>\n",
              "      <th>2</th>\n",
              "      <td>0</td>\n",
              "      <td>2020</td>\n",
              "      <td>Senior</td>\n",
              "      <td>Full-time</td>\n",
              "      <td>Big Data Engineer</td>\n",
              "      <td>109024</td>\n",
              "      <td>United Kingdom</td>\n",
              "      <td>hybrid</td>\n",
              "      <td>United Kingdom</td>\n",
              "      <td>Medium</td>\n",
              "    </tr>\n",
              "    <tr>\n",
              "      <th>3</th>\n",
              "      <td>1</td>\n",
              "      <td>2020</td>\n",
              "      <td>Mid</td>\n",
              "      <td>Full-time</td>\n",
              "      <td>Product Data Analyst</td>\n",
              "      <td>20000</td>\n",
              "      <td>Honduras</td>\n",
              "      <td>onsite</td>\n",
              "      <td>Honduras</td>\n",
              "      <td>Small</td>\n",
              "    </tr>\n",
              "    <tr>\n",
              "      <th>4</th>\n",
              "      <td>0</td>\n",
              "      <td>2020</td>\n",
              "      <td>Senior</td>\n",
              "      <td>Full-time</td>\n",
              "      <td>Machine Learning Engineer</td>\n",
              "      <td>150000</td>\n",
              "      <td>United States</td>\n",
              "      <td>hybrid</td>\n",
              "      <td>United States</td>\n",
              "      <td>Large</td>\n",
              "    </tr>\n",
              "    <tr>\n",
              "      <th>...</th>\n",
              "      <td>...</td>\n",
              "      <td>...</td>\n",
              "      <td>...</td>\n",
              "      <td>...</td>\n",
              "      <td>...</td>\n",
              "      <td>...</td>\n",
              "      <td>...</td>\n",
              "      <td>...</td>\n",
              "      <td>...</td>\n",
              "      <td>...</td>\n",
              "    </tr>\n",
              "    <tr>\n",
              "      <th>602</th>\n",
              "      <td>0</td>\n",
              "      <td>2022</td>\n",
              "      <td>Senior</td>\n",
              "      <td>Full-time</td>\n",
              "      <td>Data Engineer</td>\n",
              "      <td>154000</td>\n",
              "      <td>United States</td>\n",
              "      <td>remote</td>\n",
              "      <td>United States</td>\n",
              "      <td>Medium</td>\n",
              "    </tr>\n",
              "    <tr>\n",
              "      <th>603</th>\n",
              "      <td>0</td>\n",
              "      <td>2022</td>\n",
              "      <td>Senior</td>\n",
              "      <td>Full-time</td>\n",
              "      <td>Data Engineer</td>\n",
              "      <td>126000</td>\n",
              "      <td>United States</td>\n",
              "      <td>remote</td>\n",
              "      <td>United States</td>\n",
              "      <td>Medium</td>\n",
              "    </tr>\n",
              "    <tr>\n",
              "      <th>604</th>\n",
              "      <td>2</td>\n",
              "      <td>2022</td>\n",
              "      <td>Senior</td>\n",
              "      <td>Full-time</td>\n",
              "      <td>Data Analyst</td>\n",
              "      <td>129000</td>\n",
              "      <td>United States</td>\n",
              "      <td>onsite</td>\n",
              "      <td>United States</td>\n",
              "      <td>Medium</td>\n",
              "    </tr>\n",
              "    <tr>\n",
              "      <th>605</th>\n",
              "      <td>0</td>\n",
              "      <td>2022</td>\n",
              "      <td>Senior</td>\n",
              "      <td>Full-time</td>\n",
              "      <td>Data Analyst</td>\n",
              "      <td>150000</td>\n",
              "      <td>United States</td>\n",
              "      <td>remote</td>\n",
              "      <td>United States</td>\n",
              "      <td>Medium</td>\n",
              "    </tr>\n",
              "    <tr>\n",
              "      <th>606</th>\n",
              "      <td>1</td>\n",
              "      <td>2022</td>\n",
              "      <td>Mid</td>\n",
              "      <td>Full-time</td>\n",
              "      <td>AI Scientist</td>\n",
              "      <td>200000</td>\n",
              "      <td>India</td>\n",
              "      <td>remote</td>\n",
              "      <td>United States</td>\n",
              "      <td>Large</td>\n",
              "    </tr>\n",
              "  </tbody>\n",
              "</table>\n",
              "<p>607 rows × 10 columns</p>\n",
              "</div>\n",
              "      <button class=\"colab-df-convert\" onclick=\"convertToInteractive('df-e2130343-ee22-4d89-8cd3-b96abc2203e6')\"\n",
              "              title=\"Convert this dataframe to an interactive table.\"\n",
              "              style=\"display:none;\">\n",
              "        \n",
              "  <svg xmlns=\"http://www.w3.org/2000/svg\" height=\"24px\"viewBox=\"0 0 24 24\"\n",
              "       width=\"24px\">\n",
              "    <path d=\"M0 0h24v24H0V0z\" fill=\"none\"/>\n",
              "    <path d=\"M18.56 5.44l.94 2.06.94-2.06 2.06-.94-2.06-.94-.94-2.06-.94 2.06-2.06.94zm-11 1L8.5 8.5l.94-2.06 2.06-.94-2.06-.94L8.5 2.5l-.94 2.06-2.06.94zm10 10l.94 2.06.94-2.06 2.06-.94-2.06-.94-.94-2.06-.94 2.06-2.06.94z\"/><path d=\"M17.41 7.96l-1.37-1.37c-.4-.4-.92-.59-1.43-.59-.52 0-1.04.2-1.43.59L10.3 9.45l-7.72 7.72c-.78.78-.78 2.05 0 2.83L4 21.41c.39.39.9.59 1.41.59.51 0 1.02-.2 1.41-.59l7.78-7.78 2.81-2.81c.8-.78.8-2.07 0-2.86zM5.41 20L4 18.59l7.72-7.72 1.47 1.35L5.41 20z\"/>\n",
              "  </svg>\n",
              "      </button>\n",
              "      \n",
              "  <style>\n",
              "    .colab-df-container {\n",
              "      display:flex;\n",
              "      flex-wrap:wrap;\n",
              "      gap: 12px;\n",
              "    }\n",
              "\n",
              "    .colab-df-convert {\n",
              "      background-color: #E8F0FE;\n",
              "      border: none;\n",
              "      border-radius: 50%;\n",
              "      cursor: pointer;\n",
              "      display: none;\n",
              "      fill: #1967D2;\n",
              "      height: 32px;\n",
              "      padding: 0 0 0 0;\n",
              "      width: 32px;\n",
              "    }\n",
              "\n",
              "    .colab-df-convert:hover {\n",
              "      background-color: #E2EBFA;\n",
              "      box-shadow: 0px 1px 2px rgba(60, 64, 67, 0.3), 0px 1px 3px 1px rgba(60, 64, 67, 0.15);\n",
              "      fill: #174EA6;\n",
              "    }\n",
              "\n",
              "    [theme=dark] .colab-df-convert {\n",
              "      background-color: #3B4455;\n",
              "      fill: #D2E3FC;\n",
              "    }\n",
              "\n",
              "    [theme=dark] .colab-df-convert:hover {\n",
              "      background-color: #434B5C;\n",
              "      box-shadow: 0px 1px 3px 1px rgba(0, 0, 0, 0.15);\n",
              "      filter: drop-shadow(0px 1px 2px rgba(0, 0, 0, 0.3));\n",
              "      fill: #FFFFFF;\n",
              "    }\n",
              "  </style>\n",
              "\n",
              "      <script>\n",
              "        const buttonEl =\n",
              "          document.querySelector('#df-e2130343-ee22-4d89-8cd3-b96abc2203e6 button.colab-df-convert');\n",
              "        buttonEl.style.display =\n",
              "          google.colab.kernel.accessAllowed ? 'block' : 'none';\n",
              "\n",
              "        async function convertToInteractive(key) {\n",
              "          const element = document.querySelector('#df-e2130343-ee22-4d89-8cd3-b96abc2203e6');\n",
              "          const dataTable =\n",
              "            await google.colab.kernel.invokeFunction('convertToInteractive',\n",
              "                                                     [key], {});\n",
              "          if (!dataTable) return;\n",
              "\n",
              "          const docLinkHtml = 'Like what you see? Visit the ' +\n",
              "            '<a target=\"_blank\" href=https://colab.research.google.com/notebooks/data_table.ipynb>data table notebook</a>'\n",
              "            + ' to learn more about interactive tables.';\n",
              "          element.innerHTML = '';\n",
              "          dataTable['output_type'] = 'display_data';\n",
              "          await google.colab.output.renderOutput(dataTable, element);\n",
              "          const docLink = document.createElement('div');\n",
              "          docLink.innerHTML = docLinkHtml;\n",
              "          element.appendChild(docLink);\n",
              "        }\n",
              "      </script>\n",
              "    </div>\n",
              "  </div>\n",
              "  "
            ]
          },
          "metadata": {},
          "execution_count": 580
        }
      ]
    },
    {
      "cell_type": "code",
      "source": [
        "df['Cluster'].value_counts()"
      ],
      "metadata": {
        "colab": {
          "base_uri": "https://localhost:8080/"
        },
        "id": "DA0-PQ3iNao_",
        "outputId": "2c40b0f4-a013-4821-a13f-ab31cadf189b"
      },
      "execution_count": null,
      "outputs": [
        {
          "output_type": "execute_result",
          "data": {
            "text/plain": [
              "0    326\n",
              "1    209\n",
              "2     72\n",
              "Name: Cluster, dtype: int64"
            ]
          },
          "metadata": {},
          "execution_count": 581
        }
      ]
    },
    {
      "cell_type": "code",
      "source": [
        "df = pd.read_csv('ds_salaries.csv')\n",
        "df = df.drop(columns='Unnamed: 0')\n",
        "df = df.drop(columns='experience_level')\n",
        "df = df.drop(columns='employment_type')\n",
        "df = df.drop(columns='job_title')\n",
        "df = df.drop(columns= 'salary')\n",
        "df = df.drop(columns='salary_currency')\n",
        "df = df.drop(columns='employee_residence')\n",
        "df = df.drop(columns='remote_ratio')\n",
        "df = df.drop(columns= 'company_location')\n",
        "df = df.drop(columns='company_size')\n",
        "df.head()"
      ],
      "metadata": {
        "colab": {
          "base_uri": "https://localhost:8080/",
          "height": 206
        },
        "id": "M2bNiBMhgUqP",
        "outputId": "b1cb0568-722a-461f-e47c-a692e548ca31"
      },
      "execution_count": null,
      "outputs": [
        {
          "output_type": "execute_result",
          "data": {
            "text/plain": [
              "   work_year  salary_in_usd\n",
              "0       2020          79833\n",
              "1       2020         260000\n",
              "2       2020         109024\n",
              "3       2020          20000\n",
              "4       2020         150000"
            ],
            "text/html": [
              "\n",
              "  <div id=\"df-e8f4462c-85c9-4ba6-b7a0-53d4a1c83150\">\n",
              "    <div class=\"colab-df-container\">\n",
              "      <div>\n",
              "<style scoped>\n",
              "    .dataframe tbody tr th:only-of-type {\n",
              "        vertical-align: middle;\n",
              "    }\n",
              "\n",
              "    .dataframe tbody tr th {\n",
              "        vertical-align: top;\n",
              "    }\n",
              "\n",
              "    .dataframe thead th {\n",
              "        text-align: right;\n",
              "    }\n",
              "</style>\n",
              "<table border=\"1\" class=\"dataframe\">\n",
              "  <thead>\n",
              "    <tr style=\"text-align: right;\">\n",
              "      <th></th>\n",
              "      <th>work_year</th>\n",
              "      <th>salary_in_usd</th>\n",
              "    </tr>\n",
              "  </thead>\n",
              "  <tbody>\n",
              "    <tr>\n",
              "      <th>0</th>\n",
              "      <td>2020</td>\n",
              "      <td>79833</td>\n",
              "    </tr>\n",
              "    <tr>\n",
              "      <th>1</th>\n",
              "      <td>2020</td>\n",
              "      <td>260000</td>\n",
              "    </tr>\n",
              "    <tr>\n",
              "      <th>2</th>\n",
              "      <td>2020</td>\n",
              "      <td>109024</td>\n",
              "    </tr>\n",
              "    <tr>\n",
              "      <th>3</th>\n",
              "      <td>2020</td>\n",
              "      <td>20000</td>\n",
              "    </tr>\n",
              "    <tr>\n",
              "      <th>4</th>\n",
              "      <td>2020</td>\n",
              "      <td>150000</td>\n",
              "    </tr>\n",
              "  </tbody>\n",
              "</table>\n",
              "</div>\n",
              "      <button class=\"colab-df-convert\" onclick=\"convertToInteractive('df-e8f4462c-85c9-4ba6-b7a0-53d4a1c83150')\"\n",
              "              title=\"Convert this dataframe to an interactive table.\"\n",
              "              style=\"display:none;\">\n",
              "        \n",
              "  <svg xmlns=\"http://www.w3.org/2000/svg\" height=\"24px\"viewBox=\"0 0 24 24\"\n",
              "       width=\"24px\">\n",
              "    <path d=\"M0 0h24v24H0V0z\" fill=\"none\"/>\n",
              "    <path d=\"M18.56 5.44l.94 2.06.94-2.06 2.06-.94-2.06-.94-.94-2.06-.94 2.06-2.06.94zm-11 1L8.5 8.5l.94-2.06 2.06-.94-2.06-.94L8.5 2.5l-.94 2.06-2.06.94zm10 10l.94 2.06.94-2.06 2.06-.94-2.06-.94-.94-2.06-.94 2.06-2.06.94z\"/><path d=\"M17.41 7.96l-1.37-1.37c-.4-.4-.92-.59-1.43-.59-.52 0-1.04.2-1.43.59L10.3 9.45l-7.72 7.72c-.78.78-.78 2.05 0 2.83L4 21.41c.39.39.9.59 1.41.59.51 0 1.02-.2 1.41-.59l7.78-7.78 2.81-2.81c.8-.78.8-2.07 0-2.86zM5.41 20L4 18.59l7.72-7.72 1.47 1.35L5.41 20z\"/>\n",
              "  </svg>\n",
              "      </button>\n",
              "      \n",
              "  <style>\n",
              "    .colab-df-container {\n",
              "      display:flex;\n",
              "      flex-wrap:wrap;\n",
              "      gap: 12px;\n",
              "    }\n",
              "\n",
              "    .colab-df-convert {\n",
              "      background-color: #E8F0FE;\n",
              "      border: none;\n",
              "      border-radius: 50%;\n",
              "      cursor: pointer;\n",
              "      display: none;\n",
              "      fill: #1967D2;\n",
              "      height: 32px;\n",
              "      padding: 0 0 0 0;\n",
              "      width: 32px;\n",
              "    }\n",
              "\n",
              "    .colab-df-convert:hover {\n",
              "      background-color: #E2EBFA;\n",
              "      box-shadow: 0px 1px 2px rgba(60, 64, 67, 0.3), 0px 1px 3px 1px rgba(60, 64, 67, 0.15);\n",
              "      fill: #174EA6;\n",
              "    }\n",
              "\n",
              "    [theme=dark] .colab-df-convert {\n",
              "      background-color: #3B4455;\n",
              "      fill: #D2E3FC;\n",
              "    }\n",
              "\n",
              "    [theme=dark] .colab-df-convert:hover {\n",
              "      background-color: #434B5C;\n",
              "      box-shadow: 0px 1px 3px 1px rgba(0, 0, 0, 0.15);\n",
              "      filter: drop-shadow(0px 1px 2px rgba(0, 0, 0, 0.3));\n",
              "      fill: #FFFFFF;\n",
              "    }\n",
              "  </style>\n",
              "\n",
              "      <script>\n",
              "        const buttonEl =\n",
              "          document.querySelector('#df-e8f4462c-85c9-4ba6-b7a0-53d4a1c83150 button.colab-df-convert');\n",
              "        buttonEl.style.display =\n",
              "          google.colab.kernel.accessAllowed ? 'block' : 'none';\n",
              "\n",
              "        async function convertToInteractive(key) {\n",
              "          const element = document.querySelector('#df-e8f4462c-85c9-4ba6-b7a0-53d4a1c83150');\n",
              "          const dataTable =\n",
              "            await google.colab.kernel.invokeFunction('convertToInteractive',\n",
              "                                                     [key], {});\n",
              "          if (!dataTable) return;\n",
              "\n",
              "          const docLinkHtml = 'Like what you see? Visit the ' +\n",
              "            '<a target=\"_blank\" href=https://colab.research.google.com/notebooks/data_table.ipynb>data table notebook</a>'\n",
              "            + ' to learn more about interactive tables.';\n",
              "          element.innerHTML = '';\n",
              "          dataTable['output_type'] = 'display_data';\n",
              "          await google.colab.output.renderOutput(dataTable, element);\n",
              "          const docLink = document.createElement('div');\n",
              "          docLink.innerHTML = docLinkHtml;\n",
              "          element.appendChild(docLink);\n",
              "        }\n",
              "      </script>\n",
              "    </div>\n",
              "  </div>\n",
              "  "
            ]
          },
          "metadata": {},
          "execution_count": 582
        }
      ]
    },
    {
      "cell_type": "code",
      "source": [
        "# Preprocessing the data to make it visualizable\n",
        "\n",
        "# Scaling the Data\n",
        "scaler = StandardScaler()\n",
        "X_scaled = scaler.fit_transform(df)\n",
        "\n",
        "# Normalizing the Data\n",
        "X_normalized = normalize(X_scaled)\n",
        "\n",
        "# Converting the numpy array into a pandas DataFrame\n",
        "X_normalized = pd.DataFrame(X_normalized)\n",
        "\n",
        "# Reducing the dimensions of the data\n",
        "pca = PCA(n_components = 2)\n",
        "X_principal = pca.fit_transform(X_normalized)\n",
        "X_principal = pd.DataFrame(X_principal)\n",
        "X_principal.columns = ['P1', 'P2']\n",
        "\n",
        "X_principal.head()"
      ],
      "metadata": {
        "colab": {
          "base_uri": "https://localhost:8080/",
          "height": 206
        },
        "id": "lI-Hg9Yzge7q",
        "outputId": "bda939b7-7f77-424c-9607-34a3ddc0c3ce"
      },
      "execution_count": null,
      "outputs": [
        {
          "output_type": "execute_result",
          "data": {
            "text/plain": [
              "         P1        P2\n",
              "0  1.049570  0.220670\n",
              "1  0.461470  0.999480\n",
              "2  1.003042  0.413736\n",
              "3  1.036743 -0.125473\n",
              "4  0.875933  0.660724"
            ],
            "text/html": [
              "\n",
              "  <div id=\"df-11361cab-e787-40d0-9706-db0358454602\">\n",
              "    <div class=\"colab-df-container\">\n",
              "      <div>\n",
              "<style scoped>\n",
              "    .dataframe tbody tr th:only-of-type {\n",
              "        vertical-align: middle;\n",
              "    }\n",
              "\n",
              "    .dataframe tbody tr th {\n",
              "        vertical-align: top;\n",
              "    }\n",
              "\n",
              "    .dataframe thead th {\n",
              "        text-align: right;\n",
              "    }\n",
              "</style>\n",
              "<table border=\"1\" class=\"dataframe\">\n",
              "  <thead>\n",
              "    <tr style=\"text-align: right;\">\n",
              "      <th></th>\n",
              "      <th>P1</th>\n",
              "      <th>P2</th>\n",
              "    </tr>\n",
              "  </thead>\n",
              "  <tbody>\n",
              "    <tr>\n",
              "      <th>0</th>\n",
              "      <td>1.049570</td>\n",
              "      <td>0.220670</td>\n",
              "    </tr>\n",
              "    <tr>\n",
              "      <th>1</th>\n",
              "      <td>0.461470</td>\n",
              "      <td>0.999480</td>\n",
              "    </tr>\n",
              "    <tr>\n",
              "      <th>2</th>\n",
              "      <td>1.003042</td>\n",
              "      <td>0.413736</td>\n",
              "    </tr>\n",
              "    <tr>\n",
              "      <th>3</th>\n",
              "      <td>1.036743</td>\n",
              "      <td>-0.125473</td>\n",
              "    </tr>\n",
              "    <tr>\n",
              "      <th>4</th>\n",
              "      <td>0.875933</td>\n",
              "      <td>0.660724</td>\n",
              "    </tr>\n",
              "  </tbody>\n",
              "</table>\n",
              "</div>\n",
              "      <button class=\"colab-df-convert\" onclick=\"convertToInteractive('df-11361cab-e787-40d0-9706-db0358454602')\"\n",
              "              title=\"Convert this dataframe to an interactive table.\"\n",
              "              style=\"display:none;\">\n",
              "        \n",
              "  <svg xmlns=\"http://www.w3.org/2000/svg\" height=\"24px\"viewBox=\"0 0 24 24\"\n",
              "       width=\"24px\">\n",
              "    <path d=\"M0 0h24v24H0V0z\" fill=\"none\"/>\n",
              "    <path d=\"M18.56 5.44l.94 2.06.94-2.06 2.06-.94-2.06-.94-.94-2.06-.94 2.06-2.06.94zm-11 1L8.5 8.5l.94-2.06 2.06-.94-2.06-.94L8.5 2.5l-.94 2.06-2.06.94zm10 10l.94 2.06.94-2.06 2.06-.94-2.06-.94-.94-2.06-.94 2.06-2.06.94z\"/><path d=\"M17.41 7.96l-1.37-1.37c-.4-.4-.92-.59-1.43-.59-.52 0-1.04.2-1.43.59L10.3 9.45l-7.72 7.72c-.78.78-.78 2.05 0 2.83L4 21.41c.39.39.9.59 1.41.59.51 0 1.02-.2 1.41-.59l7.78-7.78 2.81-2.81c.8-.78.8-2.07 0-2.86zM5.41 20L4 18.59l7.72-7.72 1.47 1.35L5.41 20z\"/>\n",
              "  </svg>\n",
              "      </button>\n",
              "      \n",
              "  <style>\n",
              "    .colab-df-container {\n",
              "      display:flex;\n",
              "      flex-wrap:wrap;\n",
              "      gap: 12px;\n",
              "    }\n",
              "\n",
              "    .colab-df-convert {\n",
              "      background-color: #E8F0FE;\n",
              "      border: none;\n",
              "      border-radius: 50%;\n",
              "      cursor: pointer;\n",
              "      display: none;\n",
              "      fill: #1967D2;\n",
              "      height: 32px;\n",
              "      padding: 0 0 0 0;\n",
              "      width: 32px;\n",
              "    }\n",
              "\n",
              "    .colab-df-convert:hover {\n",
              "      background-color: #E2EBFA;\n",
              "      box-shadow: 0px 1px 2px rgba(60, 64, 67, 0.3), 0px 1px 3px 1px rgba(60, 64, 67, 0.15);\n",
              "      fill: #174EA6;\n",
              "    }\n",
              "\n",
              "    [theme=dark] .colab-df-convert {\n",
              "      background-color: #3B4455;\n",
              "      fill: #D2E3FC;\n",
              "    }\n",
              "\n",
              "    [theme=dark] .colab-df-convert:hover {\n",
              "      background-color: #434B5C;\n",
              "      box-shadow: 0px 1px 3px 1px rgba(0, 0, 0, 0.15);\n",
              "      filter: drop-shadow(0px 1px 2px rgba(0, 0, 0, 0.3));\n",
              "      fill: #FFFFFF;\n",
              "    }\n",
              "  </style>\n",
              "\n",
              "      <script>\n",
              "        const buttonEl =\n",
              "          document.querySelector('#df-11361cab-e787-40d0-9706-db0358454602 button.colab-df-convert');\n",
              "        buttonEl.style.display =\n",
              "          google.colab.kernel.accessAllowed ? 'block' : 'none';\n",
              "\n",
              "        async function convertToInteractive(key) {\n",
              "          const element = document.querySelector('#df-11361cab-e787-40d0-9706-db0358454602');\n",
              "          const dataTable =\n",
              "            await google.colab.kernel.invokeFunction('convertToInteractive',\n",
              "                                                     [key], {});\n",
              "          if (!dataTable) return;\n",
              "\n",
              "          const docLinkHtml = 'Like what you see? Visit the ' +\n",
              "            '<a target=\"_blank\" href=https://colab.research.google.com/notebooks/data_table.ipynb>data table notebook</a>'\n",
              "            + ' to learn more about interactive tables.';\n",
              "          element.innerHTML = '';\n",
              "          dataTable['output_type'] = 'display_data';\n",
              "          await google.colab.output.renderOutput(dataTable, element);\n",
              "          const docLink = document.createElement('div');\n",
              "          docLink.innerHTML = docLinkHtml;\n",
              "          element.appendChild(docLink);\n",
              "        }\n",
              "      </script>\n",
              "    </div>\n",
              "  </div>\n",
              "  "
            ]
          },
          "metadata": {},
          "execution_count": 583
        }
      ]
    },
    {
      "cell_type": "code",
      "source": [
        "# Building the clustering model\n",
        "spectral_model_rbf = SpectralClustering(n_clusters = 2, affinity ='rbf')\n",
        "\n",
        "# Training the model and Storing the predicted cluster labels\n",
        "labels_rbf = spectral_model_rbf.fit_predict(X_principal)\n"
      ],
      "metadata": {
        "id": "iZhpc0-ZgnDK"
      },
      "execution_count": null,
      "outputs": []
    },
    {
      "cell_type": "code",
      "source": [
        "# Building the label to colour mapping\n",
        "colours = {}\n",
        "colours[0] = 'b'\n",
        "colours[1] = 'y'\n",
        "colours[2] = 'r'\n",
        "\n",
        "# Building the colour vector for each data point\n",
        "cvec = [colours[label] for label in labels_rbf]\n",
        "\n",
        "# Plotting the clustered scatter plot\n",
        "\n",
        "b = plt.scatter(X_principal['P1'], X_principal['P2'], color ='b');\n",
        "y = plt.scatter(X_principal['P1'], X_principal['P2'], color ='y');\n",
        "\n",
        "plt.figure(figsize =(9, 9))\n",
        "plt.scatter(X_principal['P1'], X_principal['P2'], c = cvec)\n",
        "plt.legend((b, y), ('Label 0', 'Label 1'))\n",
        "plt.show()\n"
      ],
      "metadata": {
        "id": "TfIxlYdjPnSC",
        "colab": {
          "base_uri": "https://localhost:8080/",
          "height": 785
        },
        "outputId": "0d5aed88-61c3-457e-b66a-8a131b18d5df"
      },
      "execution_count": null,
      "outputs": [
        {
          "output_type": "display_data",
          "data": {
            "text/plain": [
              "<Figure size 432x288 with 1 Axes>"
            ],
            "image/png": "[encoded data removed]"
          },
          "metadata": {
            "needs_background": "light"
          }
        },
        {
          "output_type": "display_data",
          "data": {
            "text/plain": [
              "<Figure size 648x648 with 1 Axes>"
            ],
            "image/png": "[encoded data removed]"
          },
          "metadata": {
            "needs_background": "light"
          }
        }
      ]
    },
    {
      "cell_type": "code",
      "source": [
        "# Building the clustering model\n",
        "spectral_model_nn = SpectralClustering(n_clusters = 2, affinity ='nearest_neighbors')\n",
        "\n",
        "# Training the model and Storing the predicted cluster labels\n",
        "labels_nn = spectral_model_nn.fit_predict(X_principal)\n"
      ],
      "metadata": {
        "id": "giI83QKMgr7O"
      },
      "execution_count": null,
      "outputs": []
    },
    {
      "cell_type": "code",
      "source": [
        "# List of different values of affinity\n",
        "affinity = ['rbf', 'nearest-neighbours']\n",
        "\n",
        "# List of Silhouette Scores\n",
        "s_scores = []\n",
        "\n",
        "# Evaluating the performance\n",
        "s_scores.append(silhouette_score(df, labels_rbf))\n",
        "s_scores.append(silhouette_score(df, labels_nn))\n",
        "\n",
        "print(s_scores)"
      ],
      "metadata": {
        "colab": {
          "base_uri": "https://localhost:8080/"
        },
        "id": "HyxMeHiCgtaS",
        "outputId": "80deca33-7389-4245-8b24-086cbd0934d5"
      },
      "execution_count": null,
      "outputs": [
        {
          "output_type": "stream",
          "name": "stdout",
          "text": [
            "[0.08340012329153063, 0.07095365013255728]\n"
          ]
        }
      ]
    }
  ]
}